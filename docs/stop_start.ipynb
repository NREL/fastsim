{
 "cells": [
  {
   "cell_type": "markdown",
   "metadata": {},
   "source": [
    "# Stop/Start feature test"
   ]
  },
  {
   "cell_type": "code",
   "execution_count": 6,
   "metadata": {
    "ExecuteTime": {
     "end_time": "2018-03-06T22:17:53.637344Z",
     "start_time": "2018-03-06T22:17:53.628816Z"
    }
   },
   "outputs": [],
   "source": [
    "import sys\n",
    "if '../src' not in sys.path:\n",
    "    sys.path.append('../src')\n",
    "import os\n",
    "import numpy as np\n",
    "import time\n",
    "import pandas as pd\n",
    "import matplotlib.pyplot as plt\n",
    "import importlib\n",
    "# import seaborn as sns\n",
    "# sns.set(font_scale=2, style='whitegrid')\n",
    "\n",
    "%matplotlib inline"
   ]
  },
  {
   "cell_type": "code",
   "execution_count": 7,
   "metadata": {
    "ExecuteTime": {
     "end_time": "2018-03-06T22:17:53.637344Z",
     "start_time": "2018-03-06T22:17:53.628816Z"
    }
   },
   "outputs": [
    {
     "data": {
      "text/plain": [
       "<module 'LoadData' from '../src\\\\LoadData.py'>"
      ]
     },
     "execution_count": 7,
     "metadata": {},
     "output_type": "execute_result"
    }
   ],
   "source": [
    "# local modules\n",
    "import SimDrive\n",
    "importlib.reload(SimDrive)\n",
    "import LoadData\n",
    "importlib.reload(LoadData)"
   ]
  },
  {
   "cell_type": "code",
   "execution_count": 8,
   "metadata": {
    "ExecuteTime": {
     "end_time": "2018-03-06T22:17:53.655894Z",
     "start_time": "2018-03-06T22:17:53.639578Z"
    }
   },
   "outputs": [],
   "source": [
    "cyc = LoadData.Cycle(\"udds\")"
   ]
  },
  {
   "cell_type": "code",
   "execution_count": 9,
   "metadata": {
    "ExecuteTime": {
     "end_time": "2018-03-06T22:17:53.664162Z",
     "start_time": "2018-03-06T22:17:53.657556Z"
    }
   },
   "outputs": [],
   "source": [
    "veh0 = LoadData.Vehicle(27)\n",
    "veh1 = LoadData.Vehicle(28)"
   ]
  },
  {
   "cell_type": "markdown",
   "metadata": {},
   "source": [
    "### Run FASTSim\n",
    "\n",
    "The \"sim_drive\" function takes the drive cycle and vehicle models defined above as inputs. The output is a dictionary of time series and scalar values described the simulation results. Typically of interest is the \"gge\" key, which is an array of time series energy consumption data at each time step in the drive cycle. Additionally, to add a result from the simulator to the output dictionary, a user can modify the sim_drive_sub function source code to include the desired field.\n",
    "\n",
    "If running FASTSim in batch over many drive cycles, the output from \"sim_drive\" can be written to files or database for batch post-processing. "
   ]
  },
  {
   "cell_type": "code",
   "execution_count": 10,
   "metadata": {
    "ExecuteTime": {
     "end_time": "2018-03-06T22:17:54.227462Z",
     "start_time": "2018-03-06T22:17:53.665928Z"
    }
   },
   "outputs": [
    {
     "ename": "AttributeError",
     "evalue": "'Vehicle' object has no attribute 'mcFullEffArray'",
     "output_type": "error",
     "traceback": [
      "\u001b[1;31m---------------------------------------------------------------------------\u001b[0m",
      "\u001b[1;31mAttributeError\u001b[0m                            Traceback (most recent call last)",
      "\u001b[1;32m<ipython-input-10-203a42724119>\u001b[0m in \u001b[0;36m<module>\u001b[1;34m\u001b[0m\n\u001b[0;32m      4\u001b[0m \u001b[1;33m\u001b[0m\u001b[0m\n\u001b[0;32m      5\u001b[0m \u001b[0msim_drive1\u001b[0m \u001b[1;33m=\u001b[0m \u001b[0mSimDrive\u001b[0m\u001b[1;33m.\u001b[0m\u001b[0mSimDrive\u001b[0m\u001b[1;33m(\u001b[0m\u001b[1;33m)\u001b[0m\u001b[1;33m\u001b[0m\u001b[1;33m\u001b[0m\u001b[0m\n\u001b[1;32m----> 6\u001b[1;33m \u001b[0msim_drive1\u001b[0m\u001b[1;33m.\u001b[0m\u001b[0msim_drive\u001b[0m\u001b[1;33m(\u001b[0m\u001b[0mcyc\u001b[0m\u001b[1;33m,\u001b[0m \u001b[0mveh1\u001b[0m\u001b[1;33m)\u001b[0m\u001b[1;33m\u001b[0m\u001b[1;33m\u001b[0m\u001b[0m\n\u001b[0m\u001b[0;32m      7\u001b[0m \u001b[0moutput1\u001b[0m \u001b[1;33m=\u001b[0m \u001b[0msim_drive0\u001b[0m\u001b[1;33m.\u001b[0m\u001b[0mget_output\u001b[0m\u001b[1;33m(\u001b[0m\u001b[0mcyc\u001b[0m\u001b[1;33m,\u001b[0m \u001b[0mveh1\u001b[0m\u001b[1;33m)\u001b[0m\u001b[1;33m\u001b[0m\u001b[1;33m\u001b[0m\u001b[0m\n",
      "\u001b[1;32m~\\Documents\\GitHub\\fastsim\\src\\SimDrive.py\u001b[0m in \u001b[0;36msim_drive\u001b[1;34m(self, cyc, veh, initSoc)\u001b[0m\n\u001b[0;32m     50\u001b[0m             \u001b[1;32mwhile\u001b[0m \u001b[0mess2fuelKwh\u001b[0m \u001b[1;33m>\u001b[0m \u001b[0mveh\u001b[0m\u001b[1;33m.\u001b[0m\u001b[0messToFuelOkError\u001b[0m \u001b[1;32mand\u001b[0m \u001b[0msim_count\u001b[0m \u001b[1;33m<\u001b[0m \u001b[1;36m30\u001b[0m\u001b[1;33m:\u001b[0m\u001b[1;33m\u001b[0m\u001b[1;33m\u001b[0m\u001b[0m\n\u001b[0;32m     51\u001b[0m                 \u001b[0msim_count\u001b[0m \u001b[1;33m+=\u001b[0m \u001b[1;36m1\u001b[0m\u001b[1;33m\u001b[0m\u001b[1;33m\u001b[0m\u001b[0m\n\u001b[1;32m---> 52\u001b[1;33m                 \u001b[0mself\u001b[0m\u001b[1;33m.\u001b[0m\u001b[0msim_drive_sub\u001b[0m\u001b[1;33m(\u001b[0m\u001b[0mcyc\u001b[0m\u001b[1;33m,\u001b[0m \u001b[0mveh\u001b[0m\u001b[1;33m,\u001b[0m \u001b[0minitSoc\u001b[0m\u001b[1;33m)\u001b[0m\u001b[1;33m\u001b[0m\u001b[1;33m\u001b[0m\u001b[0m\n\u001b[0m\u001b[0;32m     53\u001b[0m                 \u001b[0moutput\u001b[0m \u001b[1;33m=\u001b[0m \u001b[0mself\u001b[0m\u001b[1;33m.\u001b[0m\u001b[0mget_output\u001b[0m\u001b[1;33m(\u001b[0m\u001b[0mcyc\u001b[0m\u001b[1;33m,\u001b[0m \u001b[0mveh\u001b[0m\u001b[1;33m)\u001b[0m\u001b[1;33m\u001b[0m\u001b[1;33m\u001b[0m\u001b[0m\n\u001b[0;32m     54\u001b[0m                 \u001b[0mess2fuelKwh\u001b[0m \u001b[1;33m=\u001b[0m \u001b[0mabs\u001b[0m\u001b[1;33m(\u001b[0m\u001b[0moutput\u001b[0m\u001b[1;33m[\u001b[0m\u001b[1;34m'ess2fuelKwh'\u001b[0m\u001b[1;33m]\u001b[0m\u001b[1;33m)\u001b[0m\u001b[1;33m\u001b[0m\u001b[1;33m\u001b[0m\u001b[0m\n",
      "\u001b[1;32m~\\Documents\\GitHub\\fastsim\\src\\SimDrive.py\u001b[0m in \u001b[0;36msim_drive_sub\u001b[1;34m(self, cyc, veh, initSoc)\u001b[0m\n\u001b[0;32m    103\u001b[0m \u001b[1;33m\u001b[0m\u001b[0m\n\u001b[0;32m    104\u001b[0m             \u001b[0mself\u001b[0m\u001b[1;33m.\u001b[0m\u001b[0mset_misc_calcs\u001b[0m\u001b[1;33m(\u001b[0m\u001b[0mi\u001b[0m\u001b[1;33m,\u001b[0m \u001b[0mcyc\u001b[0m\u001b[1;33m,\u001b[0m \u001b[0mveh\u001b[0m\u001b[1;33m)\u001b[0m\u001b[1;33m\u001b[0m\u001b[1;33m\u001b[0m\u001b[0m\n\u001b[1;32m--> 105\u001b[1;33m             \u001b[0mself\u001b[0m\u001b[1;33m.\u001b[0m\u001b[0mset_comp_lims\u001b[0m\u001b[1;33m(\u001b[0m\u001b[0mi\u001b[0m\u001b[1;33m,\u001b[0m \u001b[0mcyc\u001b[0m\u001b[1;33m,\u001b[0m \u001b[0mveh\u001b[0m\u001b[1;33m)\u001b[0m\u001b[1;33m\u001b[0m\u001b[1;33m\u001b[0m\u001b[0m\n\u001b[0m\u001b[0;32m    106\u001b[0m             \u001b[0mself\u001b[0m\u001b[1;33m.\u001b[0m\u001b[0mset_power_calcs\u001b[0m\u001b[1;33m(\u001b[0m\u001b[0mi\u001b[0m\u001b[1;33m,\u001b[0m \u001b[0mcyc\u001b[0m\u001b[1;33m,\u001b[0m \u001b[0mveh\u001b[0m\u001b[1;33m)\u001b[0m\u001b[1;33m\u001b[0m\u001b[1;33m\u001b[0m\u001b[0m\n\u001b[0;32m    107\u001b[0m             \u001b[0mself\u001b[0m\u001b[1;33m.\u001b[0m\u001b[0mset_speed_dist_calcs\u001b[0m\u001b[1;33m(\u001b[0m\u001b[0mi\u001b[0m\u001b[1;33m,\u001b[0m \u001b[0mcyc\u001b[0m\u001b[1;33m,\u001b[0m \u001b[0mveh\u001b[0m\u001b[1;33m)\u001b[0m\u001b[1;33m\u001b[0m\u001b[1;33m\u001b[0m\u001b[0m\n",
      "\u001b[1;32m~\\Documents\\GitHub\\fastsim\\src\\SimDrive.py\u001b[0m in \u001b[0;36mset_comp_lims\u001b[1;34m(self, i, cyc, veh)\u001b[0m\n\u001b[0;32m    298\u001b[0m                     veh.maxMotorKw, self.curMaxEssChgKw[i] / veh.mcFullEffArray[len(veh.mcFullEffArray) - 1])\n\u001b[0;32m    299\u001b[0m             \u001b[1;32melse\u001b[0m\u001b[1;33m:\u001b[0m\u001b[1;33m\u001b[0m\u001b[1;33m\u001b[0m\u001b[0m\n\u001b[1;32m--> 300\u001b[1;33m                 self.essLimMcRegenKw[i] = min(veh.maxMotorKw, self.curMaxEssChgKw[i] / veh.mcFullEffArray\n\u001b[0m\u001b[0;32m    301\u001b[0m                                                 [max(1, np.argmax(veh.mcKwOutArray > min(veh.maxMotorKw - 0.01, self.curMaxEssChgKw[i] - self.curMaxRoadwayChgKw[i])) - 1)])\n\u001b[0;32m    302\u001b[0m \u001b[1;33m\u001b[0m\u001b[0m\n",
      "\u001b[1;31mAttributeError\u001b[0m: 'Vehicle' object has no attribute 'mcFullEffArray'"
     ]
    }
   ],
   "source": [
    "sim_drive0 = SimDrive.SimDrive()\n",
    "sim_drive0.sim_drive(cyc, veh0)\n",
    "output0 = sim_drive0.get_output(cyc, veh0)\n",
    "\n",
    "sim_drive1 = SimDrive.SimDrive()\n",
    "sim_drive1.sim_drive(cyc, veh1)\n",
    "output1 = sim_drive0.get_output(cyc, veh1)"
   ]
  },
  {
   "cell_type": "markdown",
   "metadata": {},
   "source": [
    "### Results"
   ]
  },
  {
   "cell_type": "code",
   "execution_count": null,
   "metadata": {
    "ExecuteTime": {
     "end_time": "2018-03-06T22:17:54.283575Z",
     "start_time": "2018-03-06T22:17:54.228914Z"
    }
   },
   "outputs": [],
   "source": [
    "df0 = pd.DataFrame.from_dict(output0)[['soc','fcKwInAch']]\n",
    "df0['speed'] = cyc['cycMps'] * 2.23694  # Convert mps to mph\n",
    "\n",
    "df1 = pd.DataFrame.from_dict(output1)[['soc','fcKwInAch']]\n",
    "df1['speed'] = cyc['cycMps'] * 2.23694  # Convert mps to mph"
   ]
  },
  {
   "cell_type": "code",
   "execution_count": null,
   "metadata": {
    "ExecuteTime": {
     "end_time": "2018-03-06T22:17:54.573517Z",
     "start_time": "2018-03-06T22:17:54.285832Z"
    }
   },
   "outputs": [],
   "source": [
    "fig, ax = plt.subplots(figsize=(28, 10))\n",
    "kw_line = df0.loc[0:400, :].fcKwInAch.plot(ax=ax, color='xkcd:bluish', label='CV Pw', linestyle='-')\n",
    "kw_line = df1.loc[0:400, :].fcKwInAch.plot(ax=ax, color='xkcd:pale red', label='HEV Pw', linestyle='-')\n",
    "\n",
    "# ax2 = ax.twinx()\n",
    "# speed_line = df0.loc[0:400, :].speed.plot(color='xkcd:bluish', ax=ax2, label='CV Pw', linestyle='--')\n",
    "# speed_line = df1.loc[0:400, :].speed.plot(color='xkcd:pale red', ax=ax2, label='Speed Pw', linestyle='--')\n",
    "\n",
    "ax.set_xlabel('Cycle Time [s]', weight='bold')\n",
    "ax.set_ylabel('Engine Input Power [kW]', weight='bold', color='xkcd:bluish')\n",
    "ax.tick_params('y', colors='xkcd:bluish')\n",
    "ax.legend()\n",
    "\n",
    "# ax2.set_ylabel('Speed [MPH]', weight='bold', color='xkcd:pale red')\n",
    "# ax2.grid(False)\n",
    "# ax2.tick_params('y', colors='xkcd:pale red')"
   ]
  },
  {
   "cell_type": "code",
   "execution_count": null,
   "metadata": {
    "ExecuteTime": {
     "end_time": "2018-03-06T22:17:54.573517Z",
     "start_time": "2018-03-06T22:17:54.285832Z"
    }
   },
   "outputs": [],
   "source": [
    "fig, ax = plt.subplots(figsize=(28, 10))\n",
    "kw_line = df1.loc[0:400, :].soc.plot(ax=ax, color='xkcd:bluish', label='SOC')\n",
    "\n",
    "ax.set_xlabel('Cycle Time [s]', weight='bold')\n",
    "ax.set_ylabel('SOC', weight='bold', color='xkcd:bluish')\n",
    "ax.tick_params('y', colors='xkcd:bluish')"
   ]
  },
  {
   "cell_type": "code",
   "execution_count": null,
   "metadata": {},
   "outputs": [],
   "source": []
  },
  {
   "cell_type": "code",
   "execution_count": null,
   "metadata": {},
   "outputs": [],
   "source": []
  },
  {
   "cell_type": "code",
   "execution_count": null,
   "metadata": {},
   "outputs": [],
   "source": []
  }
 ],
 "metadata": {
  "hide_input": false,
  "kernelspec": {
   "display_name": "Python 3",
   "language": "python",
   "name": "python3"
  },
  "language_info": {
   "codemirror_mode": {
    "name": "ipython",
    "version": 3
   },
   "file_extension": ".py",
   "mimetype": "text/x-python",
   "name": "python",
   "nbconvert_exporter": "python",
   "pygments_lexer": "ipython3",
   "version": "3.7.3"
  }
 },
 "nbformat": 4,
 "nbformat_minor": 4
}
