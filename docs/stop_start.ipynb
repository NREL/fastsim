{
 "cells": [
  {
   "cell_type": "markdown",
   "metadata": {},
   "source": [
    "# Stop/Start feature test"
   ]
  },
  {
   "cell_type": "code",
   "execution_count": null,
   "metadata": {
    "ExecuteTime": {
     "end_time": "2018-03-06T22:17:53.637344Z",
     "start_time": "2018-03-06T22:17:53.628816Z"
    }
   },
   "outputs": [],
   "source": [
    "import sys\n",
    "sys.path.append('../src')\n",
    "import os\n",
    "import numpy as np\n",
    "import time\n",
    "import pandas as pd\n",
    "import matplotlib.pyplot as plt\n",
    "# import seaborn as sns\n",
    "# sns.set(font_scale=2, style='whitegrid')\n",
    "\n",
    "%matplotlib notebook\n",
    "\n",
    "import FASTSim\n",
    "import importlib\n",
    "importlib.reload(FASTSim)"
   ]
  },
  {
   "cell_type": "code",
   "execution_count": null,
   "metadata": {
    "ExecuteTime": {
     "end_time": "2018-03-06T22:17:53.655894Z",
     "start_time": "2018-03-06T22:17:53.639578Z"
    }
   },
   "outputs": [],
   "source": [
    "cyc = FASTSim.get_standard_cycle(\"UDDS\")"
   ]
  },
  {
   "cell_type": "code",
   "execution_count": null,
   "metadata": {
    "ExecuteTime": {
     "end_time": "2018-03-06T22:17:53.664162Z",
     "start_time": "2018-03-06T22:17:53.657556Z"
    }
   },
   "outputs": [],
   "source": [
    "veh0 = FASTSim.get_veh(6)\n",
    "veh1 = FASTSim.get_veh(27)"
   ]
  },
  {
   "cell_type": "markdown",
   "metadata": {},
   "source": [
    "### Run FASTSim\n",
    "\n",
    "The \"sim_drive\" function takes the drive cycle and vehicle models defined above as inputs. The output is a dictionary of time series and scalar values described the simulation results. Typically of interest is the \"gge\" key, which is an array of time series energy consumption data at each time step in the drive cycle. Additionally, to add a result from the simulator to the output dictionary, a user can modify the sim_drive_sub function source code to include the desired field.\n",
    "\n",
    "If running FASTSim in batch over many drive cycles, the output from \"sim_drive\" can be written to files or database for batch post-processing. "
   ]
  },
  {
   "cell_type": "code",
   "execution_count": null,
   "metadata": {
    "ExecuteTime": {
     "end_time": "2018-03-06T22:17:54.227462Z",
     "start_time": "2018-03-06T22:17:53.665928Z"
    }
   },
   "outputs": [],
   "source": [
    "output0 = FASTSim.sim_drive(cyc, veh0)\n",
    "output1 = FASTSim.sim_drive(cyc, veh1)"
   ]
  },
  {
   "cell_type": "markdown",
   "metadata": {},
   "source": [
    "### Results"
   ]
  },
  {
   "cell_type": "code",
   "execution_count": null,
   "metadata": {
    "ExecuteTime": {
     "end_time": "2018-03-06T22:17:54.283575Z",
     "start_time": "2018-03-06T22:17:54.228914Z"
    }
   },
   "outputs": [],
   "source": [
    "df0 = pd.DataFrame.from_dict(output0)[['soc','fcKwInAch']]\n",
    "df0['speed'] = cyc['cycMps'] * 2.23694  # Convert mps to mph\n",
    "\n",
    "df1 = pd.DataFrame.from_dict(output1)[['soc','fcKwInAch']]\n",
    "df1['speed'] = cyc['cycMps'] * 2.23694  # Convert mps to mph"
   ]
  },
  {
   "cell_type": "code",
   "execution_count": null,
   "metadata": {
    "ExecuteTime": {
     "end_time": "2018-03-06T22:17:54.573517Z",
     "start_time": "2018-03-06T22:17:54.285832Z"
    }
   },
   "outputs": [],
   "source": [
    "fig, ax = plt.subplots(figsize=(28, 10))\n",
    "kw_line = df0.loc[0:400, :].fcKwInAch.plot(ax=ax, color='xkcd:bluish', label='CV Pw', linestyle='-')\n",
    "kw_line = df1.loc[0:400, :].fcKwInAch.plot(ax=ax, color='xkcd:pale red', label='HEV Pw', linestyle='-')\n",
    "\n",
    "# ax2 = ax.twinx()\n",
    "# speed_line = df0.loc[0:400, :].speed.plot(color='xkcd:bluish', ax=ax2, label='CV Pw', linestyle='--')\n",
    "# speed_line = df1.loc[0:400, :].speed.plot(color='xkcd:pale red', ax=ax2, label='Speed Pw', linestyle='--')\n",
    "\n",
    "ax.set_xlabel('Cycle Time [s]', weight='bold')\n",
    "ax.set_ylabel('Engine Input Power [kW]', weight='bold', color='xkcd:bluish')\n",
    "ax.tick_params('y', colors='xkcd:bluish')\n",
    "ax.legend()\n",
    "\n",
    "# ax2.set_ylabel('Speed [MPH]', weight='bold', color='xkcd:pale red')\n",
    "# ax2.grid(False)\n",
    "# ax2.tick_params('y', colors='xkcd:pale red')"
   ]
  },
  {
   "cell_type": "code",
   "execution_count": null,
   "metadata": {
    "ExecuteTime": {
     "end_time": "2018-03-06T22:17:54.573517Z",
     "start_time": "2018-03-06T22:17:54.285832Z"
    }
   },
   "outputs": [],
   "source": [
    "fig, ax = plt.subplots(figsize=(28, 10))\n",
    "kw_line = df1.loc[0:400, :].soc.plot(ax=ax, color='xkcd:bluish', label='SOC')\n",
    "\n",
    "ax.set_xlabel('Cycle Time [s]', weight='bold')\n",
    "ax.set_ylabel('SOC', weight='bold', color='xkcd:bluish')\n",
    "ax.tick_params('y', colors='xkcd:bluish')"
   ]
  },
  {
   "cell_type": "code",
   "execution_count": null,
   "metadata": {},
   "outputs": [],
   "source": []
  },
  {
   "cell_type": "code",
   "execution_count": null,
   "metadata": {},
   "outputs": [],
   "source": []
  },
  {
   "cell_type": "code",
   "execution_count": null,
   "metadata": {},
   "outputs": [],
   "source": []
  }
 ],
 "metadata": {
  "hide_input": false,
  "kernelspec": {
   "display_name": "Python 3",
   "language": "python",
   "name": "python3"
  },
  "language_info": {
   "codemirror_mode": {
    "name": "ipython",
    "version": 3
   },
   "file_extension": ".py",
   "mimetype": "text/x-python",
   "name": "python",
   "nbconvert_exporter": "python",
   "pygments_lexer": "ipython3",
   "version": "3.7.3"
  }
 },
 "nbformat": 4,
 "nbformat_minor": 4
}
