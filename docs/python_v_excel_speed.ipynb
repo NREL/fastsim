{
 "cells": [
  {
   "cell_type": "code",
   "execution_count": 76,
   "metadata": {},
   "outputs": [],
   "source": [
    "\"\"\"Test script that runs all the vehicles in both Excel and Python FASTSim for both UDDS and HWFET cycles.\"\"\"\n",
    "\n",
    "import xlwings as xw\n",
    "import pandas as pd\n",
    "import time\n",
    "import numpy as np\n",
    "import os\n",
    "import sys\n",
    "import importlib\n",
    "import xlwings as xw\n",
    "from math import isclose\n",
    "\n",
    "from pathlib import Path\n",
    "fsimpath = str(Path(os.getcwd()).parents[0])\n",
    "if fsimpath not in sys.path:\n",
    "    sys.path.append(fsimpath)\n",
    "\n",
    "# local modules\n",
    "from fastsim import simdrive, vehicle, cycle"
   ]
  },
  {
   "cell_type": "code",
   "execution_count": 115,
   "metadata": {},
   "outputs": [],
   "source": [
    "def run_python_fastsim():\n",
    "    \"\"\"Runs python fastsim through 26 vehicles and returns list of dictionaries \n",
    "    containing scenario descriptions.\"\"\"\n",
    "\n",
    "    cycles = ['udds', 'hwfet']\n",
    "    vehicles = np.arange(1, 27)\n",
    "    print('Running python fastsim.')\n",
    "    print('Instantiating classes.')\n",
    "    print()\n",
    "    veh = vehicle.Vehicle(1)\n",
    "    veh_jit = veh.get_numba_veh()\n",
    "    cyc = cycle.Cycle('udds')\n",
    "    cyc_jit = cyc.get_numba_cyc()\n",
    "    \n",
    "    res_python = {}\n",
    "\n",
    "    vehno = 9\n",
    "    veh.load_veh(vehno)\n",
    "    veh_jit = veh.get_numba_veh()\n",
    "\n",
    "    print('vehno =', vehno)\n",
    "    t0 = time.time()\n",
    "    res_dict = {}\n",
    "    for cycname in cycles:\n",
    "        cyc.set_standard_cycle(cycname)\n",
    "        cyc_jit = cyc.get_numba_cyc()\n",
    "        sim_drive = simdrive.SimDriveJit(cyc_jit, veh_jit)\n",
    "        sim_drive.sim_drive()\n",
    "\n",
    "        res_dict['fe_' + cycname] = sim_drive.mpgge\n",
    "        res_dict['kW_hr__mi_' + cycname] = sim_drive.electric_kWh_per_mi\n",
    "    res_python[veh.Scenario_name] = res_dict\n",
    "\n",
    "    t1 = time.time()\n",
    "    print()\n",
    "    print('Elapsed time: {:.2f} s'.format(t1 - t0))\n",
    "\n",
    "    res_python['cpu_time'] = t1 - t0\n",
    "        \n",
    "    return res_python\n",
    "\n",
    "\n",
    "def run_excel_fastsim():\n",
    "    \"\"\"Runs excel fastsim through 26 vehicles and returns list of dictionaries \n",
    "    containing scenario descriptions.\"\"\"\n",
    "\n",
    "    print('')\n",
    "    print('Running excel fastsim.')\n",
    "    # initial setup\n",
    "    wb = xw.Book('FASTSim.xlsm')  # FASTSim.xlsm must be open\n",
    "    sht_veh = wb.sheets('VehicleIO')\n",
    "    sht_udds = wb.sheets('UDDS')\n",
    "    sht_hwy = wb.sheets('HWY')\n",
    "    sht_vehnames = wb.sheets('SavedVehs')\n",
    "    app = wb.app\n",
    "    load_veh_macro = app.macro(\"FASTSim.xlsm!reloadVehInfo\")\n",
    "    run_macro = app.macro(\"FASTSim.xlsm!run.run\")\n",
    "\n",
    "    vehicles = np.arange(1, 27)\n",
    "    res_excel = {}\n",
    "    \n",
    "    vehno = 9\n",
    "    print('vehno =', vehno)\n",
    "    # running a particular vehicle and getting the result\n",
    "    res_dict = {}\n",
    "    sht_veh.range('C6').value = vehno\n",
    "    load_veh_macro()\n",
    "    t0 = time.time()\n",
    "    run_macro()\n",
    "    res_dict['fe_udds'] = sht_udds.range(\n",
    "        'C118').value if sht_udds.range('C118').value != None else 0\n",
    "    res_dict['fe_hwfet'] = sht_hwy.range(\n",
    "        'C118').value if sht_hwy.range('C118').value != None else 0\n",
    "    res_dict['kW_hr__mi_udds'] = sht_udds.range('C120').value\n",
    "    res_dict['kW_hr__mi_hwfet'] = sht_hwy.range('C120').value\n",
    "\n",
    "    res_excel[sht_vehnames.range('B' + str(vehno + 2)).value] = res_dict\n",
    "\n",
    "    t1 = time.time()\n",
    "    print()\n",
    "    print('Elapsed time: {:.2f} s'.format(t1 - t0))\n",
    "    res_excel['cpu_time'] = t1 - t0\n",
    "\n",
    "    return res_excel\n",
    "\n",
    "\n",
    "def compare(res_python, res_excel):\n",
    "    \"\"\"Finds common vehicle names in both excel and python \n",
    "    (hypothetically all of them, but there may be discrepancies) and then compares\n",
    "    fuel economy results.  \n",
    "    Arguments: results from run_python_fastsim and run_excel_fastsim\n",
    "    Returns dict of comparsion results.\"\"\"\n",
    "\n",
    "    common_names = set(res_python.keys()) & set(res_excel.keys()) - {'cpu_time'}\n",
    "    \n",
    "    res_comps = {}\n",
    "    for vehname in common_names:\n",
    "        res_comp = {}\n",
    "        if (res_excel[vehname]['kW_hr__mi_udds'] != 0) & (res_excel[vehname]['kW_hr__mi_hwfet'] != 0):\n",
    "            res_comp['udds_elec_per_err'] = (\n",
    "                res_python[vehname]['kW_hr__mi_udds'] -\n",
    "                res_excel[vehname]['kW_hr__mi_udds']) / res_excel[vehname]['kW_hr__mi_udds'] * 100\n",
    "\n",
    "            res_comp['hwfet_elec_per_err'] = (\n",
    "                res_python[vehname]['kW_hr__mi_hwfet'] -\n",
    "                res_excel[vehname]['kW_hr__mi_hwfet']) / res_excel[vehname]['kW_hr__mi_hwfet'] * 100\n",
    "        else:\n",
    "            res_comp['udds_elec_per_err'] = 0\n",
    "            res_comp['hwfet_elec_per_err'] = 0 \n",
    "\n",
    "        if (res_excel[vehname]['fe_udds'] != 0) & (res_excel[vehname]['fe_hwfet'] != 0):\n",
    "\n",
    "            res_comp['udds_perc_err'] = (\n",
    "                res_python[vehname]['fe_udds'] - res_excel[vehname]['fe_udds']) / res_excel[vehname]['fe_udds'] * 100\n",
    "\n",
    "            res_comp['hwy_perc_err'] = (\n",
    "                res_python[vehname]['fe_hwfet'] - res_excel[vehname]['fe_hwfet']) / res_excel[vehname]['fe_hwfet'] * 100\n",
    "        else:\n",
    "            res_comp['udds_perc_err'] = 0\n",
    "            res_comp['hwy_perc_err'] = 0\n",
    "            \n",
    "        res_comps[vehname] = res_comp\n",
    "        print('')\n",
    "        print(vehname)\n",
    "        \n",
    "        print('FE % Error, UDDS: {:.2E}%'.format(res_comps[vehname]['udds_perc_err']))\n",
    "        print('FE % Error, HWY: {:.2E}%'.format(res_comps[vehname]['hwy_perc_err']))\n",
    "        print('kW-hr/mi % Error, UDDS: {:.2E}%'.format(res_comps[vehname]['udds_elec_per_err']))\n",
    "        print('wK-hr/mi % Error, HWY: {:.2E}%'.format(res_comps[vehname]['hwfet_elec_per_err']))\n",
    "        \n",
    "    res_comps['py_speedup_factor'] = res_excel['cpu_time'] / res_python['cpu_time']\n",
    "    print('Python gives a {:.2f}x speedup.'.format(res_comps['py_speedup_factor']))\n",
    "    print(\"That is {:.2f} orders of magnitude faster.\".format(np.log10(res_comps['py_speedup_factor'])))\n",
    "    \n",
    "    return res_comps"
   ]
  },
  {
   "cell_type": "code",
   "execution_count": 105,
   "metadata": {},
   "outputs": [
    {
     "name": "stdout",
     "output_type": "stream",
     "text": [
      "Running python fastsim.\n",
      "Instantiating classes.\n",
      "\n",
      "vehno = 9\n",
      "\n",
      "Elapsed time: 0.03 s\n"
     ]
    }
   ],
   "source": [
    "res_python = run_python_fastsim()"
   ]
  },
  {
   "cell_type": "code",
   "execution_count": 106,
   "metadata": {},
   "outputs": [
    {
     "name": "stdout",
     "output_type": "stream",
     "text": [
      "\n",
      "Running excel fastsim.\n",
      "vehno = 9\n",
      "\n",
      "Elapsed time: 18.54 s\n"
     ]
    }
   ],
   "source": [
    "res_excel = run_excel_fastsim()"
   ]
  },
  {
   "cell_type": "code",
   "execution_count": 116,
   "metadata": {},
   "outputs": [
    {
     "name": "stdout",
     "output_type": "stream",
     "text": [
      "\n",
      "2016 FORD C-MAX HEV\n",
      "FE % Error, UDDS: 5.90E-04%\n",
      "FE % Error, HWY: 3.08E-08%\n",
      "kW-hr/mi % Error, UDDS: 0.00E+00%\n",
      "wK-hr/mi % Error, HWY: 0.00E+00%\n",
      "Python gives a 714.65x speedup.\n",
      "That is 2.85 orders of magnitude faster.\n"
     ]
    }
   ],
   "source": [
    "res_comp = compare(res_python, res_excel)"
   ]
  },
  {
   "cell_type": "code",
   "execution_count": null,
   "metadata": {},
   "outputs": [],
   "source": []
  }
 ],
 "metadata": {
  "kernelspec": {
   "display_name": "Python 3",
   "language": "python",
   "name": "python3"
  },
  "language_info": {
   "codemirror_mode": {
    "name": "ipython",
    "version": 3
   },
   "file_extension": ".py",
   "mimetype": "text/x-python",
   "name": "python",
   "nbconvert_exporter": "python",
   "pygments_lexer": "ipython3",
   "version": "3.7.6"
  }
 },
 "nbformat": 4,
 "nbformat_minor": 4
}
