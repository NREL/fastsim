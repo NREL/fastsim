{
 "cells": [
  {
   "cell_type": "code",
   "execution_count": 1,
   "metadata": {
    "ExecuteTime": {
     "end_time": "2018-03-06T22:17:53.637344Z",
     "start_time": "2018-03-06T22:17:53.628816Z"
    }
   },
   "outputs": [],
   "source": [
    "import sys\n",
    "import os\n",
    "from pathlib import Path\n",
    "import numpy as np\n",
    "import time\n",
    "import pandas as pd\n",
    "import matplotlib.pyplot as plt\n",
    "from collections import ChainMap\n",
    "from scipy.integrate import cumtrapz, trapz\n",
    "import re\n",
    "import importlib\n",
    "import seaborn as sns\n",
    "sns.set()\n",
    "\n",
    "%matplotlib inline"
   ]
  },
  {
   "cell_type": "code",
   "execution_count": 2,
   "metadata": {
    "ExecuteTime": {
     "end_time": "2018-03-06T22:17:53.637344Z",
     "start_time": "2018-03-06T22:17:53.628816Z"
    }
   },
   "outputs": [
    {
     "data": {
      "text/plain": [
       "<module 'hot_utilities' from 'C:\\\\Users\\\\cbaker2\\\\Documents\\\\GitHub\\\\fastsim\\\\docs\\\\hot_utilities.py'>"
      ]
     },
     "execution_count": 2,
     "metadata": {},
     "output_type": "execute_result"
    }
   ],
   "source": [
    "# local modules\n",
    "from fastsim import simdrivehot, simdrive, vehicle, cycle, params, utils\n",
    "import hot_utilities as hot_utils\n",
    "importlib.reload(hot_utils)\n",
    "# importlib.reload(simdrive)\n",
    "# importlib.reload(cycle)"
   ]
  },
  {
   "cell_type": "markdown",
   "metadata": {},
   "source": [
    "# IMPORTANT TASKS\n",
    "## General\n",
    "Make sure temp is initalized for each sim_drive_walk  \n",
    "Make sure fc efficiency impact is accounted for  \n",
    "Make sure heater affects engine temp and maybe aux load  \n",
    "Make sure A/C affects aux load  \n",
    "Cabin thermal model before tuning?\n",
    "\n",
    "## Tuning\n",
    "### Parameters\n",
    "radiator convection coeff.  \n",
    "idle convection coeff.  \n",
    "heater something  \n",
    "thermal mass = f(displacement)?  \n",
    "diameter = f(displacement)?\n",
    "\n",
    "### Objectives\n",
    "fuel consumption  \n",
    "temperature fit  \n",
    "eng. temperature derivative fit  \n",
    "cabin temperature fit  \n",
    "cabin temperature derivative fit\n",
    "\n"
   ]
  },
  {
   "cell_type": "code",
   "execution_count": 4,
   "metadata": {
    "ExecuteTime": {
     "end_time": "2018-03-06T22:17:53.664162Z",
     "start_time": "2018-03-06T22:17:53.657556Z"
    }
   },
   "outputs": [
    {
     "name": "stdout",
     "output_type": "stream",
     "text": [
      "8.889559507369995\n"
     ]
    }
   ],
   "source": [
    "t0 = time.time()\n",
    "veh = vehicle.Vehicle('2012 Ford Fusion.csv')\n",
    "veh_jit = veh.get_numba_veh()\n",
    "print(time.time() - t0)\n",
    "\n",
    "# correcting for actual vehicle coastdown parameters\n",
    "veh_jit.dragCoef, veh_jit.wheelRrCoef = utils.abc_to_drag_coeffs(3625 / 2.2, \n",
    "                                                         veh.frontalAreaM2, \n",
    "                                                         35.55, 0.2159, 0.0182)\n",
    "veh_jit.auxKw = 1.1 # getting difference between test and model to remain constant during idle\n",
    "veh_jit.fcEffArray *= 1 / 1.0539 # correcting for remaining difference"
   ]
  },
  {
   "cell_type": "code",
   "execution_count": 42,
   "metadata": {
    "ExecuteTime": {
     "end_time": "2018-03-06T22:17:53.655894Z",
     "start_time": "2018-03-06T22:17:53.639578Z"
    }
   },
   "outputs": [
    {
     "name": "stdout",
     "output_type": "stream",
     "text": [
      "Loading test data.\n",
      "Elapsed time to read data files: 5.042e+00 s\n"
     ]
    }
   ],
   "source": [
    "df = hot_utils.load_test_data(use_cs=True, use_hs=True)\n",
    "idx = pd.IndexSlice # used to slice multi index "
   ]
  },
  {
   "cell_type": "markdown",
   "metadata": {},
   "source": [
    "## Baseline validation"
   ]
  },
  {
   "cell_type": "code",
   "execution_count": 48,
   "metadata": {},
   "outputs": [
    {
     "name": "stdout",
     "output_type": "stream",
     "text": [
      "Elapsed time to create cycle: 2.99e-02 s\n"
     ]
    }
   ],
   "source": [
    "t0 = time.time()\n",
    "cyc_name = 'us06x2 95F hs'\n",
    "test_time_steps = df.loc[idx[cyc_name, :, :], 'DAQ_Time[s]'].values\n",
    "\n",
    "cycSecs = np.arange(0, round(test_time_steps[-1], 0))\n",
    "cycMps = np.interp(cycSecs, \n",
    "    test_time_steps, \n",
    "    df.loc[idx[cyc_name, :, :], 'Dyno_Spd[mps]'].values)\n",
    "\n",
    "cyc = cycle.Cycle(cyc_dict={'cycSecs':cycSecs, 'cycMps':cycMps})\n",
    "cyc_jit = cyc.get_numba_cyc()\n",
    "print(\"Elapsed time to create cycle: {:.2e} s\".format(time.time() - t0))"
   ]
  },
  {
   "cell_type": "code",
   "execution_count": 50,
   "metadata": {},
   "outputs": [
    {
     "name": "stdout",
     "output_type": "stream",
     "text": [
      "Elapsed time: 3.989e-03 s\n"
     ]
    }
   ],
   "source": [
    "t0 = time.time()\n",
    "sd_baseline = simdrive.SimDriveJit(cyc_jit, veh_jit)\n",
    "sd_baseline.sim_drive()\n",
    "print(f\"Elapsed time: {time.time() - t0:.3e} s\")"
   ]
  },
  {
   "cell_type": "code",
   "execution_count": null,
   "metadata": {},
   "outputs": [],
   "source": [
    "fig, (ax1, ax2) = plt.subplots(2, 1, sharex=True, figsize=(10,8))\n",
    "ax1.plot(cyc.cycSecs[1:], cumtrapz(x=cyc.cycSecs, y=sd_baseline.fcKwInAch * 1e-3), label='model')\n",
    "ax1.plot(test_time_steps[1:], cumtrapz(x=test_time_steps, y=df.loc[idx[cyc_name, :, :], 'Fuel_Power_Calc[kW]'] * 1e-3), label='test')\n",
    "ax1.set_ylabel('Fuel Energy [MJ]')\n",
    "ax1.legend()\n",
    "ax2.plot(cyc.cycSecs, sd_baseline.mpsAch, label='model')\n",
    "ax2.plot(df.loc[idx[cyc_name, :, :], 'Time[s]'], \n",
    "         df.loc[idx[cyc_name, :, :], 'Dyno_Spd[mps]'],\n",
    "        label='test', linestyle='--')\n",
    "ax2.set_xlabel('Time [s]')\n",
    "ax2.set_ylabel('Speed \\nAchieved [mps]')\n",
    "\n",
    "fuel_frac_err = (np.trapz(x=cyc.cycSecs, y=sd_baseline.fcKwInAch) - \n",
    "                np.trapz(x=test_time_steps, \n",
    "                         y=df.loc[idx[cyc_name, :, :], 'Fuel_Power_Calc[kW]'])) /\\\n",
    "                np.trapz(x=test_time_steps, \n",
    "                         y=df.loc[idx[cyc_name, :, :], 'Fuel_Power_Calc[kW]'])\n",
    "less_more = 'less' if fuel_frac_err < 0 else 'more'\n",
    "print(f\"Model uses {abs(fuel_frac_err):.2%} \" + less_more + \" fuel than test.\")"
   ]
  },
  {
   "cell_type": "markdown",
   "metadata": {},
   "source": [
    "## Temperature effects"
   ]
  },
  {
   "cell_type": "code",
   "execution_count": null,
   "metadata": {
    "ExecuteTime": {
     "end_time": "2018-03-06T22:17:53.655894Z",
     "start_time": "2018-03-06T22:17:53.639578Z"
    }
   },
   "outputs": [],
   "source": [
    "t0 = time.time()\n",
    "cyc_name = 'us06x2 20F cs'\n",
    "test_time_steps = df.loc[idx[cyc_name, :, :], 'DAQ_Time[s]'].values\n",
    "test_te_amb = df.loc[idx[cyc_name, :, :], 'Cell_Temp[C]'].values\n",
    "\n",
    "cycSecs = np.arange(0, round(test_time_steps[-1], 0))\n",
    "cycMps = np.interp(cycSecs, \n",
    "    test_time_steps, \n",
    "    df.loc[idx[cyc_name, :, :], 'Dyno_Spd[mps]'].values)\n",
    "\n",
    "cyc = cycle.Cycle(cyc_dict={'cycSecs':cycSecs, 'cycMps':cycMps})\n",
    "cyc_jit = cyc.get_numba_cyc()\n",
    "print(\"Elapsed time to create cycle: {:.2e} s\".format(time.time() - t0))"
   ]
  },
  {
   "cell_type": "code",
   "execution_count": null,
   "metadata": {
    "ExecuteTime": {
     "end_time": "2018-03-06T22:17:54.227462Z",
     "start_time": "2018-03-06T22:17:53.665928Z"
    }
   },
   "outputs": [],
   "source": [
    "t0 = time.time()\n",
    "sim_drive = simdrivehot.SimDriveHotJit(cyc_jit, veh_jit, \n",
    "    teAmbDegC = np.interp(cycSecs, test_time_steps, test_te_amb),\n",
    "      teFcInitDegC=df.loc[idx[cyc_name, :, 0], 'CylinderHeadTempC'][0]) \n",
    "\n",
    "params = ['fcThrmMass', 'fcDiam', 'hFcToAmbStop', 'radiator_eff',\n",
    "          'fcTempEffOffset', 'fcTempEffSlope', 'teTStatDeltaDegC', 'teTStatSTODegC']\n",
    "x = np.array([1.24638517e+02, 1.32330629e+00, 1.01128242e+02, 2.09979938e+01,\n",
    "       2.90921564e-01, 7.94733767e-03, 6.63340063e+00, 8.83717822e+01]) \n",
    "# best as of 12 pm on 5 October 2020\n",
    "for i, param in enumerate(params):\n",
    "    sim_drive.__setattr__(param, x[i])\n",
    "sim_drive.teTStatFODegC = sim_drive.teTStatSTODegC + sim_drive.teTStatDeltaDegC\n",
    "    \n",
    "sim_drive.sim_drive()\n",
    "print(f'Elapsed time: {time.time() - t0:.2e} s')"
   ]
  },
  {
   "cell_type": "markdown",
   "metadata": {},
   "source": [
    "### Results"
   ]
  },
  {
   "cell_type": "code",
   "execution_count": null,
   "metadata": {},
   "outputs": [],
   "source": [
    "fig, (ax1, ax2) = plt.subplots(2, 1, sharex=True, figsize=(10,8))\n",
    "ax1.plot(cyc.cycSecs, sim_drive.teFcDegC, label='model')\n",
    "ax1.plot(test_time_steps, df.loc[idx[cyc_name, :, :], 'CylinderHeadTempC'], label='test')\n",
    "ax1.set_ylabel('FC Temp. [$^\\circ$C]')\n",
    "ax1.legend()\n",
    "ax2.plot(cyc.cycSecs, sim_drive.mpsAch)\n",
    "ax2.set_xlabel('Time [s]')\n",
    "ax2.set_ylabel('Speed \\nAchieved [mps]')"
   ]
  },
  {
   "cell_type": "code",
   "execution_count": null,
   "metadata": {},
   "outputs": [],
   "source": [
    "fig, (ax1, ax2) = plt.subplots(2, 1, sharex=True, figsize=(10,8))\n",
    "ax1.plot(cyc.cycSecs[1:], cumtrapz(x=cyc.cycSecs, y=sim_drive.fcKwInAch * 1e-3), label='model')\n",
    "ax1.plot(test_time_steps[1:], cumtrapz(x=test_time_steps, y=df.loc[idx[cyc_name, :, :], 'Fuel_Power_Calc[kW]'] * 1e-3), label='test')\n",
    "ax1.set_ylabel('Fuel Energy [MJ]')\n",
    "ax1.legend()\n",
    "ax2.plot(cyc.cycSecs, sim_drive.mpsAch, label='model')\n",
    "ax2.plot(df.loc[idx[cyc_name, :, :], 'Time[s]'], \n",
    "         df.loc[idx[cyc_name, :, :], 'Dyno_Spd[mps]'],\n",
    "        label='test', linestyle='--')\n",
    "ax2.set_xlabel('Time [s]')\n",
    "ax2.set_ylabel('Speed \\nAchieved [mps]')\n",
    "\n",
    "fuel_frac_err = (np.trapz(x=cyc.cycSecs, y=sim_drive.fcKwInAch) - \n",
    "                np.trapz(x=test_time_steps, \n",
    "                         y=df.loc[idx[cyc_name, :, :], 'Fuel_Power_Calc[kW]'])) /\\\n",
    "                np.trapz(x=test_time_steps, \n",
    "                         y=df.loc[idx[cyc_name, :, :], 'Fuel_Power_Calc[kW]'])\n",
    "less_more = 'less' if fuel_frac_err < 0 else 'more'\n",
    "print(f\"Model uses {abs(fuel_frac_err):.2%} \" + less_more + \" fuel than test.\")"
   ]
  },
  {
   "cell_type": "code",
   "execution_count": null,
   "metadata": {},
   "outputs": [],
   "source": [
    "fig, (ax1, ax2) = plt.subplots(2, 1, sharex=True, figsize=(10,8))\n",
    "ax1.plot(cyc.cycSecs, sim_drive.fcKwInAch, label='model')\n",
    "ax1.plot(test_time_steps, df.loc[idx[cyc_name, :, :], 'Fuel_Power_Calc[kW]'], label='test')\n",
    "ax1.set_ylabel('Fuel Power [kW]')\n",
    "ax1.legend()\n",
    "ax2.plot(cyc.cycSecs, sim_drive.mpsAch, label='model')\n",
    "ax2.plot(df.loc[idx[cyc_name, :, :], 'Time[s]'], \n",
    "         df.loc[idx[cyc_name, :, :], 'Dyno_Spd[mps]'],\n",
    "        label='test', linestyle='--')\n",
    "ax2.set_xlabel('Time [s]')\n",
    "ax2.set_ylabel('Speed \\nAchieved [mps]')\n",
    "\n",
    "fuel_frac_err = (np.trapz(x=cyc.cycSecs, y=sim_drive.fcKwInAch) - \n",
    "                np.trapz(x=test_time_steps, \n",
    "                         y=df.loc[idx[cyc_name, :, :], 'Fuel_Power_Calc[kW]'])) /\\\n",
    "                np.trapz(x=test_time_steps, \n",
    "                         y=df.loc[idx[cyc_name, :, :], 'Fuel_Power_Calc[kW]'])\n",
    "less_more = 'less' if fuel_frac_err < 0 else 'more'\n",
    "print(f\"Model uses {abs(fuel_frac_err):.2%} \" + less_more + \" fuel than test.\")"
   ]
  },
  {
   "cell_type": "code",
   "execution_count": null,
   "metadata": {},
   "outputs": [],
   "source": [
    "fig, (ax1, ax2) = plt.subplots(2, 1, sharex=True, figsize=(10,8))\n",
    "ax1.plot(cyc.cycSecs[1:], \n",
    "         cumtrapz(x=cyc.cycSecs, \n",
    "                  y=sim_drive.fcKwInAch - \n",
    "                  np.interp(x=cyc.cycSecs, xp=test_time_steps, fp=df.loc[idx[cyc_name, :, :], 'Fuel_Power_Calc[kW]'])\n",
    "                 ) * 1e-3)\n",
    "\n",
    "ax1.set_ylabel('Fuel Energy Difference [MJ]')\n",
    "ax2.plot(cyc.cycSecs, sim_drive.mpsAch, label='model')\n",
    "ax2.plot(df.loc[idx[cyc_name, :, :], 'Time[s]'], \n",
    "         df.loc[idx[cyc_name, :, :], 'Dyno_Spd[mps]'],\n",
    "        label='test', linestyle='--')\n",
    "ax2.set_xlabel('Time [s]')\n",
    "ax2.set_ylabel('Speed \\nAchieved [mps]')\n",
    "ax1.set_title('Model - Test')\n",
    "\n",
    "fuel_frac_err = (np.trapz(x=cyc.cycSecs, y=sim_drive.fcKwInAch) - \n",
    "                np.trapz(x=test_time_steps, \n",
    "                         y=df.loc[idx[cyc_name, :, :], 'Fuel_Power_Calc[kW]'])) /\\\n",
    "                np.trapz(x=test_time_steps, \n",
    "                         y=df.loc[idx[cyc_name, :, :], 'Fuel_Power_Calc[kW]'])\n",
    "less_more = 'less' if fuel_frac_err < 0 else 'more'\n",
    "print(f\"Model uses {abs(fuel_frac_err):.2%} \" + less_more + \" fuel than test.\")"
   ]
  },
  {
   "cell_type": "code",
   "execution_count": null,
   "metadata": {},
   "outputs": [],
   "source": [
    "fig, (ax1, ax2) = plt.subplots(2, 1, sharex=True)\n",
    "ax1.plot(cyc.cycSecs, sim_drive.fcKwOutAch, label='eng out')\n",
    "ax1.plot(cyc.cycSecs, sim_drive.fcConvToAmbKw, label='heat loss')\n",
    "ax1.plot(cyc.cycSecs, sim_drive.fcHeatGenKw, label='heat gen')\n",
    "ax1.set_ylabel('Power [kW]')\n",
    "ax1.legend()\n",
    "ax2.plot(cyc.cycSecs, sim_drive.mpsAch)\n",
    "ax2.set_xlabel('Time [s]')\n",
    "ax2.set_ylabel('Speed Achieved [mps]')"
   ]
  },
  {
   "cell_type": "code",
   "execution_count": null,
   "metadata": {},
   "outputs": [],
   "source": [
    "fig, (ax1, ax2) = plt.subplots(2, 1, sharex=True, figsize=(9,5))\n",
    "ax1.plot(cyc.cycSecs, sim_drive.hFcToAmb, label='final')\n",
    "ax1.plot(cyc.cycSecs, sim_drive.hFcToAmbStop * np.ones(len(cyc.cycSecs)), \n",
    "         label='stop')\n",
    "ax1.set_ylabel('h [W/m^2/K]')\n",
    "ax1.legend()\n",
    "ax2.plot(cyc.cycSecs, sim_drive.mpsAch)\n",
    "ax2.set_xlabel('Time [s]')\n",
    "ax2.set_ylabel('Speed Achieved [mps]')"
   ]
  },
  {
   "cell_type": "markdown",
   "metadata": {},
   "source": [
    "## Showing the FE impact for a sweep of ambient and starting temperatures"
   ]
  },
  {
   "cell_type": "code",
   "execution_count": null,
   "metadata": {},
   "outputs": [],
   "source": [
    "t0 = time.time()\n",
    "\n",
    "init_temps_degC = np.linspace(-20, 90, 100)\n",
    "amb_temps_degC = np.arange(-20, 60, 20)\n",
    "mpg = np.zeros([len(init_temps_degC), len(amb_temps_degC)])\n",
    "\n",
    "for i, init_temp in enumerate(init_temps_degC):\n",
    "    for j, amb_temp in enumerate(amb_temps_degC):\n",
    "        sim_drive.init_thermal_arrays(np.ones(len(cyc.cycSecs)) * amb_temp)\n",
    "        sim_drive.teFcInitDegC = init_temp\n",
    "        sim_drive.teCabInitDegC = init_temp\n",
    "\n",
    "#         sim_drive = simdrivehot.SimDriveHotJit(cyc_jit, veh_jit, \n",
    "#             teAmbDegC = np.ones(len(cyc.cycSecs)) * amb_temp,\n",
    "#           teFcInitDegC = init_temp) \n",
    "\n",
    "#         params = ['fcThrmMass', 'fcDiam', 'hFcToAmbStop', 'radiator_eff',\n",
    "#                   'fcTempEffOffset', 'fcTempEffSlope', 'teTStatDeltaDegC', 'teTStatSTODegC']\n",
    "#         x = np.array([1.24638517e+02, 1.32330629e+00, 1.01128242e+02, 2.09979938e+01,\n",
    "#                2.90921564e-01, 7.94733767e-03, 6.63340063e+00, 8.83717822e+01]) \n",
    "#         # best as of 12 pm on 5 October 2020\n",
    "        \n",
    "#         for k, param in enumerate(params):\n",
    "#             sim_drive.__setattr__(param, x[k])\n",
    "#         sim_drive.teTStatFODegC = sim_drive.teTStatSTODegC + sim_drive.teTStatDeltaDegC\n",
    "        \n",
    "        sim_drive.sim_drive()\n",
    "\n",
    "        mpg[i, j] = sim_drive.mpgge\n",
    "\n",
    "print(f'Elapsed time: {time.time() - t0:.2e} s')"
   ]
  },
  {
   "cell_type": "code",
   "execution_count": null,
   "metadata": {},
   "outputs": [],
   "source": [
    "sim_drive_no_thrm = simdrive.SimDriveJit(cyc_jit, veh_jit)\n",
    "sim_drive_no_thrm.sim_drive()"
   ]
  },
  {
   "cell_type": "code",
   "execution_count": null,
   "metadata": {},
   "outputs": [],
   "source": [
    "plt.figure()\n",
    "for i, amb_temp in enumerate(amb_temps_degC):\n",
    "    plt.plot(init_temps_degC, mpg[:, i], label=amb_temp)\n",
    "plt.legend(title='Ambient Temp [°C]')\n",
    "plt.xlabel('Engine Initial Temperature [°C]')\n",
    "plt.ylabel('Fuel Economy [mpg]')\n",
    "plt.plot(init_temps_degC, np.ones(len(init_temps_degC)) * sim_drive_no_thrm.mpgge)\n",
    "plt.savefig('plots/FE vs temp sweep.svg')"
   ]
  },
  {
   "cell_type": "code",
   "execution_count": null,
   "metadata": {},
   "outputs": [],
   "source": [
    "X, Y = np.meshgrid(amb_temps_degC, init_temps_degC)\n",
    "fig, ax = plt.subplots()\n",
    "CS = ax.contour(X, Y, mpg)\n",
    "ax.clabel(CS, inline=1, fontsize=10)\n",
    "ax.set_title('Simplest default with labels')\n",
    "ax.set_xlabel('Ambient Temperature [°C]')\n",
    "ax.set_ylabel('Engine Initial Temperature [°C]')"
   ]
  },
  {
   "cell_type": "markdown",
   "metadata": {},
   "source": [
    "## Testing out various ways of accessing arrays and running fastsim"
   ]
  },
  {
   "cell_type": "markdown",
   "metadata": {},
   "source": [
    "### CPU Time impact of running fastsim at smaller time steps"
   ]
  },
  {
   "cell_type": "code",
   "execution_count": 7,
   "metadata": {},
   "outputs": [
    {
     "name": "stdout",
     "output_type": "stream",
     "text": [
      "Elapsed time: 3.194e-02\n"
     ]
    }
   ],
   "source": [
    "# instantiate a vehicle\n",
    "t0 = time.time()\n",
    "veh_jit = vehicle.Vehicle(1).get_numba_veh()\n",
    "print(\"Elapsed time: {:.3e}\".format(time.time() - t0))"
   ]
  },
  {
   "cell_type": "code",
   "execution_count": 9,
   "metadata": {},
   "outputs": [
    {
     "name": "stdout",
     "output_type": "stream",
     "text": [
      "Elapsed time for standard UDDS: 1.197e-02\n"
     ]
    }
   ],
   "source": [
    "t0 = time.time()\n",
    "\n",
    "# check elapsed time for standard udds\n",
    "cyc_jit = cycle.Cycle('udds').get_numba_cyc()\n",
    "sim_drive = simdrivehot.SimDriveHotJit(cyc_jit, veh_jit, \n",
    "    teAmbDegC = 22 * np.ones(len(cyc_jit.cycSecs)),\n",
    "      teFcInitDegC=22) \n",
    "sim_drive.sim_drive()\n",
    "\n",
    "t_standard = time.time() - t0\n",
    "print(\"Elapsed time for standard UDDS: {:.3e}\".format(t_standard))"
   ]
  },
  {
   "cell_type": "code",
   "execution_count": 10,
   "metadata": {},
   "outputs": [
    {
     "name": "stdout",
     "output_type": "stream",
     "text": [
      "Elapsed time for 10 Hz UDDS: 1.985e-01\n"
     ]
    }
   ],
   "source": [
    "t0_10Hz = time.time()\n",
    "\n",
    "cyc10Hz_jit = cycle.Cycle(\n",
    "    cyc_dict = cycle.resample(\n",
    "        cycle.Cycle('udds').get_cyc_dict(),\n",
    "        new_dt=0.1)).get_numba_cyc()\n",
    "sim_drive10Hz = simdrivehot.SimDriveHotJit(cyc10Hz_jit, veh_jit, \n",
    "    teAmbDegC = 22 * np.ones(len(cyc10Hz_jit.cycSecs)),\n",
    "      teFcInitDegC=22) \n",
    "sim_drive10Hz.sim_drive()\n",
    "\n",
    "t_10Hz = time.time() - t0_10Hz\n",
    "\n",
    "print(\"Elapsed time for 10 Hz UDDS: {:.3e}\".format(t_10Hz))"
   ]
  },
  {
   "cell_type": "markdown",
   "metadata": {},
   "source": [
    "10 Hz is more than 10x slower than 1 Hz so avoid it"
   ]
  },
  {
   "cell_type": "markdown",
   "metadata": {},
   "source": [
    "### Comparing various df slicing schemes"
   ]
  },
  {
   "cell_type": "code",
   "execution_count": 43,
   "metadata": {},
   "outputs": [
    {
     "name": "stdout",
     "output_type": "stream",
     "text": [
      "Elapsed time: 4.588e-02 s\n",
      "mean = 1.996885e+01\n"
     ]
    }
   ],
   "source": [
    "# integrating the whole thing\n",
    "t0 = time.time()\n",
    "mean = np.trapz(x=df.loc[idx[cyc_name, :, :], 'DAQ_Time[s]'].values,\n",
    "                y=df.loc[idx[cyc_name, :, :], 'Dyno_Spd[mps]'].values) \\\n",
    "    / df.loc[idx[cyc_name, :, :], 'DAQ_Time[s]'].values[-1]\n",
    "print(\"Elapsed time: {:.3e} s\".format(time.time() - t0))\n",
    "print(f'mean = {mean:.6e}')"
   ]
  },
  {
   "cell_type": "code",
   "execution_count": 44,
   "metadata": {},
   "outputs": [
    {
     "name": "stdout",
     "output_type": "stream",
     "text": [
      "Elapsed time: 3.886e-02 s\n",
      "mean = 1.996886e+01\n"
     ]
    }
   ],
   "source": [
    "# integrating every 10th step\n",
    "t0 = time.time()\n",
    "mean = np.trapz(x=df.loc[idx[cyc_name, :, :], 'DAQ_Time[s]'].values[::10],\n",
    "                y=df.loc[idx[cyc_name, :, :], 'Dyno_Spd[mps]'].values[::10]) \\\n",
    "    / df.loc[idx[cyc_name, :, :], 'DAQ_Time[s]'].values[-1]\n",
    "print(\"Elapsed time: {:.3e} s\".format(time.time() - t0))\n",
    "print(f'mean = {mean:.6e}')"
   ]
  },
  {
   "cell_type": "code",
   "execution_count": 45,
   "metadata": {},
   "outputs": [
    {
     "name": "stdout",
     "output_type": "stream",
     "text": [
      "Elapsed time: 1.297e-02 s\n",
      "mean = 1.996886e+01\n"
     ]
    }
   ],
   "source": [
    "# assigning to separate variable beforehand\n",
    "x=df.loc[idx[cyc_name, :, :], 'DAQ_Time[s]'].values[::10]\n",
    "y=df.loc[idx[cyc_name, :, :], 'Dyno_Spd[mps]'].values[::10]\n",
    "t0 = time.time()\n",
    "mean = np.trapz(x=x,\n",
    "                y=y) \\\n",
    "    / df.loc[idx[cyc_name, :, :], 'DAQ_Time[s]'].values[-1]\n",
    "print(\"Elapsed time: {:.3e} s\".format(time.time() - t0))\n",
    "print(f'mean = {mean:.6e}')"
   ]
  },
  {
   "cell_type": "code",
   "execution_count": 46,
   "metadata": {},
   "outputs": [
    {
     "name": "stdout",
     "output_type": "stream",
     "text": [
      "Elapsed time: 6.981e-02 s\n",
      "mean = 1.996886e+01\n"
     ]
    }
   ],
   "source": [
    "# interpolating every 10th step\n",
    "t0 = time.time()\n",
    "mean = np.trapz(x=df.loc[idx[cyc_name, :, :], 'DAQ_Time[s]'].values[::10],\n",
    "                y=np.interp(x=df.loc[idx[cyc_name, :, :], 'DAQ_Time[s]'].values[::10],\n",
    "                xp=df.loc[idx[cyc_name, :, :], 'DAQ_Time[s]'].values,\n",
    "                   fp=df.loc[idx[cyc_name, :, :], 'Dyno_Spd[mps]'].values)) \\\n",
    "    / df.loc[idx[cyc_name, :, :], 'DAQ_Time[s]'].values[-1]\n",
    "print(\"Elapsed time: {:.3e} s\".format(time.time() - t0))\n",
    "print(f'mean = {mean:.6e}')"
   ]
  }
 ],
 "metadata": {
  "hide_input": false,
  "kernelspec": {
   "display_name": "Python 3",
   "language": "python",
   "name": "python3"
  },
  "language_info": {
   "codemirror_mode": {
    "name": "ipython",
    "version": 3
   },
   "file_extension": ".py",
   "mimetype": "text/x-python",
   "name": "python",
   "nbconvert_exporter": "python",
   "pygments_lexer": "ipython3",
   "version": "3.7.6"
  }
 },
 "nbformat": 4,
 "nbformat_minor": 4
}
