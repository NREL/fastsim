{
 "cells": [
  {
   "cell_type": "code",
   "execution_count": 35,
   "metadata": {
    "ExecuteTime": {
     "end_time": "2018-03-06T22:17:53.637344Z",
     "start_time": "2018-03-06T22:17:53.628816Z"
    }
   },
   "outputs": [],
   "source": [
    "import sys\n",
    "import os\n",
    "from pathlib import Path\n",
    "# allow it to find simdrive module\n",
    "fsimpath=str(Path(os.getcwd()).parents[0])\n",
    "if fsimpath not in sys.path:\n",
    "    sys.path.append(fsimpath)\n",
    "import numpy as np\n",
    "import time\n",
    "import pandas as pd\n",
    "import matplotlib.pyplot as plt\n",
    "from collections import ChainMap\n",
    "from scipy.integrate import cumtrapz, trapz\n",
    "import re\n",
    "import importlib\n",
    "import seaborn as sns\n",
    "sns.set()\n",
    "\n",
    "%matplotlib inline"
   ]
  },
  {
   "cell_type": "code",
   "execution_count": 2,
   "metadata": {
    "ExecuteTime": {
     "end_time": "2018-03-06T22:17:53.637344Z",
     "start_time": "2018-03-06T22:17:53.628816Z"
    }
   },
   "outputs": [],
   "source": [
    "# local modules\n",
    "from fastsim import simdrivehot, simdrive, vehicle, cycle, params\n",
    "# importlib.reload(simdrive)\n",
    "# importlib.reload(cycle)"
   ]
  },
  {
   "cell_type": "markdown",
   "metadata": {},
   "source": [
    "# IMPORTANT TASKS\n",
    "## General\n",
    "Make sure temp is initalized for each sim_drive_walk  \n",
    "Make sure fc efficiency impact is accounted for  \n",
    "Make sure heater affects engine temp and maybe aux load  \n",
    "Make sure A/C affects aux load  \n",
    "Cabin thermal model before tuning?\n",
    "\n",
    "## Tuning\n",
    "### Parameters\n",
    "radiator convection coeff.  \n",
    "idle convection coeff.  \n",
    "heater something  \n",
    "thermal mass = f(displacement)?  \n",
    "diameter = f(displacement)?\n",
    "\n",
    "### Objectives\n",
    "fuel consumption  \n",
    "temperature fit  \n",
    "eng. temperature derivative fit  \n",
    "cabin temperature fit  \n",
    "cabin temperature derivative fit\n",
    "\n"
   ]
  },
  {
   "cell_type": "code",
   "execution_count": 10,
   "metadata": {
    "jupyter": {
     "source_hidden": true
    }
   },
   "outputs": [],
   "source": [
    "# load the vehicle test data\n",
    "def load_test_data():\n",
    "    print('Loading test data.')\n",
    "    test_data_path = 'C:\\\\Users\\\\cbaker2\\\\Documents\\\\TestData\\\\FordFusionTestData\\\\'\n",
    "    t0 = time.time()\n",
    "    datadirs = [test_data_path + 'udds_tests\\\\',\n",
    "                test_data_path + 'us06_tests\\\\']\n",
    "    tests = [[test for test in os.listdir(f) if \n",
    "        'csv' in test] for f in datadirs]\n",
    "\n",
    "    dflist = [{j: pd.read_csv(i+j)\n",
    "            for j in tests[datadirs.index(i)]} for i in datadirs]\n",
    "    print('Elapsed time to read data files: {:.3e} s'.format(time.time() - t0))\n",
    "    dfdict0 = dict(ChainMap(*reversed(dflist)))\n",
    "    dfdict1 = {}\n",
    "\n",
    "    for key in dfdict0.keys():\n",
    "        repkey = key[9:].replace('.xlsx', '').replace(' ', '').replace('_', ' ')\n",
    "        #     cyclekey = re.match('\\S+(?=x\\d)', repkey)[0] # grab cycle name without repetition suffix\n",
    "        # grab cycle name with repetition suffix\n",
    "        cyclekey = re.match('\\S+', repkey)[0]\n",
    "        tempkey = re.search('\\d{1,2}F', repkey)[0]\n",
    "        startkey = re.search('(?<=_)(c|h)s', key)[0]\n",
    "        dfdict1[cyclekey + ' ' + tempkey + ' ' + startkey] = dfdict0[key]\n",
    "    del dfdict0\n",
    "    times = np.arange(0, 1500, 250)\n",
    "\n",
    "    # dict for results dataframes\n",
    "    resdfdict = {}\n",
    "    dfdict = {}\n",
    "\n",
    "    cs_keys = [key for key in dfdict1.keys() if re.search('\\scs$', key)]\n",
    "\n",
    "    for k in cs_keys:\n",
    "        # print(k)\n",
    "\n",
    "        # Remove rows with wacky time\n",
    "        steps = dfdict1[k]['DAQ_Time[s]'].diff()\n",
    "        timejumps = np.where(steps < 0)[0]\n",
    "        timejump = timejumps[-1]\n",
    "        dfdict[k] = dfdict1[k].drop(np.arange(timejump), axis=0)\n",
    "        dfdict[k].index -= dfdict[k].index.min()\n",
    "\n",
    "        # Remove extra columns\n",
    "        dfdict[k].insert(int(np.where(dfdict[k].columns == 'Dyno_Spd[mph]')[\n",
    "                        0][0]), 'Dyno_Spd[mps]', dfdict[k]['Dyno_Spd[mph]'] * 0.44704)\n",
    "\n",
    "        dfdict[k]['Tractive_Power[W]'] = dfdict[k]['Dyno_TractiveForce[N]'] * \\\n",
    "            dfdict[k]['Dyno_Spd[mps]']\n",
    "        dfdict[k]['PosTractive_Power[W]'] = dfdict[k]['Tractive_Power[W]']\n",
    "        # negindices = np.where(dfdict[k]['Tractive_Power[W]'] < 0)[0]\n",
    "        negindices = dfdict[k]['Tractive_Power[W]'] < 0\n",
    "        dfdict[k].loc[negindices, 'PosTractive_Power[W]'] = 0\n",
    "\n",
    "        dfdict[k]['Kinetic_Power_Density[W/kg]'] = dfdict[k]['Dyno_Spd[mps]'] * dfdict[k]['Dyno_Spd[mps]'].diff() \\\n",
    "            / dfdict[k]['DAQ_Time[s]'].diff()\n",
    "        dfdict[k]['Kinetic_Power_Density[W/kg]'].fillna(0, inplace=True)\n",
    "\n",
    "        dfdict[k]['PosKinetic_Power_Density[W/kg]'] = dfdict[k]['Kinetic_Power_Density[W/kg]']\n",
    "        dfdict[k].loc[dfdict[k]['Kinetic_Power_Density[W/kg]']\n",
    "                    <= 0, 'PosKinetic_Power_Density[W/kg]'] = 0\n",
    "\n",
    "        dfdict[k]['PosTractive_Energy[J]'] = np.concatenate((np.array([0]), cumtrapz(\n",
    "            dfdict[k]['PosTractive_Power[W]'], x=dfdict[k]['DAQ_Time[s]'])), axis=0)\n",
    "        dfdict[k]['Distance[m]'] = np.concatenate((np.array([0]), cumtrapz(\n",
    "            dfdict[k]['Dyno_Spd[mps]'], x=dfdict[k]['DAQ_Time[s]'])), axis=0)\n",
    "\n",
    "        dfdict[k]['PosKinetic_Energy_Density[J/kg]'] = np.concatenate((np.array([0]),\n",
    "                                                                    cumtrapz(dfdict[k]['PosKinetic_Power_Density[W/kg]'].values,\n",
    "                                                                                x=dfdict[k]['DAQ_Time[s]'].values)), axis=0)\n",
    "\n",
    "\n",
    "        dfdict[k].index.set_names('time_step', inplace=True)\n",
    "\n",
    "        # bring temperature into data frame from filenames\n",
    "        dfdict[k]['Temp_Amb[C]'] = round(\n",
    "            (int(re.search('\\d{1,2}(?=F)', k)[0]) - 32) * 5 / 9, 1)\n",
    "\n",
    "        # compute deltaT at times\n",
    "        indices = [np.where(dfdict[k]['DAQ_Time[s]'] >= t)[0][0] for t in times]\n",
    "\n",
    "        # resdfdict[k].drop(axis=0, index=0, inplace=True) # probably want this initial row\n",
    "        dfdict[k].set_index([dfdict[k].index, 'Temp_Amb[C]'], inplace=True)\n",
    "\n",
    "    keys = list(dfdict.keys())\n",
    "    del dfdict1\n",
    "\n",
    "    df = pd.concat(dfdict, sort=False)\n",
    "    df.index.set_names('filename', level=0, inplace=True)\n",
    "    df = df.reorder_levels(['filename', 'Temp_Amb[C]', 'time_step'])\n",
    "    cols0 = list(df.columns.values)\n",
    "    # reorder columns in terms of independent and dependent variables\n",
    "    cols = [cols0[0]] + cols0[-3:] + cols0[2:-3]\n",
    "    df = df[cols]\n",
    "    df['Powertrain Efficiency'] = df['Dyno_Power_Calc[kW]'] / df['Fuel_Power_Calc[kW]']\n",
    "    df.drop(columns=[col for col in df.columns if re.search(\n",
    "        'Unnamed', col)], inplace=True)\n",
    "    \n",
    "    return df\n"
   ]
  },
  {
   "cell_type": "code",
   "execution_count": 19,
   "metadata": {
    "ExecuteTime": {
     "end_time": "2018-03-06T22:17:53.655894Z",
     "start_time": "2018-03-06T22:17:53.639578Z"
    }
   },
   "outputs": [],
   "source": [
    "df = load_test_data()\n",
    "idx = pd.IndexSlice # used to slice multi index \n",
    "\n",
    "cyc_name = 'us06x4 0F cs'"
   ]
  },
  {
   "cell_type": "code",
   "execution_count": 23,
   "metadata": {
    "ExecuteTime": {
     "end_time": "2018-03-06T22:17:53.655894Z",
     "start_time": "2018-03-06T22:17:53.639578Z"
    }
   },
   "outputs": [
    {
     "name": "stdout",
     "output_type": "stream",
     "text": [
      "Elapsed time to create cycle: 3.59e-02 s\n"
     ]
    }
   ],
   "source": [
    "t0 = time.time()\n",
    "test_time_steps = df.loc[idx[cyc_name, :, :], 'DAQ_Time[s]'].values\n",
    "test_te_amb = df.loc[idx[cyc_name, :, :], 'Cell_Temp[C]'].values\n",
    "\n",
    "cycSecs = np.arange(0, round(test_time_steps[-1], 0))\n",
    "cycMps = np.interp(cycSecs, \n",
    "    test_time_steps, \n",
    "    df.loc[idx[cyc_name, :, :], 'Dyno_Spd[mps]'].values)\n",
    "\n",
    "cyc = cycle.Cycle(cyc_dict={'cycSecs':cycSecs, 'cycMps':cycMps})\n",
    "cyc_jit = cyc.get_numba_cyc()\n",
    "print(\"Elapsed time to create cycle: {:.2e} s\".format(time.time() - t0))"
   ]
  },
  {
   "cell_type": "code",
   "execution_count": 24,
   "metadata": {
    "ExecuteTime": {
     "end_time": "2018-03-06T22:17:53.664162Z",
     "start_time": "2018-03-06T22:17:53.657556Z"
    }
   },
   "outputs": [
    {
     "name": "stdout",
     "output_type": "stream",
     "text": [
      "0.04986715316772461\n"
     ]
    }
   ],
   "source": [
    "t0 = time.time()\n",
    "veh = vehicle.Vehicle(veh_file=Path('../vehdb/2012 Ford Fusion.csv'))\n",
    "veh_jit = veh.get_numba_veh()\n",
    "print(time.time() - t0)"
   ]
  },
  {
   "cell_type": "code",
   "execution_count": 54,
   "metadata": {
    "ExecuteTime": {
     "end_time": "2018-03-06T22:17:54.227462Z",
     "start_time": "2018-03-06T22:17:53.665928Z"
    }
   },
   "outputs": [
    {
     "name": "stdout",
     "output_type": "stream",
     "text": [
      "Elapsed time: 1.10e-02 s\n"
     ]
    }
   ],
   "source": [
    "t0 = time.time()\n",
    "sim_drive = simdrivehot.SimDriveHotJit(cyc_jit, veh_jit, \n",
    "    teAmbDegC = np.interp(cycSecs, test_time_steps, test_time_steps),\n",
    "      teFcInitDegC=df.loc[idx[cyc_name, :, 0], 'CylinderHeadTempC'][0])   \n",
    "sim_drive.sim_drive()\n",
    "print(f'Elapsed time: {time.time() - t0:.2e} s')"
   ]
  },
  {
   "cell_type": "markdown",
   "metadata": {},
   "source": [
    "### Results"
   ]
  },
  {
   "cell_type": "code",
   "execution_count": 55,
   "metadata": {},
   "outputs": [
    {
     "data": {
      "text/plain": [
       "Text(0, 0.5, 'Fuel Converter Temperature [$^\\\\circ$C]')"
      ]
     },
     "execution_count": 55,
     "metadata": {},
     "output_type": "execute_result"
    },
    {
     "data": {
      "image/png": "[encoded data removed]",
      "text/plain": [
       "<Figure size 432x288 with 1 Axes>"
      ]
     },
     "metadata": {
      "needs_background": "light"
     },
     "output_type": "display_data"
    }
   ],
   "source": [
    "plt.plot(cyc.cycSecs, sim_drive.teFcDegC)\n",
    "plt.plot(test_time_steps, df.loc[idx[cyc_name, :, :], 'CylinderHeadTempC'])\n",
    "plt.xlabel('Time [s]')\n",
    "plt.ylabel('Fuel Converter Temperature [$^\\circ$C]')"
   ]
  },
  {
   "cell_type": "code",
   "execution_count": 43,
   "metadata": {},
   "outputs": [
    {
     "data": {
      "text/plain": [
       "Text(0, 0.5, 'Speed Achieved [mps]')"
      ]
     },
     "execution_count": 43,
     "metadata": {},
     "output_type": "execute_result"
    },
    {
     "data": {
      "image/png": "[encoded data removed]",
      "text/plain": [
       "<Figure size 432x288 with 2 Axes>"
      ]
     },
     "metadata": {
      "needs_background": "light"
     },
     "output_type": "display_data"
    }
   ],
   "source": [
    "fig, (ax1, ax2) = plt.subplots(2, 1, sharex=True)\n",
    "ax1.plot(cyc.cycSecs, sim_drive.fcKwOutAch, label='eng out')\n",
    "ax1.plot(cyc.cycSecs, sim_drive.fcConvToAmbKw, label='heat loss')\n",
    "ax1.plot(cyc.cycSecs, sim_drive.fcHeatGenKw, label='heat gen')\n",
    "ax1.set_ylabel('Power [kW]')\n",
    "ax1.legend()\n",
    "ax2.plot(cyc.cycSecs, sim_drive.mpsAch)\n",
    "ax2.set_xlabel('Time [s]')\n",
    "ax2.set_ylabel('Speed Achieved [mps]')"
   ]
  },
  {
   "cell_type": "code",
   "execution_count": null,
   "metadata": {
    "jupyter": {
     "source_hidden": true
    }
   },
   "outputs": [],
   "source": []
  }
 ],
 "metadata": {
  "hide_input": false,
  "kernelspec": {
   "display_name": "Python 3",
   "language": "python",
   "name": "python3"
  },
  "language_info": {
   "codemirror_mode": {
    "name": "ipython",
    "version": 3
   },
   "file_extension": ".py",
   "mimetype": "text/x-python",
   "name": "python",
   "nbconvert_exporter": "python",
   "pygments_lexer": "ipython3",
   "version": "3.7.6"
  }
 },
 "nbformat": 4,
 "nbformat_minor": 4
}
