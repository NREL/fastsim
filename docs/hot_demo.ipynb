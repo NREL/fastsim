{
 "cells": [
  {
   "cell_type": "code",
   "execution_count": 1,
   "metadata": {
    "ExecuteTime": {
     "end_time": "2018-03-06T22:17:53.637344Z",
     "start_time": "2018-03-06T22:17:53.628816Z"
    }
   },
   "outputs": [],
   "source": [
    "import sys\n",
    "import os\n",
    "from pathlib import Path\n",
    "# allow it to find simdrive module\n",
    "fsimpath=str(Path(os.getcwd()).parents[0])\n",
    "if fsimpath not in sys.path:\n",
    "    sys.path.append(fsimpath)\n",
    "import numpy as np\n",
    "import time\n",
    "import pandas as pd\n",
    "import matplotlib.pyplot as plt\n",
    "from collections import ChainMap\n",
    "from scipy.integrate import cumtrapz, trapz\n",
    "import re\n",
    "import importlib\n",
    "import seaborn as sns\n",
    "sns.set()\n",
    "\n",
    "%matplotlib inline"
   ]
  },
  {
   "cell_type": "code",
   "execution_count": 2,
   "metadata": {
    "ExecuteTime": {
     "end_time": "2018-03-06T22:17:53.637344Z",
     "start_time": "2018-03-06T22:17:53.628816Z"
    }
   },
   "outputs": [
    {
     "data": {
      "text/plain": [
       "<module 'hot_utilities' from 'C:\\\\Users\\\\cbaker2\\\\Documents\\\\GitHub\\\\fastsim\\\\docs\\\\hot_utilities.py'>"
      ]
     },
     "execution_count": 2,
     "metadata": {},
     "output_type": "execute_result"
    }
   ],
   "source": [
    "# local modules\n",
    "from fastsim import simdrivehot, simdrive, vehicle, cycle, params, utils\n",
    "import hot_utilities as hot_utils\n",
    "importlib.reload(hot_utils)\n",
    "# importlib.reload(simdrive)\n",
    "# importlib.reload(cycle)"
   ]
  },
  {
   "cell_type": "markdown",
   "metadata": {},
   "source": [
    "# IMPORTANT TASKS\n",
    "## General\n",
    "Make sure temp is initalized for each sim_drive_walk  \n",
    "Make sure fc efficiency impact is accounted for  \n",
    "Make sure heater affects engine temp and maybe aux load  \n",
    "Make sure A/C affects aux load  \n",
    "Cabin thermal model before tuning?\n",
    "\n",
    "## Tuning\n",
    "### Parameters\n",
    "radiator convection coeff.  \n",
    "idle convection coeff.  \n",
    "heater something  \n",
    "thermal mass = f(displacement)?  \n",
    "diameter = f(displacement)?\n",
    "\n",
    "### Objectives\n",
    "fuel consumption  \n",
    "temperature fit  \n",
    "eng. temperature derivative fit  \n",
    "cabin temperature fit  \n",
    "cabin temperature derivative fit\n",
    "\n"
   ]
  },
  {
   "cell_type": "code",
   "execution_count": null,
   "metadata": {
    "ExecuteTime": {
     "end_time": "2018-03-06T22:17:53.655894Z",
     "start_time": "2018-03-06T22:17:53.639578Z"
    }
   },
   "outputs": [
    {
     "name": "stdout",
     "output_type": "stream",
     "text": [
      "Loading test data.\n"
     ]
    }
   ],
   "source": [
    "df = hot_utils.load_test_data(use_cs=True, use_hs=True)\n",
    "idx = pd.IndexSlice # used to slice multi index \n",
    "\n",
    "cyc_name = 'us06x4 0F cs'\n",
    "# cyc_name = 'us06x2 95F hs'"
   ]
  },
  {
   "cell_type": "code",
   "execution_count": null,
   "metadata": {
    "ExecuteTime": {
     "end_time": "2018-03-06T22:17:53.655894Z",
     "start_time": "2018-03-06T22:17:53.639578Z"
    }
   },
   "outputs": [],
   "source": [
    "t0 = time.time()\n",
    "test_time_steps = df.loc[idx[cyc_name, :, :], 'DAQ_Time[s]'].values\n",
    "test_te_amb = df.loc[idx[cyc_name, :, :], 'Cell_Temp[C]'].values\n",
    "\n",
    "cycSecs = np.arange(0, round(test_time_steps[-1], 0))\n",
    "cycMps = np.interp(cycSecs, \n",
    "    test_time_steps, \n",
    "    df.loc[idx[cyc_name, :, :], 'Dyno_Spd[mps]'].values)\n",
    "\n",
    "cyc = cycle.Cycle(cyc_dict={'cycSecs':cycSecs, 'cycMps':cycMps})\n",
    "cyc_jit = cyc.get_numba_cyc()\n",
    "print(\"Elapsed time to create cycle: {:.2e} s\".format(time.time() - t0))"
   ]
  },
  {
   "cell_type": "code",
   "execution_count": null,
   "metadata": {
    "ExecuteTime": {
     "end_time": "2018-03-06T22:17:53.664162Z",
     "start_time": "2018-03-06T22:17:53.657556Z"
    }
   },
   "outputs": [],
   "source": [
    "t0 = time.time()\n",
    "veh = vehicle.Vehicle(veh_file=Path('../vehdb/2012 Ford Fusion.csv'))\n",
    "veh_jit = veh.get_numba_veh()\n",
    "print(time.time() - t0)\n",
    "\n",
    "# correcting for actual vehicle coastdown parameters\n",
    "veh_jit.dragCoef, veh_jit.wheelRrCoef = utils.abc_to_drag_coeffs(3625 / 2.2, \n",
    "                                                         veh.frontalAreaM2, \n",
    "                                                         35.55, 0.2159, 0.0182)\n",
    "veh_jit.auxKw = 1.1 # getting difference between test and model to remain constant during idle\n",
    "veh_jit.fcEffArray *= 1 / 1.0539 # correcting for remaining difference"
   ]
  },
  {
   "cell_type": "code",
   "execution_count": null,
   "metadata": {
    "ExecuteTime": {
     "end_time": "2018-03-06T22:17:54.227462Z",
     "start_time": "2018-03-06T22:17:53.665928Z"
    }
   },
   "outputs": [],
   "source": [
    "t0 = time.time()\n",
    "sim_drive = simdrivehot.SimDriveHotJit(cyc_jit, veh_jit, \n",
    "    teAmbDegC = np.interp(cycSecs, test_time_steps, test_te_amb),\n",
    "      teFcInitDegC=df.loc[idx[cyc_name, :, 0], 'CylinderHeadTempC'][0]) \n",
    "\n",
    "params = ['fcThrmMass', 'fcDiam', 'hFcToAmbStop', 'radiator_eff', 'fcTempEffOffset', 'fcTempEffSlope']\n",
    "x = [1.420e+02, 2.116e+00, 1.824e+02, 1.669e+01, 3.190e-01, 7.285e-03] # really good f\n",
    "# x = [1.524e+02, 1.716e-01, 3.715e+00, 1.670e+01, 2.813e-01, 8.624e-03] \n",
    "# x = [2.426e+02, 4.803e+00, 3.020e+01, 3.130e+01, 4.023e-01, 2.663e-02]\n",
    "\n",
    "\n",
    "for i, param in enumerate(params):\n",
    "    sim_drive.__setattr__(param, x[i])\n",
    "    \n",
    "# sim_drive.fcTempEffOffset = 0.05\n",
    "    \n",
    "sim_drive.sim_drive()\n",
    "print(f'Elapsed time: {time.time() - t0:.2e} s')"
   ]
  },
  {
   "cell_type": "markdown",
   "metadata": {},
   "source": [
    "### Results"
   ]
  },
  {
   "cell_type": "code",
   "execution_count": null,
   "metadata": {},
   "outputs": [],
   "source": [
    "fig, (ax1, ax2) = plt.subplots(2, 1, sharex=True, figsize=(10,8))\n",
    "ax1.plot(cyc.cycSecs, sim_drive.teFcDegC, label='model')\n",
    "ax1.plot(test_time_steps, df.loc[idx[cyc_name, :, :], 'CylinderHeadTempC'], label='test')\n",
    "ax1.set_ylabel('FC Temp. [$^\\circ$C]')\n",
    "ax1.legend()\n",
    "ax2.plot(cyc.cycSecs, sim_drive.mpsAch)\n",
    "ax2.set_xlabel('Time [s]')\n",
    "ax2.set_ylabel('Speed \\nAchieved [mps]')"
   ]
  },
  {
   "cell_type": "code",
   "execution_count": null,
   "metadata": {},
   "outputs": [],
   "source": [
    "fig, (ax1, ax2) = plt.subplots(2, 1, sharex=True, figsize=(10,8))\n",
    "ax1.plot(cyc.cycSecs[1:], cumtrapz(x=cyc.cycSecs, y=sim_drive.fcKwInAch * 1e-3), label='model')\n",
    "ax1.plot(test_time_steps[1:], cumtrapz(x=test_time_steps, y=df.loc[idx[cyc_name, :, :], 'Fuel_Power_Calc[kW]'] * 1e-3), label='test')\n",
    "ax1.set_ylabel('Fuel Energy [MJ]')\n",
    "ax1.legend()\n",
    "ax2.plot(cyc.cycSecs, sim_drive.mpsAch, label='model')\n",
    "ax2.plot(df.loc[idx[cyc_name, :, :], 'Time[s]'], \n",
    "         df.loc[idx[cyc_name, :, :], 'Dyno_Spd[mps]'],\n",
    "        label='test', linestyle='--')\n",
    "ax2.set_xlabel('Time [s]')\n",
    "ax2.set_ylabel('Speed \\nAchieved [mps]')\n",
    "\n",
    "fuel_frac_err = (np.trapz(x=cyc.cycSecs, y=sim_drive.fcKwInAch) - \n",
    "                np.trapz(x=test_time_steps, \n",
    "                         y=df.loc[idx[cyc_name, :, :], 'Fuel_Power_Calc[kW]'])) /\\\n",
    "                np.trapz(x=test_time_steps, \n",
    "                         y=df.loc[idx[cyc_name, :, :], 'Fuel_Power_Calc[kW]'])\n",
    "less_more = 'less' if fuel_frac_err < 0 else 'more'\n",
    "print(f\"Model uses {abs(fuel_frac_err):.2%} \" + less_more + \" fuel than test.\")"
   ]
  },
  {
   "cell_type": "code",
   "execution_count": null,
   "metadata": {},
   "outputs": [],
   "source": [
    "fig, (ax1, ax2) = plt.subplots(2, 1, sharex=True, figsize=(10,8))\n",
    "ax1.plot(cyc.cycSecs, sim_drive.fcKwInAch, label='model')\n",
    "ax1.plot(test_time_steps, df.loc[idx[cyc_name, :, :], 'Fuel_Power_Calc[kW]'], label='test')\n",
    "ax1.set_ylabel('Fuel Power [kW]')\n",
    "ax1.legend()\n",
    "ax2.plot(cyc.cycSecs, sim_drive.mpsAch, label='model')\n",
    "ax2.plot(df.loc[idx[cyc_name, :, :], 'Time[s]'], \n",
    "         df.loc[idx[cyc_name, :, :], 'Dyno_Spd[mps]'],\n",
    "        label='test', linestyle='--')\n",
    "ax2.set_xlabel('Time [s]')\n",
    "ax2.set_ylabel('Speed \\nAchieved [mps]')\n",
    "\n",
    "fuel_frac_err = (np.trapz(x=cyc.cycSecs, y=sim_drive.fcKwInAch) - \n",
    "                np.trapz(x=test_time_steps, \n",
    "                         y=df.loc[idx[cyc_name, :, :], 'Fuel_Power_Calc[kW]'])) /\\\n",
    "                np.trapz(x=test_time_steps, \n",
    "                         y=df.loc[idx[cyc_name, :, :], 'Fuel_Power_Calc[kW]'])\n",
    "less_more = 'less' if fuel_frac_err < 0 else 'more'\n",
    "print(f\"Model uses {abs(fuel_frac_err):.2%} \" + less_more + \" fuel than test.\")"
   ]
  },
  {
   "cell_type": "code",
   "execution_count": null,
   "metadata": {},
   "outputs": [],
   "source": [
    "fig, (ax1, ax2) = plt.subplots(2, 1, sharex=True, figsize=(10,8))\n",
    "ax1.plot(cyc.cycSecs[1:], \n",
    "         cumtrapz(x=cyc.cycSecs, \n",
    "                  y=sim_drive.fcKwInAch - \n",
    "                  np.interp(x=cyc.cycSecs, xp=test_time_steps, fp=df.loc[idx[cyc_name, :, :], 'Fuel_Power_Calc[kW]'])\n",
    "                 ) * 1e-3)\n",
    "\n",
    "ax1.set_ylabel('Fuel Energy Difference [MJ]')\n",
    "ax2.plot(cyc.cycSecs, sim_drive.mpsAch, label='model')\n",
    "ax2.plot(df.loc[idx[cyc_name, :, :], 'Time[s]'], \n",
    "         df.loc[idx[cyc_name, :, :], 'Dyno_Spd[mps]'],\n",
    "        label='test', linestyle='--')\n",
    "ax2.set_xlabel('Time [s]')\n",
    "ax2.set_ylabel('Speed \\nAchieved [mps]')\n",
    "ax1.set_title('Model - Test')\n",
    "\n",
    "fuel_frac_err = (np.trapz(x=cyc.cycSecs, y=sim_drive.fcKwInAch) - \n",
    "                np.trapz(x=test_time_steps, \n",
    "                         y=df.loc[idx[cyc_name, :, :], 'Fuel_Power_Calc[kW]'])) /\\\n",
    "                np.trapz(x=test_time_steps, \n",
    "                         y=df.loc[idx[cyc_name, :, :], 'Fuel_Power_Calc[kW]'])\n",
    "less_more = 'less' if fuel_frac_err < 0 else 'more'\n",
    "print(f\"Model uses {abs(fuel_frac_err):.2%} \" + less_more + \" fuel than test.\")"
   ]
  },
  {
   "cell_type": "code",
   "execution_count": null,
   "metadata": {},
   "outputs": [],
   "source": [
    "fig, (ax1, ax2) = plt.subplots(2, 1, sharex=True)\n",
    "ax1.plot(cyc.cycSecs, sim_drive.fcKwOutAch, label='eng out')\n",
    "ax1.plot(cyc.cycSecs, sim_drive.fcConvToAmbKw, label='heat loss')\n",
    "ax1.plot(cyc.cycSecs, sim_drive.fcHeatGenKw, label='heat gen')\n",
    "ax1.set_ylabel('Power [kW]')\n",
    "ax1.legend()\n",
    "ax2.plot(cyc.cycSecs, sim_drive.mpsAch)\n",
    "ax2.set_xlabel('Time [s]')\n",
    "ax2.set_ylabel('Speed Achieved [mps]')"
   ]
  },
  {
   "cell_type": "code",
   "execution_count": null,
   "metadata": {},
   "outputs": [],
   "source": [
    "fig, (ax1, ax2) = plt.subplots(2, 1, sharex=True)\n",
    "ax1.plot(cyc.cycSecs, sim_drive.hFcToAmb, label='final')\n",
    "ax1.plot(cyc.cycSecs, sim_drive.hFcToAmbRad * np.ones(len(cyc.cycSecs)), \n",
    "         label='rad')\n",
    "ax1.plot(cyc.cycSecs, sim_drive.hFcToAmbStop * np.ones(len(cyc.cycSecs)), \n",
    "         label='stop')\n",
    "ax1.set_ylabel('h [W/m^2/K]')\n",
    "ax1.legend()\n",
    "ax2.plot(cyc.cycSecs, sim_drive.mpsAch)\n",
    "ax2.set_xlabel('Time [s]')\n",
    "ax2.set_ylabel('Speed Achieved [mps]')"
   ]
  },
  {
   "cell_type": "code",
   "execution_count": null,
   "metadata": {},
   "outputs": [],
   "source": []
  }
 ],
 "metadata": {
  "hide_input": false,
  "kernelspec": {
   "display_name": "Python 3",
   "language": "python",
   "name": "python3"
  },
  "language_info": {
   "codemirror_mode": {
    "name": "ipython",
    "version": 3
   },
   "file_extension": ".py",
   "mimetype": "text/x-python",
   "name": "python",
   "nbconvert_exporter": "python",
   "pygments_lexer": "ipython3",
   "version": "3.7.6"
  }
 },
 "nbformat": 4,
 "nbformat_minor": 4
}
