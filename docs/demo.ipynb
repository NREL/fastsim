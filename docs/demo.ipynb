{
 "cells": [
  {
   "cell_type": "markdown",
   "metadata": {},
   "source": [
    "# FASTSim Demonstration\n",
    "\n",
    "Developed by NREL, the Future Automotive Systems Technology Simulator (FASTSim) evaluates the impact of technology improvements on efficiency, performance, cost, and battery life in conventional vehicles, hybrid electric vehicles (HEVs), plug-in hybrid electric vehicles (PHEVs), and all-electric vehicles (EVs).\n",
    "\n",
    "FASTSim answers questions like:\n",
    "- Which battery sizes are most cost effective for a PHEV or EV?\n",
    "- At what battery prices do PHEVs and EVs become cost effective?\n",
    "- On average, how much fuel does a PHEV with a 30-mile electric range save?\n",
    "- How much fuel savings does an HEV provide for a given drive cycle?\n",
    "- How do lifetime costs and petroleum use compare for conventional vehicles, HEVs, PHEVs, and EVs?\n",
    "\n",
    "FASTSim was originally implemented in Microsoft Excel. The pythonic implementation of FASTSim, demonstrated here, is the drive cycle energy consumption simulation component of the software. With python, it is able to run more quickly and more easily be applied to a large set of drive cycles."
   ]
  },
  {
   "cell_type": "markdown",
   "metadata": {},
   "source": [
    "## Packages"
   ]
  },
  {
   "cell_type": "code",
   "execution_count": 2,
   "metadata": {
    "ExecuteTime": {
     "end_time": "2018-01-05T14:12:41.401788Z",
     "start_time": "2018-01-05T14:12:40.107235Z"
    }
   },
   "outputs": [],
   "source": [
    "import sys\n",
    "sys.path.append('../src')\n",
    "import FASTSim"
   ]
  },
  {
   "cell_type": "code",
   "execution_count": null,
   "metadata": {
    "collapsed": true
   },
   "outputs": [],
   "source": []
  }
 ],
 "metadata": {
  "hide_input": false,
  "kernelspec": {
   "display_name": "Python 2",
   "language": "python",
   "name": "python2"
  },
  "language_info": {
   "codemirror_mode": {
    "name": "ipython",
    "version": 2
   },
   "file_extension": ".py",
   "mimetype": "text/x-python",
   "name": "python",
   "nbconvert_exporter": "python",
   "pygments_lexer": "ipython2",
   "version": "2.7.13"
  }
 },
 "nbformat": 4,
 "nbformat_minor": 2
}
