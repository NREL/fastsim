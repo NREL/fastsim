{
 "cells": [
  {
   "cell_type": "markdown",
   "metadata": {},
   "source": [
    "\n",
    "# FASTSim Demonstration\n",
    "\n",
    "![fastsim icon](icon_fastsim.jpg)\n",
    "\n",
    "Developed by NREL, the Future Automotive Systems Technology Simulator (FASTSim) evaluates the impact of technology improvements on efficiency, performance, cost, and battery life in conventional vehicles, hybrid electric vehicles (HEVs), plug-in hybrid electric vehicles (PHEVs), and all-electric vehicles (EVs).\n",
    "\n",
    "FASTSim answers questions such as:\n",
    "- Which battery sizes are most cost effective for a PHEV or EV?\n",
    "- At what battery prices do PHEVs and EVs become cost effective?\n",
    "- On average, how much fuel does a PHEV with a 30-mile electric range save?\n",
    "- How much fuel savings does an HEV provide for a given drive cycle?\n",
    "- How do lifetime costs and petroleum use compare for conventional vehicles, HEVs, PHEVs, and EVs?\n",
    "\n",
    "FASTSim was originally implemented in Microsoft Excel. The pythonic implementation of FASTSim, demonstrated here, captures the drive cycle energy consumption simulation component of the software. The python version of FASTSim is more convenient than the Excel version when very high computational speed is desired, such as for simulating a large batch of drive cycles."
   ]
  },
  {
   "cell_type": "code",
   "execution_count": 1,
   "metadata": {
    "ExecuteTime": {
     "end_time": "2018-03-06T22:17:53.637344Z",
     "start_time": "2018-03-06T22:17:53.628816Z"
    }
   },
   "outputs": [],
   "source": [
    "import sys\n",
    "import os\n",
    "from pathlib import Path\n",
    "# allow it to find simdrive module\n",
    "fsimpath=str(Path(os.getcwd()).parents[0])\n",
    "if fsimpath not in sys.path:\n",
    "    sys.path.append(fsimpath)\n",
    "import numpy as np\n",
    "import time\n",
    "import pandas as pd\n",
    "import matplotlib.pyplot as plt\n",
    "import importlib\n",
    "# import seaborn as sns\n",
    "# sns.set(font_scale=2, style='whitegrid')\n",
    "\n",
    "%matplotlib inline"
   ]
  },
  {
   "cell_type": "code",
   "execution_count": 2,
   "metadata": {
    "ExecuteTime": {
     "end_time": "2018-03-06T22:17:53.637344Z",
     "start_time": "2018-03-06T22:17:53.628816Z"
    }
   },
   "outputs": [],
   "source": [
    "# local modules\n",
    "from fastsim import simdrive, vehicle, cycle\n",
    "# importlib.reload(simdrive)\n",
    "# importlib.reload(cycle)"
   ]
  },
  {
   "cell_type": "markdown",
   "metadata": {},
   "source": [
    "## Individual Drive Cycle\n",
    "### Load Drive Cycle\n",
    "\n",
    "Default (UDDS, US06, HWFET) cycles can be loaded from the ```../cycles``` directory, or custom cycles can be specified in the same format. The expected format is a dictionary with the following keys: \n",
    "\n",
    "```['cycGrade', 'cycMps', 'cycSecs', 'cycRoadType']```\n",
    "- cycGrade = Road grade [%/100]\n",
    "- cycMps = Vehicle speed [meters per second]\n",
    "- cycSecs = Relative time in the cycles [seconds]\n",
    "- cycRoadType = Indicator as to whether or not there is a wireless charging capability from the road to vehicle\n",
    "\n",
    "There is no limit to the length of a drive cycle that can be provided as an input to FASTSim."
   ]
  },
  {
   "cell_type": "code",
   "execution_count": 11,
   "metadata": {
    "ExecuteTime": {
     "end_time": "2018-03-06T22:17:53.655894Z",
     "start_time": "2018-03-06T22:17:53.639578Z"
    }
   },
   "outputs": [
    {
     "name": "stdout",
     "output_type": "stream",
     "text": [
      "0.002991914749145508\n"
     ]
    }
   ],
   "source": [
    "t0 = time.time()\n",
    "cyc = cycle.Cycle(\"udds\")\n",
    "cyc_jit = cyc.get_numba_cyc()\n",
    "print(time.time() - t0)"
   ]
  },
  {
   "cell_type": "markdown",
   "metadata": {},
   "source": [
    "### Load Powertrain Model\n",
    "\n",
    "A vehicle database in CSV format is required to be in the working directory where FASTSim is running (i.e. the same directory as this notebook). The \"get_veh\" function selects the appropriate vehicle attributes from the database and contructs the powertrain model (engine efficiency map, etc.). An integer value corresponds to each vehicle in the database. To add a new vehicle, simply populate a new row to the vehicle database CSV."
   ]
  },
  {
   "cell_type": "code",
   "execution_count": 12,
   "metadata": {
    "ExecuteTime": {
     "end_time": "2018-03-06T22:17:53.664162Z",
     "start_time": "2018-03-06T22:17:53.657556Z"
    }
   },
   "outputs": [
    {
     "name": "stdout",
     "output_type": "stream",
     "text": [
      "0.030912399291992188\n"
     ]
    }
   ],
   "source": [
    "t0 = time.time()\n",
    "veh = vehicle.Vehicle(9)\n",
    "veh_jit = veh.get_numba_veh()\n",
    "print(time.time() - t0)"
   ]
  },
  {
   "cell_type": "markdown",
   "metadata": {},
   "source": [
    "### Run FASTSim\n",
    "\n",
    "The \"sim_drive\" function takes the drive cycle and vehicle models defined above as inputs. The output is a dictionary of time series and scalar values described the simulation results. Typically of interest is the \"gge\" key, which is an array of time series energy consumption data at each time step in the drive cycle.\n",
    "\n",
    "If running FASTSim in batch over many drive cycles, the output from \"sim_drive\" can be written to files or database for batch post-processing. "
   ]
  },
  {
   "cell_type": "code",
   "execution_count": 13,
   "metadata": {
    "ExecuteTime": {
     "end_time": "2018-03-06T22:17:54.227462Z",
     "start_time": "2018-03-06T22:17:53.665928Z"
    }
   },
   "outputs": [
    {
     "name": "stdout",
     "output_type": "stream",
     "text": [
      "0.011940479278564453\n"
     ]
    }
   ],
   "source": [
    "t0 = time.time()\n",
    "\n",
    "# instantiate and run classic version via convenience wrapper\n",
    "# sim_drive = simdrive.SimDriveClassic(cyc_jit, veh_jit)\n",
    "# sim_drive.sim_drive()\n",
    "\n",
    "# instantiate and run JIT compiled version directly\n",
    "# SimDriveJit can only take one mandatory positional argument for initSoc\n",
    "sim_drive = simdrive.SimDriveJit(cyc_jit, veh_jit)\n",
    "sim_drive.sim_drive() \n",
    "\n",
    "print(time.time() - t0)"
   ]
  },
  {
   "cell_type": "code",
   "execution_count": 14,
   "metadata": {},
   "outputs": [
    {
     "name": "stdout",
     "output_type": "stream",
     "text": [
      "0.0728607177734375\n"
     ]
    }
   ],
   "source": [
    "t0 = time.time()\n",
    "sim_drive_post = simdrive.SimDrivePost(sim_drive)\n",
    "output = sim_drive_post.get_output()\n",
    "sim_drive_post.set_battery_wear()\n",
    "diag = sim_drive_post.get_diagnostics()\n",
    "print(time.time() - t0)"
   ]
  },
  {
   "cell_type": "markdown",
   "metadata": {},
   "source": [
    "### Results"
   ]
  },
  {
   "cell_type": "code",
   "execution_count": 7,
   "metadata": {
    "ExecuteTime": {
     "end_time": "2018-03-06T22:17:54.283575Z",
     "start_time": "2018-03-06T22:17:54.228914Z"
    }
   },
   "outputs": [],
   "source": [
    "df = pd.DataFrame.from_dict(output)[['soc','fcKwInAch']]\n",
    "df['speed'] = cyc.cycMps * 2.23694  # Convert mps to mph"
   ]
  },
  {
   "cell_type": "code",
   "execution_count": 8,
   "metadata": {
    "ExecuteTime": {
     "end_time": "2018-03-06T22:17:54.573517Z",
     "start_time": "2018-03-06T22:17:54.285832Z"
    }
   },
   "outputs": [
    {
     "data": {
      "image/png": "[encoded data removed]",
      "text/plain": [
       "<Figure size 648x360 with 2 Axes>"
      ]
     },
     "metadata": {
      "needs_background": "light"
     },
     "output_type": "display_data"
    }
   ],
   "source": [
    "fig, ax = plt.subplots(figsize=(9, 5))\n",
    "kwh_line = df.fcKwInAch.plot(ax=ax, label='kW')\n",
    "\n",
    "ax2 = ax.twinx()\n",
    "speed_line = df.speed.plot(color='xkcd:pale red', ax=ax2, label='Speed')\n",
    "\n",
    "ax.set_xlabel('Cycle Time [s]', weight='bold')\n",
    "ax.set_ylabel('Engine Input Power [kW]', weight='bold', color='xkcd:bluish')\n",
    "ax.tick_params('y', colors='xkcd:bluish')\n",
    "\n",
    "ax2.set_ylabel('Speed [MPH]', weight='bold', color='xkcd:pale red')\n",
    "ax2.grid(False)\n",
    "ax2.tick_params('y', colors='xkcd:pale red')"
   ]
  },
  {
   "cell_type": "markdown",
   "metadata": {},
   "source": [
    "## Running sim_drive_step() with modified auxInKw\n",
    "Note that auxInKw is the only variable setup to be externally modified as of 1 July 2020"
   ]
  },
  {
   "cell_type": "code",
   "execution_count": 9,
   "metadata": {},
   "outputs": [
    {
     "ename": "TypingError",
     "evalue": "Failed in nopython mode pipeline (step: nopython frontend)\n\u001b[1m\u001b[1m\u001b[1m\u001b[1m- Resolution failure for literal arguments:\n\u001b[1mtoo many positional arguments\u001b[0m\n\u001b[0m\u001b[1m- Resolution failure for non-literal arguments:\n\u001b[1mNone\u001b[0m\n\u001b[0m\u001b[0m\n\u001b[0m\u001b[1mDuring: resolving callee type: BoundFunction((<class 'numba.core.types.misc.ClassInstanceType'>, 'sim_drive_step') for instance.jitclass.SimDriveJit#1e731d249c8<curMaxFsKwOut:array(float64, 1d, A),fcTransLimKw:array(float64, 1d, A),fcFsLimKw:array(float64, 1d, A),fcMaxKwIn:array(float64, 1d, A),curMaxFcKwOut:array(float64, 1d, A),essCapLimDischgKw:array(float64, 1d, A),curMaxEssKwOut:array(float64, 1d, A),curMaxAvailElecKw:array(float64, 1d, A),essCapLimChgKw:array(float64, 1d, A),curMaxEssChgKw:array(float64, 1d, A),curMaxElecKw:array(float64, 1d, A),mcElecInLimKw:array(float64, 1d, A),mcTransiLimKw:array(float64, 1d, A),curMaxMcKwOut:array(float64, 1d, A),essLimMcRegenPercKw:array(float64, 1d, A),essLimMcRegenKw:array(float64, 1d, A),curMaxMechMcKwIn:array(float64, 1d, A),curMaxTransKwOut:array(float64, 1d, A),cycDragKw:array(float64, 1d, A),cycAccelKw:array(float64, 1d, A),cycAscentKw:array(float64, 1d, A),cycTracKwReq:array(float64, 1d, A),curMaxTracKw:array(float64, 1d, A),spareTracKw:array(float64, 1d, A),cycRrKw:array(float64, 1d, A),cycWheelRadPerSec:array(float64, 1d, A),cycTireInertiaKw:array(float64, 1d, A),cycWheelKwReq:array(float64, 1d, A),regenContrLimKwPerc:array(float64, 1d, A),cycRegenBrakeKw:array(float64, 1d, A),cycFricBrakeKw:array(float64, 1d, A),cycTransKwOutReq:array(float64, 1d, A),cycMet:array(float64, 1d, A),transKwOutAch:array(float64, 1d, A),transKwInAch:array(float64, 1d, A),curSocTarget:array(float64, 1d, A),minMcKw2HelpFc:array(float64, 1d, A),mcMechKwOutAch:array(float64, 1d, A),mcElecKwInAch:array(float64, 1d, A),auxInKw:array(float64, 1d, A),roadwayChgKwOutAch:array(float64, 1d, A),minEssKw2HelpFc:array(float64, 1d, A),essKwOutAch:array(float64, 1d, A),fcKwOutAch:array(float64, 1d, A),fcKwOutAch_pct:array(float64, 1d, A),fcKwInAch:array(float64, 1d, A),fsKwOutAch:array(float64, 1d, A),fsKwhOutAch:array(float64, 1d, A),essCurKwh:array(float64, 1d, A),soc:array(float64, 1d, A),regenBufferSoc:array(float64, 1d, A),essRegenBufferDischgKw:array(float64, 1d, A),maxEssRegenBufferChgKw:array(float64, 1d, A),essAccelBufferChgKw:array(float64, 1d, A),accelBufferSoc:array(float64, 1d, A),maxEssAccelBufferDischgKw:array(float64, 1d, A),essAccelRegenDischgKw:array(float64, 1d, A),mcElectInKwForMaxFcEff:array(float64, 1d, A),electKwReq4AE:array(float64, 1d, A),desiredEssKwOutForAE:array(float64, 1d, A),essAEKwOut:array(float64, 1d, A),erAEKwOut:array(float64, 1d, A),essDesiredKw4FcEff:array(float64, 1d, A),essKwIfFcIsReq:array(float64, 1d, A),curMaxMcElecKwIn:array(float64, 1d, A),fcKwGapFrEff:array(float64, 1d, A),erKwIfFcIsReq:array(float64, 1d, A),mcElecKwInIfFcIsReq:array(float64, 1d, A),mcKwIfFcIsReq:array(float64, 1d, A),mcMechKw4ForcedFc:array(float64, 1d, A),fcTimeOn:array(float64, 1d, A),prevfcTimeOn:array(float64, 1d, A),mpsAch:array(float64, 1d, A),mphAch:array(float64, 1d, A),distMeters:array(float64, 1d, A),distMiles:array(float64, 1d, A),highAccFcOnTag:array(float64, 1d, A),reachedBuff:array(float64, 1d, A),maxTracMps:array(float64, 1d, A),addKwh:array(float64, 1d, A),dodCycs:array(float64, 1d, A),essPercDeadArray:array(float64, 1d, A),dragKw:array(float64, 1d, A),essLossKw:array(float64, 1d, A),accelKw:array(float64, 1d, A),ascentKw:array(float64, 1d, A),rrKw:array(float64, 1d, A),motor_index_debug:array(float64, 1d, A),debug_flag:array(float64, 1d, A),curMaxRoadwayChgKw:array(float64, 1d, A),i:int32,fcForcedOn:array(bool, 1d, A),fcForcedState:array(int32, 1d, A),canPowerAllElectrically:array(bool, 1d, A),mpgge:float64,roadwayChgKj:float64,essDischgKj:float64,battery_kWh_per_mi:float64,electric_kWh_per_mi:float64,fuelKj:float64,ess2fuelKwh:float64,Gallons_gas_equivalent_per_mile:float64,mpgge_elec:float64,grid_mpgge_elec:float64,veh:instance.jitclass.TypedVehicle#1e732e00a48<Selection:int32,Scenario_name:unicode_type,vehPtType:int32,dragCoef:float64,frontalAreaM2:float64,gliderKg:float64,vehCgM:float64,driveAxleWeightFrac:float64,wheelBaseM:float64,cargoKg:float64,vehOverrideKg:float64,maxFuelStorKw:float64,fuelStorSecsToPeakPwr:float64,fuelStorKwh:float64,fuelStorKwhPerKg:float64,maxFuelConvKw:float64,fcEffType:int32,fcAbsEffImpr:float64,fuelConvSecsToPeakPwr:float64,fuelConvBaseKg:float64,fuelConvKwPerKg:float64,maxMotorKw:float64,motorPeakEff:float64,motorSecsToPeakPwr:float64,stopStart:bool,mcPeKgPerKw:float64,mcPeBaseKg:float64,maxEssKw:float64,maxEssKwh:float64,essKgPerKwh:float64,essBaseKg:float64,essRoundTripEff:float64,essLifeCoefA:float64,essLifeCoefB:float64,wheelInertiaKgM2:float64,numWheels:float64,wheelRrCoef:float64,wheelRadiusM:float64,wheelCoefOfFric:float64,minSoc:float64,maxSoc:float64,essDischgToFcMaxEffPerc:float64,essChgToFcMaxEffPerc:float64,maxAccelBufferMph:float64,maxAccelBufferPercOfUseableSoc:float64,percHighAccBuf:float64,mphFcOn:float64,kwDemandFcOn:float64,altEff:float64,chgEff:float64,auxKw:float64,forceAuxOnFC:bool,transKg:float64,transEff:float64,compMassMultiplier:float64,essToFuelOkError:float64,maxRegen:float64,valUddsMpgge:float64,valHwyMpgge:float64,valCombMpgge:float64,valUddsKwhPerMile:float64,valHwyKwhPerMile:float64,valCombKwhPerMile:float64,valCdRangeMi:float64,valConst65MphKwhPerMile:float64,valConst60MphKwhPerMile:float64,valConst55MphKwhPerMile:float64,valConst45MphKwhPerMile:float64,valUnadjUddsKwhPerMile:float64,valUnadjHwyKwhPerMile:float64,val0To60Mph:float64,valEssLifeMiles:float64,valRangeMiles:float64,valVehBaseCost:float64,valMsrp:float64,minFcTimeOn:float64,idleFcKw:float64,MaxRoadwayChgKw:array(float64, 1d, A),chargingOn:bool,noElecSys:bool,noElecAux:bool,vehTypeSelection:int32,fcEffArray:array(float64, 1d, A),fcKwOutArray:array(float64, 1d, A),maxFcEffKw:float64,fcMaxOutkW:float64,mcKwInArray:array(float64, 1d, A),mcKwOutArray:array(float64, 1d, A),mcMaxElecInKw:float64,mcFullEffArray:array(float64, 1d, A),mcEffArray:array(float64, 1d, A),regenA:float64,regenB:float64,vehKg:float64,maxTracMps2:float64,maxRegenKwh:float64>,cyc:instance.jitclass.TypedCycle#1e732df10c8<cycSecs:array(float64, 1d, A),cycMps:array(float64, 1d, A),cycGrade:array(float64, 1d, A),cycRoadType:array(float64, 1d, A),cycMph:array(float64, 1d, A),secs:array(float64, 1d, A)>,dragKj:float64,ascentKj:float64,rrKj:float64,brakeKj:float64,transKj:float64,mcKj:float64,essEffKj:float64,auxKj:float64,fcKj:float64,netKj:float64,keKj:float64,energyAuditError:float64>)\u001b[0m\n\u001b[0m\u001b[1mDuring: typing of call at <string> (3)\n\u001b[0m\n\u001b[1m\nFile \"<string>\", line 3:\u001b[0m\n\u001b[1m<source missing, REPL/exec in use?>\u001b[0m\n",
     "output_type": "error",
     "traceback": [
      "\u001b[1;31m---------------------------------------------------------------------------\u001b[0m",
      "\u001b[1;31mTypingError\u001b[0m                               Traceback (most recent call last)",
      "\u001b[1;32m<ipython-input-9-2343b891b54e>\u001b[0m in \u001b[0;36m<module>\u001b[1;34m\u001b[0m\n\u001b[0;32m      7\u001b[0m \u001b[1;32mwhile\u001b[0m \u001b[0msim_drive\u001b[0m\u001b[1;33m.\u001b[0m\u001b[0mi\u001b[0m \u001b[1;33m<\u001b[0m \u001b[0mlen\u001b[0m\u001b[1;33m(\u001b[0m\u001b[0mcyc\u001b[0m\u001b[1;33m.\u001b[0m\u001b[0mcycSecs\u001b[0m\u001b[1;33m)\u001b[0m\u001b[1;33m:\u001b[0m\u001b[1;33m\u001b[0m\u001b[1;33m\u001b[0m\u001b[0m\n\u001b[0;32m      8\u001b[0m     \u001b[0msim_drive\u001b[0m\u001b[1;33m.\u001b[0m\u001b[0mauxInKw\u001b[0m\u001b[1;33m[\u001b[0m\u001b[0msim_drive\u001b[0m\u001b[1;33m.\u001b[0m\u001b[0mi\u001b[0m\u001b[1;33m]\u001b[0m \u001b[1;33m=\u001b[0m \u001b[1;36m10\u001b[0m \u001b[1;31m# large value to exaggerate results\u001b[0m\u001b[1;33m\u001b[0m\u001b[1;33m\u001b[0m\u001b[0m\n\u001b[1;32m----> 9\u001b[1;33m     \u001b[0msim_drive\u001b[0m\u001b[1;33m.\u001b[0m\u001b[0msim_drive_step\u001b[0m\u001b[1;33m(\u001b[0m\u001b[1;34m'auxInKw'\u001b[0m\u001b[1;33m)\u001b[0m\u001b[1;33m\u001b[0m\u001b[1;33m\u001b[0m\u001b[0m\n\u001b[0m\u001b[0;32m     10\u001b[0m \u001b[1;33m\u001b[0m\u001b[0m\n\u001b[0;32m     11\u001b[0m \u001b[0mplt\u001b[0m\u001b[1;33m.\u001b[0m\u001b[0mplot\u001b[0m\u001b[1;33m(\u001b[0m\u001b[0mcyc\u001b[0m\u001b[1;33m.\u001b[0m\u001b[0mcycSecs\u001b[0m\u001b[1;33m,\u001b[0m \u001b[0msim_drive\u001b[0m\u001b[1;33m.\u001b[0m\u001b[0mfcKwOutAch\u001b[0m\u001b[1;33m,\u001b[0m \u001b[0mlabel\u001b[0m\u001b[1;33m=\u001b[0m\u001b[1;34m'eng out'\u001b[0m\u001b[1;33m)\u001b[0m\u001b[1;33m\u001b[0m\u001b[1;33m\u001b[0m\u001b[0m\n",
      "\u001b[1;32m~\\AppData\\Local\\Continuum\\anaconda3\\lib\\site-packages\\numba\\experimental\\jitclass\\boxing.py\u001b[0m in \u001b[0;36mwrapper\u001b[1;34m(*args, **kwargs)\u001b[0m\n\u001b[0;32m     58\u001b[0m     \u001b[1;33m@\u001b[0m\u001b[0mwraps\u001b[0m\u001b[1;33m(\u001b[0m\u001b[0mfunc\u001b[0m\u001b[1;33m)\u001b[0m\u001b[1;33m\u001b[0m\u001b[1;33m\u001b[0m\u001b[0m\n\u001b[0;32m     59\u001b[0m     \u001b[1;32mdef\u001b[0m \u001b[0mwrapper\u001b[0m\u001b[1;33m(\u001b[0m\u001b[1;33m*\u001b[0m\u001b[0margs\u001b[0m\u001b[1;33m,\u001b[0m \u001b[1;33m**\u001b[0m\u001b[0mkwargs\u001b[0m\u001b[1;33m)\u001b[0m\u001b[1;33m:\u001b[0m\u001b[1;33m\u001b[0m\u001b[1;33m\u001b[0m\u001b[0m\n\u001b[1;32m---> 60\u001b[1;33m         \u001b[1;32mreturn\u001b[0m \u001b[0mmethod\u001b[0m\u001b[1;33m(\u001b[0m\u001b[1;33m*\u001b[0m\u001b[0margs\u001b[0m\u001b[1;33m,\u001b[0m \u001b[1;33m**\u001b[0m\u001b[0mkwargs\u001b[0m\u001b[1;33m)\u001b[0m\u001b[1;33m\u001b[0m\u001b[1;33m\u001b[0m\u001b[0m\n\u001b[0m\u001b[0;32m     61\u001b[0m \u001b[1;33m\u001b[0m\u001b[0m\n\u001b[0;32m     62\u001b[0m     \u001b[1;32mreturn\u001b[0m \u001b[0mwrapper\u001b[0m\u001b[1;33m\u001b[0m\u001b[1;33m\u001b[0m\u001b[0m\n",
      "\u001b[1;32m~\\AppData\\Local\\Continuum\\anaconda3\\lib\\site-packages\\numba\\core\\dispatcher.py\u001b[0m in \u001b[0;36m_compile_for_args\u001b[1;34m(self, *args, **kws)\u001b[0m\n\u001b[0;32m    413\u001b[0m                 \u001b[0me\u001b[0m\u001b[1;33m.\u001b[0m\u001b[0mpatch_message\u001b[0m\u001b[1;33m(\u001b[0m\u001b[0mmsg\u001b[0m\u001b[1;33m)\u001b[0m\u001b[1;33m\u001b[0m\u001b[1;33m\u001b[0m\u001b[0m\n\u001b[0;32m    414\u001b[0m \u001b[1;33m\u001b[0m\u001b[0m\n\u001b[1;32m--> 415\u001b[1;33m             \u001b[0merror_rewrite\u001b[0m\u001b[1;33m(\u001b[0m\u001b[0me\u001b[0m\u001b[1;33m,\u001b[0m \u001b[1;34m'typing'\u001b[0m\u001b[1;33m)\u001b[0m\u001b[1;33m\u001b[0m\u001b[1;33m\u001b[0m\u001b[0m\n\u001b[0m\u001b[0;32m    416\u001b[0m         \u001b[1;32mexcept\u001b[0m \u001b[0merrors\u001b[0m\u001b[1;33m.\u001b[0m\u001b[0mUnsupportedError\u001b[0m \u001b[1;32mas\u001b[0m \u001b[0me\u001b[0m\u001b[1;33m:\u001b[0m\u001b[1;33m\u001b[0m\u001b[1;33m\u001b[0m\u001b[0m\n\u001b[0;32m    417\u001b[0m             \u001b[1;31m# Something unsupported is present in the user code, add help info\u001b[0m\u001b[1;33m\u001b[0m\u001b[1;33m\u001b[0m\u001b[1;33m\u001b[0m\u001b[0m\n",
      "\u001b[1;32m~\\AppData\\Local\\Continuum\\anaconda3\\lib\\site-packages\\numba\\core\\dispatcher.py\u001b[0m in \u001b[0;36merror_rewrite\u001b[1;34m(e, issue_type)\u001b[0m\n\u001b[0;32m    356\u001b[0m                 \u001b[1;32mraise\u001b[0m \u001b[0me\u001b[0m\u001b[1;33m\u001b[0m\u001b[1;33m\u001b[0m\u001b[0m\n\u001b[0;32m    357\u001b[0m             \u001b[1;32melse\u001b[0m\u001b[1;33m:\u001b[0m\u001b[1;33m\u001b[0m\u001b[1;33m\u001b[0m\u001b[0m\n\u001b[1;32m--> 358\u001b[1;33m                 \u001b[0mreraise\u001b[0m\u001b[1;33m(\u001b[0m\u001b[0mtype\u001b[0m\u001b[1;33m(\u001b[0m\u001b[0me\u001b[0m\u001b[1;33m)\u001b[0m\u001b[1;33m,\u001b[0m \u001b[0me\u001b[0m\u001b[1;33m,\u001b[0m \u001b[1;32mNone\u001b[0m\u001b[1;33m)\u001b[0m\u001b[1;33m\u001b[0m\u001b[1;33m\u001b[0m\u001b[0m\n\u001b[0m\u001b[0;32m    359\u001b[0m \u001b[1;33m\u001b[0m\u001b[0m\n\u001b[0;32m    360\u001b[0m         \u001b[0margtypes\u001b[0m \u001b[1;33m=\u001b[0m \u001b[1;33m[\u001b[0m\u001b[1;33m]\u001b[0m\u001b[1;33m\u001b[0m\u001b[1;33m\u001b[0m\u001b[0m\n",
      "\u001b[1;32m~\\AppData\\Local\\Continuum\\anaconda3\\lib\\site-packages\\numba\\core\\utils.py\u001b[0m in \u001b[0;36mreraise\u001b[1;34m(tp, value, tb)\u001b[0m\n\u001b[0;32m     78\u001b[0m         \u001b[0mvalue\u001b[0m \u001b[1;33m=\u001b[0m \u001b[0mtp\u001b[0m\u001b[1;33m(\u001b[0m\u001b[1;33m)\u001b[0m\u001b[1;33m\u001b[0m\u001b[1;33m\u001b[0m\u001b[0m\n\u001b[0;32m     79\u001b[0m     \u001b[1;32mif\u001b[0m \u001b[0mvalue\u001b[0m\u001b[1;33m.\u001b[0m\u001b[0m__traceback__\u001b[0m \u001b[1;32mis\u001b[0m \u001b[1;32mnot\u001b[0m \u001b[0mtb\u001b[0m\u001b[1;33m:\u001b[0m\u001b[1;33m\u001b[0m\u001b[1;33m\u001b[0m\u001b[0m\n\u001b[1;32m---> 80\u001b[1;33m         \u001b[1;32mraise\u001b[0m \u001b[0mvalue\u001b[0m\u001b[1;33m.\u001b[0m\u001b[0mwith_traceback\u001b[0m\u001b[1;33m(\u001b[0m\u001b[0mtb\u001b[0m\u001b[1;33m)\u001b[0m\u001b[1;33m\u001b[0m\u001b[1;33m\u001b[0m\u001b[0m\n\u001b[0m\u001b[0;32m     81\u001b[0m     \u001b[1;32mraise\u001b[0m \u001b[0mvalue\u001b[0m\u001b[1;33m\u001b[0m\u001b[1;33m\u001b[0m\u001b[0m\n\u001b[0;32m     82\u001b[0m \u001b[1;33m\u001b[0m\u001b[0m\n",
      "\u001b[1;31mTypingError\u001b[0m: Failed in nopython mode pipeline (step: nopython frontend)\n\u001b[1m\u001b[1m\u001b[1m\u001b[1m- Resolution failure for literal arguments:\n\u001b[1mtoo many positional arguments\u001b[0m\n\u001b[0m\u001b[1m- Resolution failure for non-literal arguments:\n\u001b[1mNone\u001b[0m\n\u001b[0m\u001b[0m\n\u001b[0m\u001b[1mDuring: resolving callee type: BoundFunction((<class 'numba.core.types.misc.ClassInstanceType'>, 'sim_drive_step') for instance.jitclass.SimDriveJit#1e731d249c8<curMaxFsKwOut:array(float64, 1d, A),fcTransLimKw:array(float64, 1d, A),fcFsLimKw:array(float64, 1d, A),fcMaxKwIn:array(float64, 1d, A),curMaxFcKwOut:array(float64, 1d, A),essCapLimDischgKw:array(float64, 1d, A),curMaxEssKwOut:array(float64, 1d, A),curMaxAvailElecKw:array(float64, 1d, A),essCapLimChgKw:array(float64, 1d, A),curMaxEssChgKw:array(float64, 1d, A),curMaxElecKw:array(float64, 1d, A),mcElecInLimKw:array(float64, 1d, A),mcTransiLimKw:array(float64, 1d, A),curMaxMcKwOut:array(float64, 1d, A),essLimMcRegenPercKw:array(float64, 1d, A),essLimMcRegenKw:array(float64, 1d, A),curMaxMechMcKwIn:array(float64, 1d, A),curMaxTransKwOut:array(float64, 1d, A),cycDragKw:array(float64, 1d, A),cycAccelKw:array(float64, 1d, A),cycAscentKw:array(float64, 1d, A),cycTracKwReq:array(float64, 1d, A),curMaxTracKw:array(float64, 1d, A),spareTracKw:array(float64, 1d, A),cycRrKw:array(float64, 1d, A),cycWheelRadPerSec:array(float64, 1d, A),cycTireInertiaKw:array(float64, 1d, A),cycWheelKwReq:array(float64, 1d, A),regenContrLimKwPerc:array(float64, 1d, A),cycRegenBrakeKw:array(float64, 1d, A),cycFricBrakeKw:array(float64, 1d, A),cycTransKwOutReq:array(float64, 1d, A),cycMet:array(float64, 1d, A),transKwOutAch:array(float64, 1d, A),transKwInAch:array(float64, 1d, A),curSocTarget:array(float64, 1d, A),minMcKw2HelpFc:array(float64, 1d, A),mcMechKwOutAch:array(float64, 1d, A),mcElecKwInAch:array(float64, 1d, A),auxInKw:array(float64, 1d, A),roadwayChgKwOutAch:array(float64, 1d, A),minEssKw2HelpFc:array(float64, 1d, A),essKwOutAch:array(float64, 1d, A),fcKwOutAch:array(float64, 1d, A),fcKwOutAch_pct:array(float64, 1d, A),fcKwInAch:array(float64, 1d, A),fsKwOutAch:array(float64, 1d, A),fsKwhOutAch:array(float64, 1d, A),essCurKwh:array(float64, 1d, A),soc:array(float64, 1d, A),regenBufferSoc:array(float64, 1d, A),essRegenBufferDischgKw:array(float64, 1d, A),maxEssRegenBufferChgKw:array(float64, 1d, A),essAccelBufferChgKw:array(float64, 1d, A),accelBufferSoc:array(float64, 1d, A),maxEssAccelBufferDischgKw:array(float64, 1d, A),essAccelRegenDischgKw:array(float64, 1d, A),mcElectInKwForMaxFcEff:array(float64, 1d, A),electKwReq4AE:array(float64, 1d, A),desiredEssKwOutForAE:array(float64, 1d, A),essAEKwOut:array(float64, 1d, A),erAEKwOut:array(float64, 1d, A),essDesiredKw4FcEff:array(float64, 1d, A),essKwIfFcIsReq:array(float64, 1d, A),curMaxMcElecKwIn:array(float64, 1d, A),fcKwGapFrEff:array(float64, 1d, A),erKwIfFcIsReq:array(float64, 1d, A),mcElecKwInIfFcIsReq:array(float64, 1d, A),mcKwIfFcIsReq:array(float64, 1d, A),mcMechKw4ForcedFc:array(float64, 1d, A),fcTimeOn:array(float64, 1d, A),prevfcTimeOn:array(float64, 1d, A),mpsAch:array(float64, 1d, A),mphAch:array(float64, 1d, A),distMeters:array(float64, 1d, A),distMiles:array(float64, 1d, A),highAccFcOnTag:array(float64, 1d, A),reachedBuff:array(float64, 1d, A),maxTracMps:array(float64, 1d, A),addKwh:array(float64, 1d, A),dodCycs:array(float64, 1d, A),essPercDeadArray:array(float64, 1d, A),dragKw:array(float64, 1d, A),essLossKw:array(float64, 1d, A),accelKw:array(float64, 1d, A),ascentKw:array(float64, 1d, A),rrKw:array(float64, 1d, A),motor_index_debug:array(float64, 1d, A),debug_flag:array(float64, 1d, A),curMaxRoadwayChgKw:array(float64, 1d, A),i:int32,fcForcedOn:array(bool, 1d, A),fcForcedState:array(int32, 1d, A),canPowerAllElectrically:array(bool, 1d, A),mpgge:float64,roadwayChgKj:float64,essDischgKj:float64,battery_kWh_per_mi:float64,electric_kWh_per_mi:float64,fuelKj:float64,ess2fuelKwh:float64,Gallons_gas_equivalent_per_mile:float64,mpgge_elec:float64,grid_mpgge_elec:float64,veh:instance.jitclass.TypedVehicle#1e732e00a48<Selection:int32,Scenario_name:unicode_type,vehPtType:int32,dragCoef:float64,frontalAreaM2:float64,gliderKg:float64,vehCgM:float64,driveAxleWeightFrac:float64,wheelBaseM:float64,cargoKg:float64,vehOverrideKg:float64,maxFuelStorKw:float64,fuelStorSecsToPeakPwr:float64,fuelStorKwh:float64,fuelStorKwhPerKg:float64,maxFuelConvKw:float64,fcEffType:int32,fcAbsEffImpr:float64,fuelConvSecsToPeakPwr:float64,fuelConvBaseKg:float64,fuelConvKwPerKg:float64,maxMotorKw:float64,motorPeakEff:float64,motorSecsToPeakPwr:float64,stopStart:bool,mcPeKgPerKw:float64,mcPeBaseKg:float64,maxEssKw:float64,maxEssKwh:float64,essKgPerKwh:float64,essBaseKg:float64,essRoundTripEff:float64,essLifeCoefA:float64,essLifeCoefB:float64,wheelInertiaKgM2:float64,numWheels:float64,wheelRrCoef:float64,wheelRadiusM:float64,wheelCoefOfFric:float64,minSoc:float64,maxSoc:float64,essDischgToFcMaxEffPerc:float64,essChgToFcMaxEffPerc:float64,maxAccelBufferMph:float64,maxAccelBufferPercOfUseableSoc:float64,percHighAccBuf:float64,mphFcOn:float64,kwDemandFcOn:float64,altEff:float64,chgEff:float64,auxKw:float64,forceAuxOnFC:bool,transKg:float64,transEff:float64,compMassMultiplier:float64,essToFuelOkError:float64,maxRegen:float64,valUddsMpgge:float64,valHwyMpgge:float64,valCombMpgge:float64,valUddsKwhPerMile:float64,valHwyKwhPerMile:float64,valCombKwhPerMile:float64,valCdRangeMi:float64,valConst65MphKwhPerMile:float64,valConst60MphKwhPerMile:float64,valConst55MphKwhPerMile:float64,valConst45MphKwhPerMile:float64,valUnadjUddsKwhPerMile:float64,valUnadjHwyKwhPerMile:float64,val0To60Mph:float64,valEssLifeMiles:float64,valRangeMiles:float64,valVehBaseCost:float64,valMsrp:float64,minFcTimeOn:float64,idleFcKw:float64,MaxRoadwayChgKw:array(float64, 1d, A),chargingOn:bool,noElecSys:bool,noElecAux:bool,vehTypeSelection:int32,fcEffArray:array(float64, 1d, A),fcKwOutArray:array(float64, 1d, A),maxFcEffKw:float64,fcMaxOutkW:float64,mcKwInArray:array(float64, 1d, A),mcKwOutArray:array(float64, 1d, A),mcMaxElecInKw:float64,mcFullEffArray:array(float64, 1d, A),mcEffArray:array(float64, 1d, A),regenA:float64,regenB:float64,vehKg:float64,maxTracMps2:float64,maxRegenKwh:float64>,cyc:instance.jitclass.TypedCycle#1e732df10c8<cycSecs:array(float64, 1d, A),cycMps:array(float64, 1d, A),cycGrade:array(float64, 1d, A),cycRoadType:array(float64, 1d, A),cycMph:array(float64, 1d, A),secs:array(float64, 1d, A)>,dragKj:float64,ascentKj:float64,rrKj:float64,brakeKj:float64,transKj:float64,mcKj:float64,essEffKj:float64,auxKj:float64,fcKj:float64,netKj:float64,keKj:float64,energyAuditError:float64>)\u001b[0m\n\u001b[0m\u001b[1mDuring: typing of call at <string> (3)\n\u001b[0m\n\u001b[1m\nFile \"<string>\", line 3:\u001b[0m\n\u001b[1m<source missing, REPL/exec in use?>\u001b[0m\n"
     ]
    }
   ],
   "source": [
    "veh_jit = vehicle.Vehicle(9).get_numba_veh()\n",
    "sim_drive = simdrive.SimDriveJit(cyc_jit, veh_jit)\n",
    "initSoc = 0.7935\n",
    "sim_drive.essCurKwh[0] = initSoc * sim_drive.veh.maxEssKwh\n",
    "sim_drive.soc[0] = initSoc\n",
    "\n",
    "while sim_drive.i < len(cyc.cycSecs):\n",
    "    sim_drive.auxInKw[sim_drive.i] = 10 # large value to exaggerate results\n",
    "    sim_drive.sim_drive_step('auxInKw')\n",
    "\n",
    "plt.plot(cyc.cycSecs, sim_drive.fcKwOutAch, label='eng out')\n",
    "plt.plot(cyc.cycSecs, sim_drive.essKwOutAch, label='mot in')\n",
    "plt.xlabel('Time [s]')\n",
    "plt.ylabel('Power [kW]')\n",
    "plt.legend()"
   ]
  },
  {
   "cell_type": "markdown",
   "metadata": {},
   "source": [
    "## Batch Drive Cycles - TSDC Drive Cycles\n",
    "\n",
    "FASTSim's most significant advantage over other powertrain simulation tools comes from the ability to simulate many drive cycles quickly. The same three steps described above (load cycle, load model, run FASTSim) will be used here, however, the demonstration highlights how quickly FASTSim runs over __2,225 miles of driving__ data for 22 vehicles.  Running on a single core, the 241 drive cycles take roughly 25 seconds to run. Each drive cycle requires a fraction of a second of computational time. \n",
    "\n",
    "The drive cycles simulated are from a subset of Chicago Regional Household Travel Inventory housed in the the Transportation Secure Data Center ([TSDC](https://www.nrel.gov/transportation/secure-transportation-data/tsdc-cleansed-data.html)). Cycles within the TSDC are publicly available for download and easily integrate with FASTSim. You may contact the [TSDC](tsdc@nrel.gov) for general questions on the data center, or [Venu Garikapati](venu.garikapati@nrel.gov) for partnership-related inquiries. \n",
    "\n",
    "### Load Cycles\n",
    "Iterate through the drive cycles directory structure and load the cycles into one pandas dataframe. If memory is an issue, this processing can be broken into smaller chunks. The points table must have trip identifiers appended to run FASTSim on individual trips. The trips are identified and labeled using the start and end timestamps in the \"trips.csv\" summary tables in each of the vehicle directories downloadable from the TSDC."
   ]
  },
  {
   "cell_type": "code",
   "execution_count": null,
   "metadata": {
    "ExecuteTime": {
     "end_time": "2018-03-06T22:18:26.154919Z",
     "start_time": "2018-03-06T22:17:54.575628Z"
    }
   },
   "outputs": [],
   "source": [
    "t0 = time.time()\n",
    "data_path = '../cycles/cmap_subset/'  # path to drive cycles\n",
    "\n",
    "drive_cycs_df = pd.DataFrame()\n",
    "trips_df = pd.DataFrame()\n",
    "\n",
    "veh_dirs = os.listdir(data_path)\n",
    "veh_dirs = [dn for dn in veh_dirs if not dn.startswith('.')]\n",
    "\n",
    "unique_tripno = 0\n",
    "for i in veh_dirs:\n",
    "    sampno = int(i.split('_')[0])\n",
    "    vehno = int(i.split('_')[1])\n",
    "    \n",
    "    dc_csvs = os.listdir(data_path+i)\n",
    "    dc_csvs = [fn for fn in dc_csvs if not fn.endswith('trips.csv')]\n",
    "    \n",
    "    df_i = pd.read_csv(data_path+i+'/trips.csv', index_col=False)\n",
    "    trips_df = trips_df.append(df_i, ignore_index=True)\n",
    "    \n",
    "    veh_pnts_df = pd.DataFrame()\n",
    "    \n",
    "    for j in dc_csvs:\n",
    "        df_j = pd.read_csv(data_path+i+'/'+j, index_col=False)\n",
    "        veh_pnts_df = veh_pnts_df.append(df_j, ignore_index=True)\n",
    "        \n",
    "    for k in range(len(df_i)):\n",
    "        start_ts = df_i.start_ts.iloc[k]\n",
    "        end_ts = df_i.end_ts.iloc[k]\n",
    "        tripK_df = veh_pnts_df.loc[(veh_pnts_df['timestamp']>=start_ts) & \\\n",
    "                        (veh_pnts_df['timestamp']<=end_ts)]\n",
    "        tripK_df['nrel_trip_id'] = [unique_tripno]*len(tripK_df)\n",
    "        unique_tripno += 1\n",
    "        tripK_df['sampno'] = [sampno]*len(tripK_df)\n",
    "        tripK_df['vehno'] = [vehno]*len(tripK_df)\n",
    "        drive_cycs_df = drive_cycs_df.append(tripK_df, ignore_index=True)\n",
    "t1 = time.time()\n",
    "print('Elapsed time = ' + str(round(t1 - t0, 3)))"
   ]
  },
  {
   "cell_type": "markdown",
   "metadata": {},
   "source": [
    "### Load Model, Run FASTSim"
   ]
  },
  {
   "cell_type": "code",
   "execution_count": null,
   "metadata": {
    "ExecuteTime": {
     "end_time": "2018-03-06T22:18:47.598125Z",
     "start_time": "2018-03-06T22:18:26.157000Z"
    }
   },
   "outputs": [],
   "source": [
    "veh = vehicle.Vehicle(1).get_numba_veh()  # load vehicle model\n",
    "output_dict = {}\n",
    "\n",
    "results_df = pd.DataFrame()\n",
    "t_start = time.time()\n",
    "for trp in list(drive_cycs_df.nrel_trip_id.unique()):\n",
    "    pnts = drive_cycs_df[drive_cycs_df['nrel_trip_id'] == trp]\n",
    "    pnts['time_local'] = pd.to_datetime(pnts['timestamp'])\n",
    "\n",
    "    cyc = {}\n",
    "    cyc['cycGrade'] = np.zeros(len(pnts))\n",
    "    cyc['cycMps'] = np.array(\n",
    "        pnts['speed_mph'] * 0.44704)  # MPH to MPS conversion\n",
    "    cyc['cycSecs'] = np.array(\n",
    "        np.cumsum(\n",
    "            (pnts['time_local'] -\n",
    "             pnts['time_local'].shift()).fillna(pd.Timedelta(seconds=0)).astype('timedelta64[s]')))\n",
    "    cyc['cycRoadType'] = np.zeros(len(pnts))\n",
    "    cyc = cycle.Cycle(cyc_dict=cyc).get_numba_cyc()\n",
    "    \n",
    "    sim_drive = simdrive.SimDriveJit(cyc, veh)\n",
    "    sim_drive.sim_drive()\n",
    "    sim_drive_post = simdrive.SimDrivePost(sim_drive)\n",
    "    output = sim_drive_post.get_output()\n",
    "    \n",
    "    del output['soc'], output['fcKwInAch'], output['fcKwOutAch'],\\\n",
    "    output['fsKwhOutAch']\n",
    "\n",
    "    output['nrel_trip_id'] = trp\n",
    "    results_df = results_df.append(output, ignore_index=True)\n",
    "    \n",
    "t_end = time.time()\n",
    "\n",
    "# results_df = results_df.astype(float)\n",
    "\n",
    "print('Run Complete. Total runtime = %1.2fs' % (t_end - t_start))\n",
    "print('     Average time per cycle = %1.2fs' % ((\n",
    "    t_end - t_start) / len(drive_cycs_df.nrel_trip_id.unique())))"
   ]
  },
  {
   "cell_type": "markdown",
   "metadata": {},
   "source": [
    "### Results\n",
    "\n",
    "In this demo, the batch results from all 494 drive cycles were output to a Pandas Dataframe to simplify post-processing. Any python data structure or output file format can be used to save batch results. For simplicity, time series data was not stored, but it could certainly be included in batch processing.\n",
    "\n",
    "In order to plot the data, a handful of results are filtered out either because they are much longer than we are interested in, or there was some GPS issue in data acquisition that led to an unrealistically high cycle average speed."
   ]
  },
  {
   "cell_type": "code",
   "execution_count": null,
   "metadata": {
    "ExecuteTime": {
     "end_time": "2018-03-06T22:18:47.621130Z",
     "start_time": "2018-03-06T22:18:47.606788Z"
    }
   },
   "outputs": [],
   "source": [
    "df_fltr = results_df[(results_df['distance_mi'] < 1000)\n",
    "                     & (results_df['distance_mi'] > 0) &\n",
    "                     (results_df['avg_speed_mph'] < 100)]"
   ]
  },
  {
   "cell_type": "code",
   "execution_count": null,
   "metadata": {
    "ExecuteTime": {
     "end_time": "2018-03-06T22:19:36.129729Z",
     "start_time": "2018-03-06T22:19:36.033204Z"
    }
   },
   "outputs": [],
   "source": [
    "plt.figure()\n",
    "df_fltr.mpgge.hist(bins=20, rwidth=.9)\n",
    "plt.xlabel('Miles per Gallon')\n",
    "plt.ylabel('Number of Cycles')\n",
    "plt.show()"
   ]
  },
  {
   "cell_type": "code",
   "execution_count": null,
   "metadata": {
    "ExecuteTime": {
     "end_time": "2018-03-06T22:19:28.237447Z",
     "start_time": "2018-03-06T22:19:28.123851Z"
    }
   },
   "outputs": [],
   "source": [
    "df_fltr.plot(\n",
    "    x='avg_speed_mph',\n",
    "    y='mpgge',\n",
    "    kind='scatter',\n",
    "    s=df_fltr['distance_mi'] * 5,\n",
    "    alpha=0.3)\n",
    "\n",
    "# Configure legend and axes\n",
    "l1 = plt.scatter([], [], s=5, edgecolors='none', c='xkcd:bluish')\n",
    "l2 = plt.scatter([], [], s=50, edgecolors='none', c='xkcd:bluish')\n",
    "l3 = plt.scatter([], [], s=250, edgecolors='none', c='xkcd:bluish')\n",
    "\n",
    "labels = [\"1 Mile\", \"10 Miles\", \"50 Miles\"]\n",
    "\n",
    "leg = plt.legend(\n",
    "    [l1, l2, l3],\n",
    "    labels,\n",
    "    title='Cycle Distance',\n",
    "    frameon=True,\n",
    "    fontsize=12,\n",
    "    scatterpoints=1)\n",
    "plt.xlabel('Average Cycle Speed [MPH]')\n",
    "plt.ylabel('Fuel Economy [MPG]')\n",
    "plt.show()"
   ]
  },
  {
   "cell_type": "markdown",
   "metadata": {},
   "source": [
    "# Cycle manipulation tools"
   ]
  },
  {
   "cell_type": "markdown",
   "metadata": {},
   "source": [
    "## Micro-trip"
   ]
  },
  {
   "cell_type": "code",
   "execution_count": null,
   "metadata": {},
   "outputs": [],
   "source": [
    "# load vehicle\n",
    "t0 = time.time()\n",
    "veh = vehicle.Vehicle(1)\n",
    "# veh_jit = veh.get_numba_veh()\n",
    "print(time.time() - t0)"
   ]
  },
  {
   "cell_type": "code",
   "execution_count": null,
   "metadata": {},
   "outputs": [],
   "source": [
    "# generate micro-trip \n",
    "t0 = time.time()\n",
    "cyc = cycle.Cycle(\"udds\")\n",
    "microtrips = cycle.to_microtrips(cyc.get_cyc_dict())\n",
    "cyc.set_from_dict(microtrips[1])\n",
    "cyc_jit = cyc.get_numba_cyc()\n",
    "print(time.time() - t0)"
   ]
  },
  {
   "cell_type": "code",
   "execution_count": null,
   "metadata": {},
   "outputs": [],
   "source": [
    "# simulate\n",
    "t0 = time.time()\n",
    "sim_drive = simdrive.SimDriveJit(cyc_jit, veh_jit)\n",
    "sim_drive.sim_drive()\n",
    "# sim_drive = simdrive.SimDriveClassic(cyc_jit, veh_jit)\n",
    "# sim_drive.sim_drive()\n",
    "print(time.time() - t0)\n",
    "\n",
    "t0 = time.time()\n",
    "sim_drive_post = simdrive.SimDrivePost(sim_drive)\n",
    "output = sim_drive_post.get_output()\n",
    "sim_drive_post.set_battery_wear()\n",
    "diag = sim_drive_post.get_diagnostics()\n",
    "print(time.time() - t0)"
   ]
  },
  {
   "cell_type": "markdown",
   "metadata": {},
   "source": [
    "### Results"
   ]
  },
  {
   "cell_type": "code",
   "execution_count": null,
   "metadata": {},
   "outputs": [],
   "source": [
    "df = pd.DataFrame.from_dict(output)[['soc','fcKwInAch']]\n",
    "df['speed'] = cyc.cycMps * 2.23694  # Convert mps to mph\n",
    "\n",
    "fig, ax = plt.subplots(figsize=(9, 5))\n",
    "kwh_line = df.fcKwInAch.plot(ax=ax, label='kW')\n",
    "\n",
    "ax2 = ax.twinx()\n",
    "speed_line = df.speed.plot(color='xkcd:pale red', ax=ax2, label='Speed')\n",
    "\n",
    "ax.set_xlabel('Cycle Time [s]', weight='bold')\n",
    "ax.set_ylabel('Engine Input Power [kW]', weight='bold', color='xkcd:bluish')\n",
    "ax.tick_params('y', colors='xkcd:bluish')\n",
    "\n",
    "ax2.set_ylabel('Speed [MPH]', weight='bold', color='xkcd:pale red')\n",
    "ax2.grid(False)\n",
    "ax2.tick_params('y', colors='xkcd:pale red')"
   ]
  },
  {
   "cell_type": "markdown",
   "metadata": {},
   "source": [
    "## Concat cycles/trips"
   ]
  },
  {
   "cell_type": "code",
   "execution_count": null,
   "metadata": {},
   "outputs": [],
   "source": [
    "# load vehicle\n",
    "t0 = time.time()\n",
    "veh = vehicle.Vehicle(1)\n",
    "veh_jit = veh.get_numba_veh()\n",
    "print(time.time() - t0)"
   ]
  },
  {
   "cell_type": "code",
   "execution_count": null,
   "metadata": {},
   "outputs": [],
   "source": [
    "# generate concatenated trip\n",
    "t0 = time.time()\n",
    "cyc1 = cycle.Cycle(\"udds\")\n",
    "cyc2 = cycle.Cycle(\"us06\")\n",
    "cyc_combo = cycle.concat([cyc1.get_cyc_dict(), cyc2.get_cyc_dict()])\n",
    "cyc_combo = cycle.Cycle(cyc_dict=cyc_combo)\n",
    "cyc_combo_jit = cyc_combo.get_numba_cyc()\n",
    "print(time.time() - t0)"
   ]
  },
  {
   "cell_type": "code",
   "execution_count": null,
   "metadata": {},
   "outputs": [],
   "source": [
    "# simulate\n",
    "t0 = time.time()\n",
    "sim_drive = simdrive.SimDriveJit(cyc_combo_jit, veh_jit)\n",
    "sim_drive.sim_drive()\n",
    "# sim_drive = simdrive.SimDriveClassic(cyc_jit, veh_jit)\n",
    "# sim_drive.sim_drive()\n",
    "print(time.time() - t0)\n",
    "\n",
    "t0 = time.time()\n",
    "sim_drive_post = simdrive.SimDrivePost(sim_drive)\n",
    "output = sim_drive_post.get_output()\n",
    "sim_drive_post.set_battery_wear()\n",
    "diag = sim_drive_post.get_diagnostics()\n",
    "print(time.time() - t0)"
   ]
  },
  {
   "cell_type": "markdown",
   "metadata": {},
   "source": [
    "### Results"
   ]
  },
  {
   "cell_type": "code",
   "execution_count": null,
   "metadata": {},
   "outputs": [],
   "source": [
    "df = pd.DataFrame.from_dict(output)[['soc','fcKwInAch']]\n",
    "df['speed'] = cyc_combo.cycMps * 2.23694  # Convert mps to mph\n",
    "\n",
    "fig, ax = plt.subplots(figsize=(9, 5))\n",
    "kwh_line = df.fcKwInAch.plot(ax=ax, label='kW')\n",
    "\n",
    "ax2 = ax.twinx()\n",
    "speed_line = df.speed.plot(color='xkcd:pale red', ax=ax2, label='Speed')\n",
    "\n",
    "ax.set_xlabel('Cycle Time [s]', weight='bold')\n",
    "ax.set_ylabel('Engine Input Power [kW]', weight='bold', color='xkcd:bluish')\n",
    "ax.tick_params('y', colors='xkcd:bluish')\n",
    "\n",
    "ax2.set_ylabel('Speed [MPH]', weight='bold', color='xkcd:pale red')\n",
    "ax2.grid(False)\n",
    "ax2.tick_params('y', colors='xkcd:pale red')"
   ]
  },
  {
   "cell_type": "markdown",
   "metadata": {},
   "source": [
    "## Cycle comparison"
   ]
  },
  {
   "cell_type": "code",
   "execution_count": null,
   "metadata": {},
   "outputs": [],
   "source": [
    "# generate concatenated trip\n",
    "t0 = time.time()\n",
    "cyc1 = cycle.Cycle(\"udds\")\n",
    "cyc2 = cycle.Cycle(\"us06\")\n",
    "print('Cycle 1 and 2 equal?')\n",
    "print(cycle.equals(cyc1.get_cyc_dict(), cyc2.get_cyc_dict()))\n",
    "cyc1 = cycle.Cycle(\"udds\")\n",
    "cyc2 = cycle.Cycle(\"udds\")\n",
    "print('Cycle 1 and 2 equal?')\n",
    "print(cycle.equals(cyc1.get_cyc_dict(), cyc2.get_cyc_dict()))\n",
    "cyc2dict = cyc2.get_cyc_dict()\n",
    "cyc2dict['extra key'] = None\n",
    "print('Cycle 1 and 2 equal?')\n",
    "print(cycle.equals(cyc1.get_cyc_dict(), cyc2dict))\n",
    "print(time.time() - t0)"
   ]
  },
  {
   "cell_type": "markdown",
   "metadata": {},
   "source": [
    "## Resample"
   ]
  },
  {
   "cell_type": "code",
   "execution_count": null,
   "metadata": {},
   "outputs": [],
   "source": [
    "t0 = time.time()\n",
    "cyc = cycle.Cycle(\"udds\")\n",
    "cyc10Hz = cycle.Cycle(cyc_dict=cycle.resample(cyc.get_cyc_dict(), new_dt=0.1))\n",
    "cyc10s = cycle.Cycle(cyc_dict=cycle.resample(cyc.get_cyc_dict(), new_dt=10))\n",
    "\n",
    "plt.plot(cyc10Hz.cycSecs, cyc10Hz.cycMph, marker=',')\n",
    "plt.plot(cyc10s.cycSecs, cyc10s.cycMph, marker=',')\n",
    "plt.xlabel('Cycle Time [s]')\n",
    "plt.ylabel('Vehicle Speed [mph]')\n",
    "print(time.time() - t0)"
   ]
  },
  {
   "cell_type": "markdown",
   "metadata": {},
   "source": [
    "## Concat cycles of different time steps and resample\n",
    "This is useful if you have test data with either a variable or overly high sample rate.  "
   ]
  },
  {
   "cell_type": "code",
   "execution_count": null,
   "metadata": {},
   "outputs": [],
   "source": [
    "# load vehicle\n",
    "t0 = time.time()\n",
    "veh = vehicle.Vehicle(1)\n",
    "veh_jit = veh.get_numba_veh()\n",
    "print(time.time() - t0)"
   ]
  },
  {
   "cell_type": "code",
   "execution_count": null,
   "metadata": {},
   "outputs": [],
   "source": [
    "# generate concatenated trip\n",
    "t0 = time.time()\n",
    "cyc1 = cycle.Cycle(\"udds\")\n",
    "# Generate cycle with 0.1 s time steps\n",
    "cyc1 = cycle.Cycle(cyc_dict=cycle.resample(cyc1.get_cyc_dict(), new_dt=0.1))\n",
    "cyc2 = cycle.Cycle(\"us06\")\n",
    "cyc_combo = cycle.concat([cyc1.get_cyc_dict(), cyc2.get_cyc_dict()])\n",
    "cyc_combo = cycle.resample(cyc_combo, new_dt=1)\n",
    "cyc_combo = cycle.Cycle(cyc_dict=cyc_combo)\n",
    "cyc_combo_jit = cyc_combo.get_numba_cyc()\n",
    "print(time.time() - t0)"
   ]
  },
  {
   "cell_type": "code",
   "execution_count": null,
   "metadata": {},
   "outputs": [],
   "source": [
    "# simulate\n",
    "t0 = time.time()\n",
    "sim_drive = simdrive.SimDriveJit(cyc_combo_jit, veh_jit)\n",
    "sim_drive.sim_drive()\n",
    "# sim_drive = simdrive.SimDriveClassic(cyc_jit, veh_jit)\n",
    "# sim_drive.sim_drive()\n",
    "print(time.time() - t0)\n",
    "\n",
    "t0 = time.time()\n",
    "sim_drive_post = simdrive.SimDrivePost(sim_drive)\n",
    "output = sim_drive_post.get_output()\n",
    "sim_drive_post.set_battery_wear()\n",
    "diag = sim_drive_post.get_diagnostics()\n",
    "print(time.time() - t0)"
   ]
  },
  {
   "cell_type": "markdown",
   "metadata": {},
   "source": [
    "### Results"
   ]
  },
  {
   "cell_type": "code",
   "execution_count": null,
   "metadata": {},
   "outputs": [],
   "source": [
    "df = pd.DataFrame.from_dict(output)[['soc','fcKwInAch']]\n",
    "df['speed'] = cyc_combo.cycMps * 2.23694  # Convert mps to mph\n",
    "\n",
    "fig, ax = plt.subplots(figsize=(9, 5))\n",
    "kwh_line = df.fcKwInAch.plot(ax=ax, label='kW')\n",
    "\n",
    "ax2 = ax.twinx()\n",
    "speed_line = df.speed.plot(color='xkcd:pale red', ax=ax2, label='Speed')\n",
    "\n",
    "ax.set_xlabel('Cycle Time [s]', weight='bold')\n",
    "ax.set_ylabel('Engine Input Power [kW]', weight='bold', color='xkcd:bluish')\n",
    "ax.tick_params('y', colors='xkcd:bluish')\n",
    "\n",
    "ax2.set_ylabel('Speed [MPH]', weight='bold', color='xkcd:pale red')\n",
    "ax2.grid(False)\n",
    "ax2.tick_params('y', colors='xkcd:pale red')"
   ]
  },
  {
   "cell_type": "markdown",
   "metadata": {},
   "source": [
    "## Clip by times"
   ]
  },
  {
   "cell_type": "code",
   "execution_count": null,
   "metadata": {},
   "outputs": [],
   "source": [
    "# load vehicle\n",
    "t0 = time.time()\n",
    "veh = vehicle.Vehicle(1)\n",
    "# veh_jit = veh.get_numba_veh()\n",
    "print(time.time() - t0)"
   ]
  },
  {
   "cell_type": "code",
   "execution_count": null,
   "metadata": {},
   "outputs": [],
   "source": [
    "# generate micro-trip \n",
    "t0 = time.time()\n",
    "cyc = cycle.Cycle(\"udds\")\n",
    "cyc = cycle.clip_by_times(cyc.get_cyc_dict(), t_end=300)\n",
    "cyc = cycle.Cycle(cyc_dict=cyc)\n",
    "cyc_jit = cyc.get_numba_cyc()\n",
    "print(time.time() - t0)"
   ]
  },
  {
   "cell_type": "code",
   "execution_count": null,
   "metadata": {},
   "outputs": [],
   "source": [
    "# simulate\n",
    "t0 = time.time()\n",
    "sim_drive = simdrive.SimDriveJit(cyc_jit, veh_jit)\n",
    "sim_drive.sim_drive()\n",
    "# sim_drive = simdrive.SimDriveClassic(cyc_jit, veh_jit)\n",
    "# sim_drive.sim_drive()\n",
    "print(time.time() - t0)\n",
    "\n",
    "t0 = time.time()\n",
    "sim_drive_post = simdrive.SimDrivePost(sim_drive)\n",
    "output = sim_drive_post.get_output()\n",
    "sim_drive_post.set_battery_wear()\n",
    "diag = sim_drive_post.get_diagnostics()\n",
    "print(time.time() - t0)"
   ]
  },
  {
   "cell_type": "markdown",
   "metadata": {},
   "source": [
    "### Results"
   ]
  },
  {
   "cell_type": "code",
   "execution_count": null,
   "metadata": {},
   "outputs": [],
   "source": [
    "df = pd.DataFrame.from_dict(output)[['soc','fcKwInAch']]\n",
    "df['speed'] = cyc.cycMps * 2.23694  # Convert mps to mph\n",
    "\n",
    "fig, ax = plt.subplots(figsize=(9, 5))\n",
    "kwh_line = df.fcKwInAch.plot(ax=ax, label='kW')\n",
    "\n",
    "ax2 = ax.twinx()\n",
    "speed_line = df.speed.plot(color='xkcd:pale red', ax=ax2, label='Speed')\n",
    "\n",
    "ax.set_xlabel('Cycle Time [s]', weight='bold')\n",
    "ax.set_ylabel('Engine Input Power [kW]', weight='bold', color='xkcd:bluish')\n",
    "ax.tick_params('y', colors='xkcd:bluish')\n",
    "\n",
    "ax2.set_ylabel('Speed [MPH]', weight='bold', color='xkcd:pale red')\n",
    "ax2.grid(False)\n",
    "ax2.tick_params('y', colors='xkcd:pale red')"
   ]
  }
 ],
 "metadata": {
  "hide_input": false,
  "kernelspec": {
   "display_name": "Python 3",
   "language": "python",
   "name": "python3"
  },
  "language_info": {
   "codemirror_mode": {
    "name": "ipython",
    "version": 3
   },
   "file_extension": ".py",
   "mimetype": "text/x-python",
   "name": "python",
   "nbconvert_exporter": "python",
   "pygments_lexer": "ipython3",
   "version": "3.7.6"
  }
 },
 "nbformat": 4,
 "nbformat_minor": 4
}
