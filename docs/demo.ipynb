{
 "cells": [
  {
   "cell_type": "markdown",
   "metadata": {},
   "source": [
    "\n",
    "# FASTSim Demonstration\n",
    "\n",
    "![fastsim icon](icon_fastsim.jpg)\n",
    "\n",
    "Developed by NREL, the Future Automotive Systems Technology Simulator (FASTSim) evaluates the impact of technology improvements on efficiency, performance, cost, and battery life in conventional vehicles, hybrid electric vehicles (HEVs), plug-in hybrid electric vehicles (PHEVs), and all-electric vehicles (EVs).\n",
    "\n",
    "FASTSim answers questions such as:\n",
    "- Which battery sizes are most cost effective for a PHEV or EV?\n",
    "- At what battery prices do PHEVs and EVs become cost effective?\n",
    "- On average, how much fuel does a PHEV with a 30-mile electric range save?\n",
    "- How much fuel savings does an HEV provide for a given drive cycle?\n",
    "- How do lifetime costs and petroleum use compare for conventional vehicles, HEVs, PHEVs, and EVs?\n",
    "\n",
    "FASTSim was originally implemented in Microsoft Excel. The pythonic implementation of FASTSim, demonstrated here, captures the drive cycle energy consumption simulation component of the software. The python version of FASTSim is more convenient than the Excel version when very high computational speed is desired, such as for simulating a large batch of drive cycles."
   ]
  },
  {
   "cell_type": "code",
   "execution_count": 133,
   "metadata": {
    "ExecuteTime": {
     "end_time": "2018-03-06T22:17:53.637344Z",
     "start_time": "2018-03-06T22:17:53.628816Z"
    }
   },
   "outputs": [],
   "source": [
    "import sys\n",
    "if '../src' not in sys.path:\n",
    "    sys.path.append('../src')\n",
    "import os\n",
    "import numpy as np\n",
    "import time\n",
    "import pandas as pd\n",
    "import matplotlib.pyplot as plt\n",
    "import importlib\n",
    "# import seaborn as sns\n",
    "# sns.set(font_scale=2, style='whitegrid')\n",
    "\n",
    "%matplotlib inline"
   ]
  },
  {
   "cell_type": "code",
   "execution_count": 134,
   "metadata": {
    "ExecuteTime": {
     "end_time": "2018-03-06T22:17:53.637344Z",
     "start_time": "2018-03-06T22:17:53.628816Z"
    }
   },
   "outputs": [
    {
     "data": {
      "text/plain": [
       "<module 'SimDrive' from '../src\\\\SimDrive.py'>"
      ]
     },
     "execution_count": 134,
     "metadata": {},
     "output_type": "execute_result"
    }
   ],
   "source": [
    "# local modules\n",
    "import SimDrive\n",
    "importlib.reload(SimDrive)"
   ]
  },
  {
   "cell_type": "code",
   "execution_count": 135,
   "metadata": {
    "ExecuteTime": {
     "end_time": "2018-03-06T22:17:53.637344Z",
     "start_time": "2018-03-06T22:17:53.628816Z"
    }
   },
   "outputs": [
    {
     "data": {
      "text/plain": [
       "<module 'LoadData' from '../src\\\\LoadData.py'>"
      ]
     },
     "execution_count": 135,
     "metadata": {},
     "output_type": "execute_result"
    }
   ],
   "source": [
    "import LoadData\n",
    "importlib.reload(LoadData)"
   ]
  },
  {
   "cell_type": "markdown",
   "metadata": {},
   "source": [
    "## Individual Drive Cycle\n",
    "### Load Drive Cycle\n",
    "\n",
    "Default (UDDS, US06, HWFET) cycles can be loaded from the ```../cycles``` directory, or custom cycles can be specified in the same format. The expected format is a dictionary with the following keys: \n",
    "\n",
    "```['cycGrade', 'cycMps', 'cycSecs', 'cycRoadType']```\n",
    "- cycGrade = Road grade [%/100]\n",
    "- cycMps = Vehicle speed [meters per second]\n",
    "- cycSecs = Relative time in the cycles [seconds]\n",
    "- cycRoadType = Indicator as to whether or not there is a wireless charging capability from the road to vehicle\n",
    "\n",
    "There is no limit to the length of a drive cycle that can be provided as an input to FASTSim."
   ]
  },
  {
   "cell_type": "code",
   "execution_count": 136,
   "metadata": {
    "ExecuteTime": {
     "end_time": "2018-03-06T22:17:53.655894Z",
     "start_time": "2018-03-06T22:17:53.639578Z"
    }
   },
   "outputs": [
    {
     "name": "stdout",
     "output_type": "stream",
     "text": [
      "0.604724645614624\n"
     ]
    }
   ],
   "source": [
    "t0 = time.time()\n",
    "cyc = LoadData.Cycle(\"udds\")\n",
    "cyc_jit = cyc.get_numba_cyc()\n",
    "print(time.time() - t0)"
   ]
  },
  {
   "cell_type": "markdown",
   "metadata": {},
   "source": [
    "### Load Powertrain Model\n",
    "\n",
    "A vehicle database in CSV format is required to be in the working directory where FASTSim is running (i.e. the same directory as this notebook). The \"get_veh\" function selects the appropriate vehicle attributes from the database and contructs the powertrain model (engine efficiency map, etc.). An integer value corresponds to each vehicle in the database. To add a new vehicle, simply populate a new row to the vehicle database CSV."
   ]
  },
  {
   "cell_type": "code",
   "execution_count": 138,
   "metadata": {
    "ExecuteTime": {
     "end_time": "2018-03-06T22:17:53.664162Z",
     "start_time": "2018-03-06T22:17:53.657556Z"
    }
   },
   "outputs": [
    {
     "name": "stdout",
     "output_type": "stream",
     "text": [
      "0.017954111099243164\n"
     ]
    }
   ],
   "source": [
    "t0 = time.time()\n",
    "veh = LoadData.Vehicle(22)\n",
    "veh_jit = veh.get_numba_veh()\n",
    "print(time.time() - t0)"
   ]
  },
  {
   "cell_type": "markdown",
   "metadata": {},
   "source": [
    "### Run FASTSim\n",
    "\n",
    "The \"sim_drive\" function takes the drive cycle and vehicle models defined above as inputs. The output is a dictionary of time series and scalar values described the simulation results. Typically of interest is the \"gge\" key, which is an array of time series energy consumption data at each time step in the drive cycle. Additionally, to add a result from the simulator to the output dictionary, a user can modify the sim_drive_sub function source code to include the desired field.\n",
    "\n",
    "If running FASTSim in batch over many drive cycles, the output from \"sim_drive\" can be written to files or database for batch post-processing. "
   ]
  },
  {
   "cell_type": "code",
   "execution_count": 141,
   "metadata": {
    "ExecuteTime": {
     "end_time": "2018-03-06T22:17:54.227462Z",
     "start_time": "2018-03-06T22:17:53.665928Z"
    }
   },
   "outputs": [
    {
     "name": "stdout",
     "output_type": "stream",
     "text": [
      "0.0039882659912109375\n"
     ]
    }
   ],
   "source": [
    "t0 = time.time()\n",
    "sim_drive = SimDrive.SimDriveJit(len(cyc.cycSecs))\n",
    "sim_drive.sim_drive(cyc_jit, veh_jit, -1)\n",
    "# sim_drive = SimDrive.SimDriveClassic(len(cyc.cycSecs))\n",
    "# sim_drive.sim_drive(cyc_jit, veh_jit)\n",
    "# output = sim_drive.get_output(cyc, veh)\n",
    "print(time.time() - t0)"
   ]
  },
  {
   "cell_type": "code",
   "execution_count": 142,
   "metadata": {},
   "outputs": [
    {
     "name": "stdout",
     "output_type": "stream",
     "text": [
      "0.07884931564331055\n"
     ]
    }
   ],
   "source": [
    "t0 = time.time()\n",
    "sim_drive_post = SimDrive.SimDrivePost(sim_drive)\n",
    "sim_drive_post.set_battery_wear(veh)\n",
    "sim_drive_post.set_energy_audit(cyc, veh)\n",
    "diag = sim_drive_post.get_diagnostics(cyc)\n",
    "print(time.time() - t0)"
   ]
  },
  {
   "cell_type": "markdown",
   "metadata": {},
   "source": [
    "### Results"
   ]
  },
  {
   "cell_type": "code",
   "execution_count": null,
   "metadata": {
    "ExecuteTime": {
     "end_time": "2018-03-06T22:17:54.283575Z",
     "start_time": "2018-03-06T22:17:54.228914Z"
    }
   },
   "outputs": [],
   "source": [
    "df = pd.DataFrame.from_dict(output)[['soc','fcKwInAch']]\n",
    "df['speed'] = cyc.cycMps * 2.23694  # Convert mps to mph"
   ]
  },
  {
   "cell_type": "code",
   "execution_count": null,
   "metadata": {
    "ExecuteTime": {
     "end_time": "2018-03-06T22:17:54.573517Z",
     "start_time": "2018-03-06T22:17:54.285832Z"
    }
   },
   "outputs": [],
   "source": [
    "fig, ax = plt.subplots(figsize=(9, 5))\n",
    "kwh_line = df.fcKwInAch.plot(ax=ax, label='kW')\n",
    "\n",
    "ax2 = ax.twinx()\n",
    "speed_line = df.speed.plot(color='xkcd:pale red', ax=ax2, label='Speed')\n",
    "\n",
    "ax.set_xlabel('Cycle Time [s]', weight='bold')\n",
    "ax.set_ylabel('Engine Input Power [kW]', weight='bold', color='xkcd:bluish')\n",
    "ax.tick_params('y', colors='xkcd:bluish')\n",
    "\n",
    "ax2.set_ylabel('Speed [MPH]', weight='bold', color='xkcd:pale red')\n",
    "ax2.grid(False)\n",
    "ax2.tick_params('y', colors='xkcd:pale red')"
   ]
  },
  {
   "cell_type": "markdown",
   "metadata": {},
   "source": [
    "## Batch Drive Cycles - TSDC Drive Cycles\n",
    "\n",
    "FASTSim's most significant advantage over other powertrain simulation tools comes from the ability to simulate many drive cycles quickly. The same three steps described above (load cycle, load model, run FASTSim) will be used here, however, the demonstration highlights how quickly FASTSim runs over __2,225 miles of driving__ data for 22 vehicles.  Running on a single core, the 241 drive cycles take roughly 25 seconds to run. Each drive cycle requires a fraction of a second of computational time. \n",
    "\n",
    "The drive cycles simulated are from a subset of Chicago Regional Household Travel Inventory housed in the the Transportation Secure Data Center ([TSDC](https://www.nrel.gov/transportation/secure-transportation-data/tsdc-cleansed-data.html)). Cycles within the TSDC are publicly available for download and easily integrate with FASTSim. You may contact the [TSDC](tsdc@nrel.gov) for general questions on the data center, or [Venu Garikapati](venu.garikapati@nrel.gov) for partnership-related inquiries. \n",
    "\n",
    "### Load Cycles\n",
    "Iterate through the drive cycles directory structure and load the cycles into one pandas dataframe. If memory is an issue, this processing can be broken into smaller chunks. The points table must have trip identifiers appended to run FASTSim on individual trips. The trips are identified and labeled using the start and end timestamps in the \"trips.csv\" summary tables in each of the vehicle directories downloadable from the TSDC."
   ]
  },
  {
   "cell_type": "code",
   "execution_count": null,
   "metadata": {
    "ExecuteTime": {
     "end_time": "2018-03-06T22:18:26.154919Z",
     "start_time": "2018-03-06T22:17:54.575628Z"
    }
   },
   "outputs": [],
   "source": [
    "t0 = time.time()\n",
    "data_path = '../cycles/cmap_subset/'  # path to drive cycles\n",
    "\n",
    "drive_cycs_df = pd.DataFrame()\n",
    "trips_df = pd.DataFrame()\n",
    "\n",
    "veh_dirs = os.listdir(data_path)\n",
    "veh_dirs = [dn for dn in veh_dirs if not dn.startswith('.')]\n",
    "\n",
    "unique_tripno = 0\n",
    "for i in veh_dirs:\n",
    "    sampno = int(i.split('_')[0])\n",
    "    vehno = int(i.split('_')[1])\n",
    "    \n",
    "    dc_csvs = os.listdir(data_path+i)\n",
    "    dc_csvs = [fn for fn in dc_csvs if not fn.endswith('trips.csv')]\n",
    "    \n",
    "    df_i = pd.read_csv(data_path+i+'/trips.csv', index_col=False)\n",
    "    trips_df = trips_df.append(df_i, ignore_index=True)\n",
    "    \n",
    "    veh_pnts_df = pd.DataFrame()\n",
    "    \n",
    "    for j in dc_csvs:\n",
    "        df_j = pd.read_csv(data_path+i+'/'+j, index_col=False)\n",
    "        veh_pnts_df = veh_pnts_df.append(df_j, ignore_index=True)\n",
    "        \n",
    "    for k in range(len(df_i)):\n",
    "        start_ts = df_i.start_ts.iloc[k]\n",
    "        end_ts = df_i.end_ts.iloc[k]\n",
    "        tripK_df = veh_pnts_df.loc[(veh_pnts_df['timestamp']>=start_ts) & \\\n",
    "                        (veh_pnts_df['timestamp']<=end_ts)]\n",
    "        tripK_df['nrel_trip_id'] = [unique_tripno]*len(tripK_df)\n",
    "        unique_tripno += 1\n",
    "        tripK_df['sampno'] = [sampno]*len(tripK_df)\n",
    "        tripK_df['vehno'] = [vehno]*len(tripK_df)\n",
    "        drive_cycs_df = drive_cycs_df.append(tripK_df, ignore_index=True)\n",
    "t1 = time.time()\n",
    "print('Elapsed time = ' + str(round(t1 - t0, 3)))"
   ]
  },
  {
   "cell_type": "markdown",
   "metadata": {},
   "source": [
    "### Load Model, Run FASTSim"
   ]
  },
  {
   "cell_type": "code",
   "execution_count": null,
   "metadata": {
    "ExecuteTime": {
     "end_time": "2018-03-06T22:18:47.598125Z",
     "start_time": "2018-03-06T22:18:26.157000Z"
    }
   },
   "outputs": [],
   "source": [
    "veh = LoadData.Vehicle(1)  # load vehicle model\n",
    "output_dict = {}\n",
    "sim_drive = SimDrive.SimDrive()\n",
    "\n",
    "results_df = pd.DataFrame()\n",
    "t_start = time.time()\n",
    "for trp in list(drive_cycs_df.nrel_trip_id.unique()):\n",
    "    pnts = drive_cycs_df[drive_cycs_df['nrel_trip_id'] == trp]\n",
    "    pnts['time_local'] = pd.to_datetime(pnts['timestamp'])\n",
    "\n",
    "    cyc = {}\n",
    "    cyc['cycGrade'] = np.zeros(len(pnts))\n",
    "    cyc['cycMps'] = np.array(\n",
    "        pnts['speed_mph'] * 0.44704)  # MPH to MPS conversion\n",
    "    cyc['cycSecs'] = np.array(\n",
    "        np.cumsum(\n",
    "            (pnts['time_local'] -\n",
    "             pnts['time_local'].shift()).fillna(0).astype('timedelta64[s]')))\n",
    "    cyc['cycRoadType'] = np.zeros(len(pnts))\n",
    "    cyc = LoadData.Cycle(cyc_dict=cyc)\n",
    "    \n",
    "    sim_drive.sim_drive(cyc, veh)\n",
    "    output = sim_drive.get_output(cyc, veh)\n",
    "    \n",
    "    del output['soc'], output['fcKwInAch'], output['fcKwOutAch'],\\\n",
    "    output['fsKwhOutAch']\n",
    "\n",
    "    output['nrel_trip_id'] = trp\n",
    "    results_df = results_df.append(output, ignore_index=True)\n",
    "    \n",
    "t_end = time.time()\n",
    "\n",
    "# results_df = results_df.astype(float)\n",
    "\n",
    "print('Run Complete. Total runtime = %1.2fs' % (t_end - t_start))\n",
    "print('     Average time per cycle = %1.2fs' % ((\n",
    "    t_end - t_start) / len(drive_cycs_df.nrel_trip_id.unique())))"
   ]
  },
  {
   "cell_type": "markdown",
   "metadata": {},
   "source": [
    "### Results\n",
    "\n",
    "In this demo, the batch results from all 494 drive cycles were output to a Pandas Dataframe to simplify post-processing. Any python data structure or output file format can be used to save batch results. For simplicity, time series data was not stored, but it could certainly be included in batch processing.\n",
    "\n",
    "In order to plot the data, a handful of results are filtered out either because they are much longer than we are interested in, or there was some GPS issue in data acquisition that led to an unrealistically high cycle average speed."
   ]
  },
  {
   "cell_type": "code",
   "execution_count": null,
   "metadata": {
    "ExecuteTime": {
     "end_time": "2018-03-06T22:18:47.621130Z",
     "start_time": "2018-03-06T22:18:47.606788Z"
    }
   },
   "outputs": [],
   "source": [
    "df_fltr = results_df[(results_df['distance_mi'] < 1000)\n",
    "                     & (results_df['distance_mi'] > 0) &\n",
    "                     (results_df['avg_speed_mph'] < 100)]"
   ]
  },
  {
   "cell_type": "code",
   "execution_count": null,
   "metadata": {
    "ExecuteTime": {
     "end_time": "2018-03-06T22:19:36.129729Z",
     "start_time": "2018-03-06T22:19:36.033204Z"
    }
   },
   "outputs": [],
   "source": [
    "plt.figure()\n",
    "df_fltr.mpgge.hist(bins=20, rwidth=.9)\n",
    "plt.xlabel('Miles per Gallon')\n",
    "plt.ylabel('Number of Cycles')\n",
    "plt.show()"
   ]
  },
  {
   "cell_type": "code",
   "execution_count": null,
   "metadata": {
    "ExecuteTime": {
     "end_time": "2018-03-06T22:19:28.237447Z",
     "start_time": "2018-03-06T22:19:28.123851Z"
    }
   },
   "outputs": [],
   "source": [
    "df_fltr.plot(\n",
    "    x='avg_speed_mph',\n",
    "    y='mpgge',\n",
    "    kind='scatter',\n",
    "    s=df_fltr['distance_mi'] * 5,\n",
    "    alpha=0.3)\n",
    "\n",
    "# Configure legend and axes\n",
    "l1 = plt.scatter([], [], s=5, edgecolors='none', c='xkcd:bluish')\n",
    "l2 = plt.scatter([], [], s=50, edgecolors='none', c='xkcd:bluish')\n",
    "l3 = plt.scatter([], [], s=250, edgecolors='none', c='xkcd:bluish')\n",
    "\n",
    "labels = [\"1 Mile\", \"10 Miles\", \"50 Miles\"]\n",
    "\n",
    "leg = plt.legend(\n",
    "    [l1, l2, l3],\n",
    "    labels,\n",
    "    title='Cycle Distance',\n",
    "    frameon=True,\n",
    "    fontsize=12,\n",
    "    scatterpoints=1)\n",
    "plt.xlabel('Average Cycle Speed [MPH]')\n",
    "plt.ylabel('Fuel Economy [MPG]')\n",
    "plt.show()"
   ]
  },
  {
   "cell_type": "code",
   "execution_count": null,
   "metadata": {},
   "outputs": [],
   "source": []
  }
 ],
 "metadata": {
  "hide_input": false,
  "kernelspec": {
   "display_name": "Python 3",
   "language": "python",
   "name": "python3"
  },
  "language_info": {
   "codemirror_mode": {
    "name": "ipython",
    "version": 3
   },
   "file_extension": ".py",
   "mimetype": "text/x-python",
   "name": "python",
   "nbconvert_exporter": "python",
   "pygments_lexer": "ipython3",
   "version": "3.7.3"
  }
 },
 "nbformat": 4,
 "nbformat_minor": 4
}
