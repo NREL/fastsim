{
 "cells": [
  {
   "cell_type": "code",
   "execution_count": 2,
   "metadata": {
    "ExecuteTime": {
     "end_time": "2018-01-11T22:03:52.838386Z",
     "start_time": "2018-01-11T22:03:52.831484Z"
    },
    "collapsed": true
   },
   "outputs": [],
   "source": [
    "import postgres_connection as pc\n",
    "import pandas as pd\n",
    "import sqlite3\n",
    "\n",
    "conn_info = {}\n",
    "conn_info['host_name'] = 'tsdc-server'\n",
    "conn_info['port_name'] = 5432\n",
    "conn_info['db_name'] = 'master'\n",
    "conn_info['user_name'] = 'jholden'\n",
    "conn_info['password_name'] = 'NRELisgr8!'"
   ]
  },
  {
   "cell_type": "code",
   "execution_count": 3,
   "metadata": {
    "ExecuteTime": {
     "end_time": "2018-01-11T22:04:00.312032Z",
     "start_time": "2018-01-11T22:03:56.319705Z"
    }
   },
   "outputs": [],
   "source": [
    "uni_id_quer = \"\"\"\n",
    "SELECT DISTINCT sampno, vehno\n",
    "FROM tsdc_cmap.v_gpstrips_nrel\n",
    "LIMIT 25\n",
    "\"\"\"\n",
    "uni_vehs_df = pc.query_table_df(uni_id_quer, conn_info)"
   ]
  },
  {
   "cell_type": "code",
   "execution_count": 11,
   "metadata": {
    "ExecuteTime": {
     "end_time": "2018-01-11T22:06:57.898529Z",
     "start_time": "2018-01-11T22:06:40.246167Z"
    },
    "scrolled": false
   },
   "outputs": [],
   "source": [
    "quer = \"\"\"\n",
    "SELECT *\n",
    "FROM tsdc_cmap.v_points_nrel\n",
    "WHERE (sampno, vehno)\n",
    "IN \"\"\" + str(tuple([tuple(x) for x in uni_vehs_df.values]))\n",
    "\n",
    "# for i in range(len(uni_vehs_df)):\n",
    "#     quer += \"sampno = \"+str(uni_vehs_df.sampno.iloc[i])+\" AND vehno = \"+str(uni_vehs_df.vehno.iloc[i])+\" OR \"\n",
    "# quer = quer[:-3]\n",
    "\n",
    "pnts_df = pc.query_table_df(quer, conn_info)"
   ]
  },
  {
   "cell_type": "markdown",
   "metadata": {},
   "source": [
    "Create SQLite file to write points data"
   ]
  },
  {
   "cell_type": "code",
   "execution_count": 18,
   "metadata": {
    "ExecuteTime": {
     "end_time": "2018-01-11T22:12:37.294091Z",
     "start_time": "2018-01-11T22:12:34.559535Z"
    }
   },
   "outputs": [],
   "source": [
    "pnts_cleansed = pnts_df[['sampno','vehno','time_local','time_rel','gpsspeed']]\n",
    "\n",
    "conn = sqlite3.connect('../cycles/cmap_subset/cmap_25_vehs.db')\n",
    "pnts_cleansed.to_sql('gps_points', conn, if_exists='replace')\n",
    "conn.close()"
   ]
  },
  {
   "cell_type": "code",
   "execution_count": null,
   "metadata": {
    "collapsed": true
   },
   "outputs": [],
   "source": []
  }
 ],
 "metadata": {
  "hide_input": false,
  "kernelspec": {
   "display_name": "Python 2",
   "language": "python",
   "name": "python2"
  },
  "language_info": {
   "codemirror_mode": {
    "name": "ipython",
    "version": 2
   },
   "file_extension": ".py",
   "mimetype": "text/x-python",
   "name": "python",
   "nbconvert_exporter": "python",
   "pygments_lexer": "ipython2",
   "version": "2.7.13"
  }
 },
 "nbformat": 4,
 "nbformat_minor": 2
}
