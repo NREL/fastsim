{
 "cells": [
  {
   "cell_type": "code",
   "execution_count": 6,
   "metadata": {},
   "outputs": [],
   "source": [
    "import numpy as np\n",
    "import importlib\n",
    "\n",
    "import fastsim"
   ]
  },
  {
   "cell_type": "code",
   "execution_count": 7,
   "metadata": {},
   "outputs": [
    {
     "name": "stdout",
     "output_type": "stream",
     "text": [
      "fcEffMap is overriding fcEffType in ../resources/vehdb/2022_Renault_Zoe_ZE50_R135_camelCase.csv\n"
     ]
    }
   ],
   "source": [
    "# Load vehicle\n",
    "veh_name = \"2022_Renault_Zoe_ZE50_R135_camelCase\"\n",
    "veh = fastsim.vehicle.Vehicle(veh_file=f\"../resources/vehdb/{veh_name}.csv\")"
   ]
  },
  {
   "cell_type": "code",
   "execution_count": 8,
   "metadata": {},
   "outputs": [],
   "source": [
    "# Load WLTC cycle phases\n",
    "cyc_low = fastsim.cycle.Cycle(cyc_file_path=\"../resources/cycles/wltc_class3_low3.csv\")\n",
    "cyc_med = fastsim.cycle.Cycle(cyc_file_path=\"../resources/cycles/wltc_class3_med3b.csv\")\n",
    "cyc_high = fastsim.cycle.Cycle(cyc_file_path=\"../resources/cycles/wltc_class3_high3b.csv\")\n",
    "cyc_extrahigh = fastsim.cycle.Cycle(cyc_file_path=\"../resources/cycles/wltc_class3_extra_high3.csv\")\n",
    "# Generate combined cycle\n",
    "cyc_combined_dict = fastsim.cycle.concat(\n",
    "    [\n",
    "        cyc_low.get_cyc_dict(),\n",
    "        cyc_med.get_cyc_dict(),\n",
    "        cyc_high.get_cyc_dict(),\n",
    "        cyc_extrahigh.get_cyc_dict(),\n",
    "    ]\n",
    ")\n",
    "cyc = fastsim.cycle.Cycle(cyc_dict=cyc_combined_dict)"
   ]
  },
  {
   "cell_type": "code",
   "execution_count": 9,
   "metadata": {},
   "outputs": [],
   "source": [
    "# Simulate combined cycle (Python)\n",
    "sim = fastsim.simdrive.SimDriveClassic(cyc, veh)\n",
    "sim.sim_drive()"
   ]
  },
  {
   "cell_type": "code",
   "execution_count": 10,
   "metadata": {},
   "outputs": [],
   "source": [
    "i0 = len(cyc_low.time_s)\n",
    "i1 = i0 + len(cyc_med.time_s)-1\n",
    "i2 = i1 + len(cyc_high.time_s)-1\n",
    "\n",
    "low = slice(None, i0)\n",
    "medium = slice(i0-1, i1)\n",
    "high = slice(i1-1, i2)\n",
    "extrahigh = slice(i2-1, None)"
   ]
  },
  {
   "cell_type": "code",
   "execution_count": 14,
   "metadata": {},
   "outputs": [
    {
     "name": "stdout",
     "output_type": "stream",
     "text": [
      "17.131\n",
      "-3.214%\n"
     ]
    }
   ],
   "source": [
    "combined_Wh_per_km_meas = 177\n",
    "combined_kWh_per_100km_meas = combined_Wh_per_km_meas / 1000 * 100\n",
    "\n",
    "kWh_per_100km = sim.electric_kWh_per_mi * 1000/fastsim.params.metersPerMile * 100\n",
    "\n",
    "#print(convert((sim.roadway_chg_kj + sim.ess_dischg_kj) / 3.6e3 / sum(sim_rust.dist_mi)))\n",
    "\n",
    "print(f\"{kWh_per_100km:.3f}\")\n",
    "\n",
    "print(f\"{(kWh_per_100km - combined_kWh_per_100km_meas)/combined_kWh_per_100km_meas * 100:+.3f}%\")"
   ]
  },
  {
   "cell_type": "code",
   "execution_count": 26,
   "metadata": {},
   "outputs": [],
   "source": [
    "def calc_kWh_per_100km(simdr, phase):\n",
    "    # Copy arrays/lists to np.array for calculations\n",
    "    roadway_chg_kw_out_ach = np.array(simdr.roadwayChgKwOutAch[phase])\n",
    "    dt_s = np.array(simdr.cyc.dt_s[phase])\n",
    "    # Calculate energy consumption\n",
    "    roadway_chg_kj = sum(roadway_chg_kw_out_ach * dt_s)\n",
    "    ess_dischg_kj = - (simdr.soc[phase][-1] - simdr.soc[phase][0]) * simdr.veh.maxEssKwh * 3.6e3\n",
    "    kWh_per_mi = (roadway_chg_kj + ess_dischg_kj) / 3.6e3 / sum(simdr.distMiles[phase])\n",
    "    kWh_per_100km = kWh_per_mi * 1000/fastsim.params.metersPerMile * 100\n",
    "    return kWh_per_100km\n",
    "\n",
    "def calc_percent_error(simulated, measured):\n",
    "    return 100 * (simulated - measured) / measured"
   ]
  },
  {
   "cell_type": "code",
   "execution_count": 27,
   "metadata": {},
   "outputs": [],
   "source": [
    "low_kWh_per_100km_meas = 177 / 1000 * 100\n",
    "medium_kWh_per_100km_meas = 177 / 1000 * 100\n",
    "high_kWh_per_100km_meas = 177 / 1000 * 100\n",
    "extrahigh_kWh_per_100km_meas = 177 / 1000 * 100\n",
    "combined_kWh_per_100km_meas = 177 / 1000 * 100"
   ]
  },
  {
   "cell_type": "code",
   "execution_count": 28,
   "metadata": {},
   "outputs": [],
   "source": [
    "low_kWh_per_100km = calc_kWh_per_100km(sim, low)\n",
    "low_kWh_per_100km_error = calc_percent_error(low_kWh_per_100km, low_kWh_per_100km_meas)\n",
    "\n",
    "medium_kWh_per_100km = calc_kWh_per_100km(sim, medium)\n",
    "medium_kWh_per_100km_error = calc_percent_error(medium_kWh_per_100km, medium_kWh_per_100km_meas)\n",
    "\n",
    "high_kWh_per_100km = calc_kWh_per_100km(sim, high)\n",
    "high_kWh_per_100km_error = calc_percent_error(high_kWh_per_100km, high_kWh_per_100km_meas)\n",
    "\n",
    "extrahigh_kWh_per_100km = calc_kWh_per_100km(sim, extrahigh)\n",
    "extrahigh_kWh_per_100km_error = calc_percent_error(extrahigh_kWh_per_100km, extrahigh_kWh_per_100km_meas)\n",
    "\n",
    "combined_kWh_per_100km = sim.electric_kWh_per_mi * 1000/fastsim.params.metersPerMile * 100\n",
    "combined_kWh_per_100km_error = calc_percent_error(combined_kWh_per_100km, combined_kWh_per_100km_meas)"
   ]
  },
  {
   "cell_type": "code",
   "execution_count": 29,
   "metadata": {},
   "outputs": [
    {
     "name": "stdout",
     "output_type": "stream",
     "text": [
      "SIMULATED\n",
      "--------------------------------------\n",
      "LOW:        14.457 kWh/100km (-18.320%)\n",
      "MEDIUM:     13.968 kWh/100km (-21.083%)\n",
      "HIGH:       15.439 kWh/100km (-12.773%)\n",
      "EXTRA-HIGH: 21.424 kWh/100km (+21.040%)\n",
      "--------------------------------------\n",
      "COMBINED:   17.131 kWh/100km ( -3.214%)\n"
     ]
    }
   ],
   "source": [
    "print(\"SIMULATED\")\n",
    "print(\"--------------------------------------\")\n",
    "print(f\"LOW:        {low_kWh_per_100km: >6.3f} kWh/100km ({low_kWh_per_100km_error:+.3f}%)\")\n",
    "print(f\"MEDIUM:     {medium_kWh_per_100km: >6.3f} kWh/100km ({medium_kWh_per_100km_error:+.3f}%)\")\n",
    "print(f\"HIGH:       {high_kWh_per_100km: >6.3f} kWh/100km ({high_kWh_per_100km_error:+.3f}%)\")\n",
    "print(f\"EXTRA-HIGH: {extrahigh_kWh_per_100km: >6.3f} kWh/100km ({extrahigh_kWh_per_100km_error:+.3f}%)\")\n",
    "print(\"--------------------------------------\")\n",
    "print(f\"COMBINED:   {combined_kWh_per_100km: >6.3f} kWh/100km ({combined_kWh_per_100km_error: >7.3f}%)\")"
   ]
  }
 ],
 "metadata": {
  "interpreter": {
   "hash": "5a7dcb74155beb0eaad584b0b0bd82585d449370010193175e8767286e21f445"
  },
  "kernelspec": {
   "display_name": "Python 3.8.10 ('3_8_10')",
   "language": "python",
   "name": "python3"
  },
  "language_info": {
   "codemirror_mode": {
    "name": "ipython",
    "version": 3
   },
   "file_extension": ".py",
   "mimetype": "text/x-python",
   "name": "python",
   "nbconvert_exporter": "python",
   "pygments_lexer": "ipython3",
   "version": "3.8.10"
  },
  "orig_nbformat": 4
 },
 "nbformat": 4,
 "nbformat_minor": 2
}
