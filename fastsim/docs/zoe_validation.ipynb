{
 "cells": [
  {
   "cell_type": "code",
   "execution_count": 24,
   "metadata": {},
   "outputs": [],
   "source": [
    "import numpy as np\n",
    "import importlib\n",
    "\n",
    "import fastsim"
   ]
  },
  {
   "cell_type": "code",
   "execution_count": 25,
   "metadata": {},
   "outputs": [],
   "source": [
    "# Load vehicle\n",
    "veh_name = \"2020_Renault_Zoe_E-Tech_Electric_ZE50_snake_case\"\n",
    "veh = fastsim.vehicle.Vehicle.from_file(f\"../resources/vehdb/{veh_name}.csv\")\n",
    "veh_rust = veh.to_rust()"
   ]
  },
  {
   "cell_type": "code",
   "execution_count": 26,
   "metadata": {},
   "outputs": [],
   "source": [
    "# Load WLTC cycle phases\n",
    "cyc_low = fastsim.cycle.Cycle.from_file(\"../resources/cycles/wltc_class3_low3.csv\")\n",
    "cyc_med = fastsim.cycle.Cycle.from_file(\"../resources/cycles/wltc_class3_med3b.csv\")\n",
    "cyc_high = fastsim.cycle.Cycle.from_file(\"../resources/cycles/wltc_class3_high3b.csv\")\n",
    "cyc_extrahigh = fastsim.cycle.Cycle.from_file(\"../resources/cycles/wltc_class3_extra_high3.csv\")\n",
    "# Generate combined cycle\n",
    "cyc_combined_dict = fastsim.cycle.concat(\n",
    "    [\n",
    "        cyc_low.get_cyc_dict(),\n",
    "        cyc_med.get_cyc_dict(),\n",
    "        cyc_high.get_cyc_dict(),\n",
    "        cyc_extrahigh.get_cyc_dict(),\n",
    "    ]\n",
    ")\n",
    "cyc = fastsim.cycle.Cycle.from_dict(cyc_combined_dict)\n",
    "cyc_rust = cyc.to_rust()"
   ]
  },
  {
   "cell_type": "code",
   "execution_count": 27,
   "metadata": {},
   "outputs": [],
   "source": [
    "# Simulate combined cycle (Python)\n",
    "sim_python = fastsim.simdrive.SimDrive(cyc, veh)\n",
    "sim_python.sim_drive()"
   ]
  },
  {
   "cell_type": "code",
   "execution_count": 28,
   "metadata": {},
   "outputs": [],
   "source": [
    "# Simulate combined cycle (Rust)\n",
    "sim_rust = fastsim.simdrive.RustSimDrive(cyc_rust, veh_rust)\n",
    "sim_rust.sim_drive()"
   ]
  },
  {
   "cell_type": "code",
   "execution_count": 29,
   "metadata": {},
   "outputs": [],
   "source": [
    "i0 = len(cyc_low.time_s)\n",
    "i1 = i0 + len(cyc_med.time_s)-1\n",
    "i2 = i1 + len(cyc_high.time_s)-1\n",
    "\n",
    "low = slice(None, i0)\n",
    "medium = slice(i0-1, i1)\n",
    "high = slice(i1-1, i2)\n",
    "extrahigh = slice(i2-1, None)"
   ]
  },
  {
   "cell_type": "code",
   "execution_count": 30,
   "metadata": {},
   "outputs": [
    {
     "name": "stdout",
     "output_type": "stream",
     "text": [
      "17.124\n",
      "-3.255%\n"
     ]
    }
   ],
   "source": [
    "meas_Wh_per_km = 177\n",
    "combined_kWh_per_100km_meas = meas_Wh_per_km / 1000 * 100\n",
    "\n",
    "kWh_per_100km = sim_rust.electric_kwh_per_mi  * 1000/fastsim.params.M_PER_MI * 100\n",
    "\n",
    "#print(convert((sim_rust.roadway_chg_kj + sim_rust.ess_dischg_kj) / 3.6e3 / sum(sim_rust.dist_mi)))\n",
    "\n",
    "print(f\"{kWh_per_100km:.3f}\")\n",
    "\n",
    "print(f\"{(kWh_per_100km - meas_kWh_per_100km)/meas_kWh_per_100km * 100:+.3f}%\")"
   ]
  },
  {
   "cell_type": "code",
   "execution_count": 67,
   "metadata": {},
   "outputs": [],
   "source": [
    "def calc_kWh_per_100km(sim, phase):\n",
    "    # Copy arrays/lists to np.array for calculations\n",
    "    roadway_chg_kw_out_ach = np.array(sim.roadway_chg_kw_out_ach[phase])\n",
    "    dt_s = np.array(sim.cyc.dt_s[phase])\n",
    "    # Calculate energy consumption\n",
    "    roadway_chg_kj = sum(roadway_chg_kw_out_ach * dt_s)\n",
    "    ess_dischg_kj = - (sim.soc[phase][-1] - sim.soc[phase][0]) * sim.veh.ess_max_kwh * 3.6e3\n",
    "    kWh_per_mi = (roadway_chg_kj + ess_dischg_kj) / 3.6e3 / sum(sim.dist_mi[phase])\n",
    "    kWh_per_100km = kWh_per_mi * 1000/fastsim.params.M_PER_MI * 100\n",
    "    return kWh_per_100km\n",
    "\n",
    "def calc_percent_error(simulated, measured):\n",
    "    return 100 * (simulated - measured) / measured"
   ]
  },
  {
   "cell_type": "code",
   "execution_count": 66,
   "metadata": {},
   "outputs": [],
   "source": [
    "low_kWh_per_100km_meas = 177 / 1000 * 100\n",
    "medium_kWh_per_100km_meas = 177 / 1000 * 100\n",
    "high_kWh_per_100km_meas = 177 / 1000 * 100\n",
    "extrahigh_kWh_per_100km_meas = 177 / 1000 * 100\n",
    "combined_kWh_per_100km_meas = 177 / 1000 * 100"
   ]
  },
  {
   "cell_type": "code",
   "execution_count": 68,
   "metadata": {},
   "outputs": [],
   "source": [
    "low_kWh_per_100km = calc_kWh_per_100km(sim_rust, low)\n",
    "low_kWh_per_100km_error = calc_percent_error(low_kWh_per_100km, low_kWh_per_100km_meas)\n",
    "\n",
    "medium_kWh_per_100km = calc_kWh_per_100km(sim_rust, medium)\n",
    "medium_kWh_per_100km_error = calc_percent_error(medium_kWh_per_100km, medium_kWh_per_100km_meas)\n",
    "\n",
    "high_kWh_per_100km = calc_kWh_per_100km(sim_rust, high)\n",
    "high_kWh_per_100km_error = calc_percent_error(high_kWh_per_100km, high_kWh_per_100km_meas)\n",
    "\n",
    "extrahigh_kWh_per_100km = calc_kWh_per_100km(sim_rust, extrahigh)\n",
    "extrahigh_kWh_per_100km_error = calc_percent_error(extrahigh_kWh_per_100km, extrahigh_kWh_per_100km_meas)\n",
    "\n",
    "combined_kWh_per_100km = sim_rust.electric_kwh_per_mi * 1000/fastsim.params.M_PER_MI * 100\n",
    "combined_kWh_per_100km_error = calc_percent_error(combined_kWh_per_100km, combined_kWh_per_100km_meas)"
   ]
  },
  {
   "cell_type": "code",
   "execution_count": 112,
   "metadata": {},
   "outputs": [
    {
     "name": "stdout",
     "output_type": "stream",
     "text": [
      "SIMULATED\n",
      "--------------------------------------\n",
      "LOW:        14.443 kWh/100km (-18.403%)\n",
      "MEDIUM:     13.958 kWh/100km (-21.140%)\n",
      "HIGH:       15.432 kWh/100km (-12.811%)\n",
      "EXTRA-HIGH: 21.421 kWh/100km (+21.021%)\n",
      "--------------------------------------\n"
     ]
    },
    {
     "ename": "ValueError",
     "evalue": "Invalid format specifier",
     "output_type": "error",
     "traceback": [
      "\u001b[1;31m---------------------------------------------------------------------------\u001b[0m",
      "\u001b[1;31mValueError\u001b[0m                                Traceback (most recent call last)",
      "\u001b[1;32mc:\\Users\\kcarow\\Repositories\\fastsim\\fastsim\\docs\\rust-port comparison.ipynb Cell 11'\u001b[0m in \u001b[0;36m<cell line: 8>\u001b[1;34m()\u001b[0m\n\u001b[0;32m      <a href='vscode-notebook-cell:/c%3A/Users/kcarow/Repositories/fastsim/fastsim/docs/rust-port%20comparison.ipynb#ch0000011?line=5'>6</a>\u001b[0m \u001b[39mprint\u001b[39m(\u001b[39mf\u001b[39m\u001b[39m\"\u001b[39m\u001b[39mEXTRA-HIGH: \u001b[39m\u001b[39m{\u001b[39;00mextrahigh_kWh_per_100km\u001b[39m:\u001b[39;00m\u001b[39m >6.3f\u001b[39m\u001b[39m}\u001b[39;00m\u001b[39m kWh/100km (\u001b[39m\u001b[39m{\u001b[39;00mextrahigh_kWh_per_100km_error\u001b[39m:\u001b[39;00m\u001b[39m+.3f\u001b[39m\u001b[39m}\u001b[39;00m\u001b[39m%)\u001b[39m\u001b[39m\"\u001b[39m)\n\u001b[0;32m      <a href='vscode-notebook-cell:/c%3A/Users/kcarow/Repositories/fastsim/fastsim/docs/rust-port%20comparison.ipynb#ch0000011?line=6'>7</a>\u001b[0m \u001b[39mprint\u001b[39m(\u001b[39m\"\u001b[39m\u001b[39m--------------------------------------\u001b[39m\u001b[39m\"\u001b[39m)\n\u001b[1;32m----> <a href='vscode-notebook-cell:/c%3A/Users/kcarow/Repositories/fastsim/fastsim/docs/rust-port%20comparison.ipynb#ch0000011?line=7'>8</a>\u001b[0m \u001b[39mprint\u001b[39m(\u001b[39mf\u001b[39m\u001b[39m\"\u001b[39m\u001b[39mCOMBINED:   \u001b[39m\u001b[39m{\u001b[39;00mcombined_kWh_per_100km\u001b[39m:\u001b[39;00m\u001b[39m >6.3f\u001b[39m\u001b[39m}\u001b[39;00m\u001b[39m kWh/100km (\u001b[39m\u001b[39m{\u001b[39;00mcombined_kWh_per_100km_error\u001b[39m:\u001b[39;00m\u001b[39m >7.3+f\u001b[39m\u001b[39m}\u001b[39;00m\u001b[39m%)\u001b[39m\u001b[39m\"\u001b[39m)\n",
      "\u001b[1;31mValueError\u001b[0m: Invalid format specifier"
     ]
    }
   ],
   "source": [
    "print(\"SIMULATED\")\n",
    "print(\"--------------------------------------\")\n",
    "print(f\"LOW:        {low_kWh_per_100km: >6.3f} kWh/100km ({low_kWh_per_100km_error:+.3f}%)\")\n",
    "print(f\"MEDIUM:     {medium_kWh_per_100km: >6.3f} kWh/100km ({medium_kWh_per_100km_error:+.3f}%)\")\n",
    "print(f\"HIGH:       {high_kWh_per_100km: >6.3f} kWh/100km ({high_kWh_per_100km_error:+.3f}%)\")\n",
    "print(f\"EXTRA-HIGH: {extrahigh_kWh_per_100km: >6.3f} kWh/100km ({extrahigh_kWh_per_100km_error:+.3f}%)\")\n",
    "print(\"--------------------------------------\")\n",
    "print(f\"COMBINED:   {combined_kWh_per_100km: >6.3f} kWh/100km ({combined_kWh_per_100km_error: >7.3f}%)\")"
   ]
  }
 ],
 "metadata": {
  "interpreter": {
   "hash": "5a7dcb74155beb0eaad584b0b0bd82585d449370010193175e8767286e21f445"
  },
  "kernelspec": {
   "display_name": "Python 3.8.10 ('3_8_10')",
   "language": "python",
   "name": "python3"
  },
  "language_info": {
   "codemirror_mode": {
    "name": "ipython",
    "version": 3
   },
   "file_extension": ".py",
   "mimetype": "text/x-python",
   "name": "python",
   "nbconvert_exporter": "python",
   "pygments_lexer": "ipython3",
   "version": "3.8.10"
  },
  "orig_nbformat": 4
 },
 "nbformat": 4,
 "nbformat_minor": 2
}
