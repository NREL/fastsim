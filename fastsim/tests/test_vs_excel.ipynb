{
 "cells": [
  {
   "cell_type": "code",
   "execution_count": 8,
   "metadata": {},
   "outputs": [
    {
     "data": {
      "text/plain": [
       "<module 'fastsim.simdrivelabel' from 'c:\\\\users\\\\cbaker2\\\\documents\\\\projects\\\\fastsim\\\\github\\\\fastsim\\\\fastsim\\\\simdrivelabel.py'>"
      ]
     },
     "execution_count": 8,
     "metadata": {},
     "output_type": "execute_result"
    }
   ],
   "source": [
    "\"\"\"Test script that runs all the vehicles in both Excel and Python FASTSim for both UDDS and HWFET cycles.\"\"\"\n",
    "\n",
    "import xlwings as xw\n",
    "import pandas as pd\n",
    "import time\n",
    "import numpy as np\n",
    "import os\n",
    "import sys\n",
    "import importlib\n",
    "import xlwings as xw\n",
    "from math import isclose\n",
    "import importlib\n",
    "import pickle\n",
    "\n",
    "# local modules\n",
    "from fastsim import simdrive, vehicle, cycle, simdrivelabel\n",
    "importlib.reload(simdrivelabel)"
   ]
  },
  {
   "cell_type": "code",
   "execution_count": 3,
   "metadata": {},
   "outputs": [],
   "source": [
    "def run_python_fastsim(verbose=True):\n",
    "    \"\"\"Runs python fastsim through 26 vehicles and returns list of dictionaries \n",
    "    containing scenario descriptions.\n",
    "    \n",
    "    Arguments:\n",
    "    **********\n",
    "    verbose : Boolean\n",
    "        if True, print progress\"\"\"\n",
    "\n",
    "    t0 = time.time()\n",
    "\n",
    "    vehicles = np.arange(1, 27)\n",
    "\n",
    "    print('Instantiating classes.')\n",
    "    print()\n",
    "\n",
    "    res_python = {}\n",
    "\n",
    "    for vehno in vehicles:\n",
    "        if verbose:\n",
    "            print('vehno =', vehno)\n",
    "        veh_jit = vehicle.Vehicle(vehno).get_numba_veh()\n",
    "        res_python[veh_jit.Scenario_name] = simdrivelabel.get_label_fe(veh_jit)\n",
    "                                   \n",
    "    t1 = time.time()\n",
    "    print()\n",
    "    print('Elapsed time: ', round(t1 - t0, 2), 's')\n",
    "\n",
    "    return res_python"
   ]
  },
  {
   "cell_type": "code",
   "execution_count": 9,
   "metadata": {},
   "outputs": [],
   "source": [
    "def run_excel_fastsim():\n",
    "    \"\"\"Runs excel fastsim through 26 vehicles and returns list of dictionaries \n",
    "    containing scenario descriptions.\"\"\"\n",
    "\n",
    "    t0 = time.time()\n",
    "\n",
    "    # initial setup\n",
    "    wb = xw.Book('FASTSim.xlsm')  # FASTSim.xlsm must be open\n",
    "    # capture sheets with results of interest\n",
    "    sht_veh = wb.sheets('VehicleIO')\n",
    "    sht_vehnames = wb.sheets('SavedVehs')\n",
    "    # setup macros to run from python\n",
    "    app = wb.app\n",
    "    load_veh_macro = app.macro(\"FASTSim.xlsm!reloadVehInfo\")\n",
    "    run_macro = app.macro(\"FASTSim.xlsm!run.run\")\n",
    "\n",
    "    vehicles = np.arange(1, 28)\n",
    "    res_excel = {}\n",
    "    \n",
    "    for vehno in vehicles:\n",
    "        print('vehno =', vehno)\n",
    "        # running a particular vehicle and getting the result\n",
    "        res_dict = {}\n",
    "        # set excel to run vehno\n",
    "        sht_veh.range('C6').value = vehno\n",
    "        load_veh_macro()\n",
    "        run_macro()\n",
    "        # lab results (unadjusted)\n",
    "        res_dict['labUddsMpgge'] = sht_veh.range('labUddsMpgge').value\n",
    "        res_dict['labHwyMpgge'] = sht_veh.range('labHwyMpgge').value\n",
    "        res_dict['labCombMpgge'] = sht_veh.range('labCombMpgge').value\n",
    "        res_dict['labUddsKwhPerMile'] = sht_veh.range('labUddsKwhPerMile').value\n",
    "        res_dict['labHwyKwhPerMile'] = sht_veh.range('labHwyKwhPerMile').value\n",
    "        res_dict['labCombKwhPerMile'] = sht_veh.range('labCombKwhPerMile').value\n",
    "\n",
    "        # adjusted results\n",
    "        res_dict['adjUddsMpgge'] = sht_veh.range('adjUddsMpgge').value\n",
    "        res_dict['adjHwyMpgge'] = sht_veh.range('adjHwyMpgge').value\n",
    "        res_dict['adjCombMpgge'] = sht_veh.range('adjCombMpgge').value\n",
    "        res_dict['adjUddsKwhPerMile'] = sht_veh.range('adjUddsKwhPerMile').value\n",
    "        res_dict['adjHwyKwhPerMile'] = sht_veh.range('adjHwyKwhPerMile').value\n",
    "        res_dict['adjCombKwhPerMile'] = sht_veh.range('adjCombKwhPerMile').value\n",
    "\n",
    "        for key in res_dict.keys():\n",
    "            if (res_dict[key] == '') | (res_dict[key] == None):\n",
    "                res_dict[key] = 0\n",
    "        \n",
    "        res_excel[sht_vehnames.range('B' + str(vehno + 2)).value] = res_dict\n",
    "\n",
    "    t1 = time.time()\n",
    "    print()\n",
    "    print('Elapsed time: ', round(t1 - t0, 2), 's')\n",
    "\n",
    "    return res_excel"
   ]
  },
  {
   "cell_type": "code",
   "execution_count": 5,
   "metadata": {},
   "outputs": [],
   "source": [
    "def compare(res_python, res_excel):\n",
    "    \"\"\"Finds common vehicle names in both excel and python \n",
    "    (hypothetically all of them, but there may be discrepancies) and then compares\n",
    "    fuel economy results.  \n",
    "    Arguments: results from run_python_fastsim and run_excel_fastsim\n",
    "    Returns dict of comparsion results.\"\"\"\n",
    "\n",
    "    common_names = set(res_python.keys()) & set(res_excel.keys())\n",
    "\n",
    "    ERR_TOL = 0.02\n",
    "\n",
    "    res_keys = ['labUddsMpgge', 'labHwyMpgge', 'labCombMpgge', \n",
    "        'labUddsKwhPerMile', 'labHwyKwhPerMile', 'labCombKwhPerMile',\n",
    "        'adjUddsMpgge', 'adjHwyMpgge', 'adjCombMpgge', \n",
    "        'adjUddsKwhPerMile', 'adjHwyKwhPerMile', 'adjCombKwhPerMile', ]\n",
    "\n",
    "    res_comps = {}\n",
    "    for vehname in common_names:\n",
    "        print('\\n')\n",
    "        print(vehname)\n",
    "        print('***'*7)\n",
    "        res_comp = {}\n",
    "        for res_key in res_keys:\n",
    "            if not(isclose(res_python[vehname][res_key], \n",
    "                res_excel[vehname][res_key],\n",
    "                rel_tol=ERR_TOL, abs_tol=ERR_TOL)):\n",
    "                res_comp[res_key + '_frac_err'] = (\n",
    "                    res_python[vehname][res_key] -\n",
    "                    res_excel[vehname][res_key]) / res_excel[vehname][res_key]\n",
    "            else:\n",
    "                res_comp[res_key + '_frac_err'] = 0.0\n",
    "            if res_comp[res_key + '_frac_err'] != 0.0:\n",
    "                print(\n",
    "                    res_key + ' error = {:.3g}%'.format(res_comp[res_key + '_frac_err'] * 100))\n",
    "                \n",
    "        if (np.array(list(res_comp.values())) == 0).all():\n",
    "            print(f'All values within error tolerance of {ERR_TOL:.3g}')\n",
    "\n",
    "        res_comps[vehname] = res_comp.copy()\n",
    "    return res_comps"
   ]
  },
  {
   "cell_type": "code",
   "execution_count": 2,
   "metadata": {},
   "outputs": [
    {
     "name": "stdout",
     "output_type": "stream",
     "text": [
      "Instantiating classes.\n",
      "\n"
     ]
    },
    {
     "ename": "TypeError",
     "evalue": "'numpy.float64' object cannot be interpreted as an integer",
     "output_type": "error",
     "traceback": [
      "\u001b[1;31m---------------------------------------------------------------------------\u001b[0m",
      "\u001b[1;31mTypeError\u001b[0m                                 Traceback (most recent call last)",
      "\u001b[1;32m<ipython-input-2-23de29917df3>\u001b[0m in \u001b[0;36m<module>\u001b[1;34m\u001b[0m\n\u001b[1;32m----> 1\u001b[1;33m \u001b[0mres_python\u001b[0m \u001b[1;33m=\u001b[0m \u001b[0mrun_python_fastsim\u001b[0m\u001b[1;33m(\u001b[0m\u001b[0mverbose\u001b[0m\u001b[1;33m=\u001b[0m\u001b[1;32mFalse\u001b[0m\u001b[1;33m)\u001b[0m\u001b[1;33m\u001b[0m\u001b[1;33m\u001b[0m\u001b[0m\n\u001b[0m",
      "\u001b[1;32m<ipython-input-1-17c333dda144>\u001b[0m in \u001b[0;36mrun_python_fastsim\u001b[1;34m(verbose)\u001b[0m\n\u001b[0;32m     39\u001b[0m             \u001b[0mprint\u001b[0m\u001b[1;33m(\u001b[0m\u001b[1;34m'vehno ='\u001b[0m\u001b[1;33m,\u001b[0m \u001b[0mvehno\u001b[0m\u001b[1;33m)\u001b[0m\u001b[1;33m\u001b[0m\u001b[1;33m\u001b[0m\u001b[0m\n\u001b[0;32m     40\u001b[0m         \u001b[0mveh_jit\u001b[0m \u001b[1;33m=\u001b[0m \u001b[0mvehicle\u001b[0m\u001b[1;33m.\u001b[0m\u001b[0mVehicle\u001b[0m\u001b[1;33m(\u001b[0m\u001b[0mvehno\u001b[0m\u001b[1;33m)\u001b[0m\u001b[1;33m.\u001b[0m\u001b[0mget_numba_veh\u001b[0m\u001b[1;33m(\u001b[0m\u001b[1;33m)\u001b[0m\u001b[1;33m\u001b[0m\u001b[1;33m\u001b[0m\u001b[0m\n\u001b[1;32m---> 41\u001b[1;33m         \u001b[0mres_python\u001b[0m\u001b[1;33m[\u001b[0m\u001b[0mveh_jit\u001b[0m\u001b[1;33m.\u001b[0m\u001b[0mScenario_name\u001b[0m\u001b[1;33m]\u001b[0m \u001b[1;33m=\u001b[0m \u001b[0msimdrivelabel\u001b[0m\u001b[1;33m.\u001b[0m\u001b[0mget_label_fe\u001b[0m\u001b[1;33m(\u001b[0m\u001b[0mveh_jit\u001b[0m\u001b[1;33m)\u001b[0m\u001b[1;33m\u001b[0m\u001b[1;33m\u001b[0m\u001b[0m\n\u001b[0m\u001b[0;32m     42\u001b[0m \u001b[1;33m\u001b[0m\u001b[0m\n\u001b[0;32m     43\u001b[0m     \u001b[0mt1\u001b[0m \u001b[1;33m=\u001b[0m \u001b[0mtime\u001b[0m\u001b[1;33m.\u001b[0m\u001b[0mtime\u001b[0m\u001b[1;33m(\u001b[0m\u001b[1;33m)\u001b[0m\u001b[1;33m\u001b[0m\u001b[1;33m\u001b[0m\u001b[0m\n",
      "\u001b[1;32mc:\\users\\cbaker2\\documents\\projects\\fastsim\\github\\fastsim\\fastsim\\simdrivelabel.py\u001b[0m in \u001b[0;36mget_label_fe\u001b[1;34m(veh, full_detail, verbose, chgEff)\u001b[0m\n\u001b[0;32m    270\u001b[0m \u001b[1;33m\u001b[0m\u001b[0m\n\u001b[0;32m    271\u001b[0m             \u001b[1;32mif\u001b[0m \u001b[0mkey\u001b[0m \u001b[1;33m==\u001b[0m \u001b[1;34m'udds'\u001b[0m\u001b[1;33m:\u001b[0m\u001b[1;33m\u001b[0m\u001b[1;33m\u001b[0m\u001b[0m\n\u001b[1;32m--> 272\u001b[1;33m                 phev_calc['adjIterMpgge'] = np.concatenate((np.zeros(np.floor(phev_calc['cdCycs'])), \n\u001b[0m\u001b[0;32m    273\u001b[0m                     max(1 / (adjParams['City Intercept'] + (adjParams['City Slope'] / (sd[key].distMiles.sum() / (phev_calc['transFsKwh'] / params.kWhPerGGE)))), \n\u001b[0;32m    274\u001b[0m                         sd[key].distMiles.sum() / (phev_calc['transFsKwh'] / params.kWhPerGGE) * (1 - params.maxEpaAdj)),\n",
      "\u001b[1;31mTypeError\u001b[0m: 'numpy.float64' object cannot be interpreted as an integer"
     ]
    }
   ],
   "source": [
    "res_python = run_python_fastsim(verbose=False)"
   ]
  },
  {
   "cell_type": "code",
   "execution_count": 10,
   "metadata": {},
   "outputs": [
    {
     "name": "stdout",
     "output_type": "stream",
     "text": [
      "vehno = 1\n",
      "vehno = 2\n",
      "vehno = 3\n",
      "vehno = 4\n",
      "vehno = 5\n",
      "vehno = 6\n",
      "vehno = 7\n",
      "vehno = 8\n",
      "vehno = 9\n",
      "vehno = 10\n",
      "vehno = 11\n",
      "vehno = 12\n",
      "vehno = 13\n",
      "vehno = 14\n",
      "vehno = 15\n",
      "vehno = 16\n",
      "vehno = 17\n",
      "vehno = 18\n",
      "vehno = 19\n",
      "vehno = 20\n",
      "vehno = 21\n",
      "vehno = 22\n",
      "vehno = 23\n",
      "vehno = 24\n",
      "vehno = 25\n",
      "vehno = 26\n",
      "vehno = 27\n",
      "\n",
      "Elapsed time:  163.56 s\n"
     ]
    }
   ],
   "source": [
    "res_excel = run_excel_fastsim()\n",
    "pickle.dump(res_excel, open('res_excel.p', 'wb'))\n",
    "# res_excel = pickle.load(open('res_excel.p', 'rb'))"
   ]
  },
  {
   "cell_type": "code",
   "execution_count": null,
   "metadata": {},
   "outputs": [
    {
     "name": "stdout",
     "output_type": "stream",
     "text": [
      "Instantiating classes.\n",
      "\n"
     ]
    }
   ],
   "source": [
    "res_comps = compare(res_python, res_excel)"
   ]
  },
  {
   "cell_type": "code",
   "execution_count": null,
   "metadata": {},
   "outputs": [],
   "source": [
    "vehstr = \"2016 AUDI A3 4cyl 2WD\"\n",
    "for key in res_excel[vehstr].keys():\n",
    "    print(key + ' : {', end='')\n",
    "    print('excel : {:.4g}, '.format(res_excel[vehstr][key]), end='')\n",
    "    print('python:{:.4g}'.format(res_python[vehstr][key]) + '}')"
   ]
  }
 ],
 "metadata": {
  "kernelspec": {
   "display_name": "Python 3",
   "language": "python",
   "name": "python3"
  },
  "language_info": {
   "codemirror_mode": {
    "name": "ipython",
    "version": 3
   },
   "file_extension": ".py",
   "mimetype": "text/x-python",
   "name": "python",
   "nbconvert_exporter": "python",
   "pygments_lexer": "ipython3",
   "version": "3.8.5"
  }
 },
 "nbformat": 4,
 "nbformat_minor": 4
}
