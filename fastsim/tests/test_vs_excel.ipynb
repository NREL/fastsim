{
 "cells": [
  {
   "cell_type": "code",
   "execution_count": 54,
   "metadata": {},
   "outputs": [
    {
     "data": {
      "text/plain": [
       "<module 'fastsim.simdrivelabel' from 'c:\\\\users\\\\cbaker2\\\\documents\\\\projects\\\\fastsim\\\\github\\\\fastsim\\\\fastsim\\\\simdrivelabel.py'>"
      ]
     },
     "execution_count": 54,
     "metadata": {},
     "output_type": "execute_result"
    }
   ],
   "source": [
    "\"\"\"Test script that runs all the vehicles in both Excel and Python FASTSim for both UDDS and HWFET cycles.\"\"\"\n",
    "\n",
    "import xlwings as xw\n",
    "import pandas as pd\n",
    "import time\n",
    "import numpy as np\n",
    "import os\n",
    "import sys\n",
    "import importlib\n",
    "import xlwings as xw\n",
    "from math import isclose\n",
    "import importlib\n",
    "import pickle\n",
    "\n",
    "# local modules\n",
    "from fastsim.tests import test_vs_excel\n",
    "importlib.reload(test_vs_excel)\n",
    "from fastsim import cycle, vehicle, simdrive, simdrivelabel\n",
    "importlib.reload(simdrivelabel)"
   ]
  },
  {
   "cell_type": "code",
   "execution_count": 56,
   "metadata": {},
   "outputs": [],
   "source": [
    "# Ford C-Max PHEV\n",
    "veh = vehicle.Vehicle(14)\n",
    "cyc = cycle.Cycle('udds')\n",
    "sd = simdrive.SimDriveClassic(cyc, veh)\n",
    "sd.sim_drive(veh.maxSoc)\n",
    "label_fe = simdrivelabel.get_label_fe(veh, full_detail=True)\n",
    "udds = label_fe[0]['phev_calcs']['udds']"
   ]
  },
  {
   "cell_type": "code",
   "execution_count": 21,
   "metadata": {},
   "outputs": [
    {
     "name": "stdout",
     "output_type": "stream",
     "text": [
      "Instantiating classes.\n",
      "\n",
      "\n",
      "Elapsed time:  0.96 s\n"
     ]
    }
   ],
   "source": [
    "res_python = test_vs_excel.run_python(verbose=False, use_jit=True)\n",
    "# res_python = {'2016 FORD C-MAX (PHEV)':res_python['2016 FORD C-MAX (PHEV)']}"
   ]
  },
  {
   "cell_type": "code",
   "execution_count": 22,
   "metadata": {},
   "outputs": [],
   "source": [
    "res_excel = test_vs_excel.run_excel('res_excel.p')\n",
    "# res_excel = {'2016 FORD C-MAX (PHEV)':res_excel['2016 FORD C-MAX (PHEV)']}"
   ]
  },
  {
   "cell_type": "code",
   "execution_count": 23,
   "metadata": {},
   "outputs": [
    {
     "name": "stdout",
     "output_type": "stream",
     "text": [
      "\n",
      "\n",
      "2016 TOYOTA Highlander Hybrid\n",
      "*********************\n",
      "All values within error tolerance of 0.001\n",
      "\n",
      "\n",
      "2016 CHEVROLET Malibu 4cyl 2WD\n",
      "*********************\n",
      "All values within error tolerance of 0.001\n",
      "\n",
      "\n",
      "2016 FORD C-MAX (PHEV)\n",
      "*********************\n",
      "labUddsMpgge error = 0.915%\n",
      "labHwyMpgge error = 2.57%\n",
      "labCombMpgge error = 1.76%\n",
      "labCombKwhPerMile error = 3.43e+05%\n",
      "adjUddsMpgge error = 829%\n",
      "adjHwyMpgge error = 1.04e+03%\n",
      "adjCombMpgge error = 926%\n",
      "adjUddsKwhPerMile error = 2.09e+05%\n",
      "adjHwyKwhPerMile error = 2.13e+05%\n",
      "adjCombKwhPerMile error = 2.11e+05%\n",
      "\n",
      "\n",
      "2017 Prius Prime\n",
      "*********************\n",
      "labUddsMpgge error = -1.74%\n",
      "labHwyMpgge error = 1.87%\n",
      "labCombKwhPerMile error = 3.86e+05%\n",
      "adjUddsMpgge error = 671%\n",
      "adjHwyMpgge error = 703%\n",
      "adjCombMpgge error = 685%\n",
      "adjUddsKwhPerMile error = 2.58e+05%\n",
      "adjHwyKwhPerMile error = 2.15e+05%\n",
      "adjCombKwhPerMile error = 2.37e+05%\n",
      "\n",
      "\n",
      "2016 Leaf 24 kWh\n",
      "*********************\n",
      "All values within error tolerance of 0.001\n",
      "\n",
      "\n",
      "2016 FORD Explorer 4cyl 2WD\n",
      "*********************\n",
      "All values within error tolerance of 0.001\n",
      "\n",
      "\n",
      "2016 BMW i3 REx PHEV\n",
      "*********************\n",
      "labUddsMpgge error = 0.115%\n",
      "labHwyMpgge error = 1.37%\n",
      "labCombMpgge error = 0.862%\n",
      "labCombKwhPerMile error = 3.72e+05%\n",
      "adjUddsMpgge error = 55.8%\n",
      "adjHwyMpgge error = 171%\n",
      "adjCombMpgge error = 108%\n",
      "adjUddsKwhPerMile error = 2.48e+05%\n",
      "adjHwyKwhPerMile error = 2.01e+05%\n",
      "adjCombKwhPerMile error = 2.24e+05%\n",
      "\n",
      "\n",
      "2016 Nissan Leaf 30 kWh\n",
      "*********************\n",
      "All values within error tolerance of 0.001\n",
      "\n",
      "\n",
      "Toyota Mirai\n",
      "*********************\n",
      "adjUddsMpgge error = -3.65%\n",
      "adjHwyMpgge error = -6.75%\n",
      "adjCombMpgge error = -5.1%\n",
      "\n",
      "\n",
      "2016 BMW 328d 4cyl 2WD\n",
      "*********************\n",
      "All values within error tolerance of 0.001\n",
      "\n",
      "\n",
      "2016 KIA Optima Hybrid\n",
      "*********************\n",
      "All values within error tolerance of 0.001\n",
      "\n",
      "\n",
      "2016 TESLA Model S60 2WD\n",
      "*********************\n",
      "All values within error tolerance of 0.001\n",
      "\n",
      "\n",
      "2016 AUDI A3 4cyl 2WD\n",
      "*********************\n",
      "All values within error tolerance of 0.001\n",
      "\n",
      "\n",
      "Regional Delivery Class 8 Truck\n",
      "*********************\n",
      "adjUddsMpgge error = 1.41%\n",
      "adjHwyMpgge error = 3.26%\n",
      "adjCombMpgge error = 2.23%\n",
      "\n",
      "\n",
      "2016 FORD Escape 4cyl 2WD\n",
      "*********************\n",
      "All values within error tolerance of 0.001\n",
      "\n",
      "\n",
      "2016 Hyundai Tucson Fuel Cell\n",
      "*********************\n",
      "All values within error tolerance of 0.001\n",
      "\n",
      "\n",
      "2016 HYUNDAI Elantra 4cyl 2WD\n",
      "*********************\n",
      "All values within error tolerance of 0.001\n",
      "\n",
      "\n",
      "2016 HYUNDAI Sonata PHEV\n",
      "*********************\n",
      "labUddsMpgge error = -2.49%\n",
      "labHwyMpgge error = 3.88%\n",
      "labCombMpgge error = 0.435%\n",
      "labCombKwhPerMile error = 3.41e+05%\n",
      "adjUddsMpgge error = 718%\n",
      "adjHwyMpgge error = 784%\n",
      "adjCombMpgge error = 748%\n",
      "adjUddsKwhPerMile error = 2.03e+05%\n",
      "adjHwyKwhPerMile error = 2.06e+05%\n",
      "adjCombKwhPerMile error = 2.04e+05%\n",
      "\n",
      "\n",
      "2016 TOYOTA Corolla 4cyl 2WD\n",
      "*********************\n",
      "All values within error tolerance of 0.001\n",
      "\n",
      "\n",
      "2016 FORD C-MAX HEV\n",
      "*********************\n",
      "All values within error tolerance of 0.001\n",
      "\n",
      "\n",
      "2016 MITSUBISHI i-MiEV\n",
      "*********************\n",
      "All values within error tolerance of 0.001\n",
      "\n",
      "\n",
      "2016 CHEVROLET Spark EV\n",
      "*********************\n",
      "All values within error tolerance of 0.001\n",
      "\n",
      "\n",
      "2017 CHEVROLET Bolt\n",
      "*********************\n",
      "All values within error tolerance of 0.001\n",
      "\n",
      "\n",
      "2016 TOYOTA Camry 4cyl 2WD\n",
      "*********************\n",
      "All values within error tolerance of 0.001\n",
      "\n",
      "\n",
      "2016 CHEVROLET Volt\n",
      "*********************\n",
      "labUddsMpgge error = -0.947%\n",
      "labHwyMpgge error = 1.17%\n",
      "labCombMpgge error = 0.136%\n",
      "labCombKwhPerMile error = 3.73e+05%\n",
      "adjUddsMpgge error = 281%\n",
      "adjHwyMpgge error = 398%\n",
      "adjCombMpgge error = 334%\n",
      "adjUddsKwhPerMile error = 2.46e+05%\n",
      "adjHwyKwhPerMile error = 2.04e+05%\n",
      "adjCombKwhPerMile error = 2.25e+05%\n"
     ]
    }
   ],
   "source": [
    "res_comps = test_vs_excel.compare(res_python, res_excel)"
   ]
  },
  {
   "cell_type": "code",
   "execution_count": 24,
   "metadata": {},
   "outputs": [
    {
     "name": "stdout",
     "output_type": "stream",
     "text": [
      "labUddsMpgge : {excel : 39.98, python:39.98}\n",
      "labHwyMpgge : {excel : 49.96, python:49.96}\n",
      "labCombMpgge : {excel : 43.93, python:43.93}\n",
      "labUddsKwhPerMile : {excel : 0, python:0}\n",
      "labHwyKwhPerMile : {excel : 0, python:0}\n",
      "labCombKwhPerMile : {excel : 0, python:0}\n",
      "adjUddsMpgge : {excel : 30.5, python:30.5}\n",
      "adjHwyMpgge : {excel : 35.3, python:35.3}\n",
      "adjCombMpgge : {excel : 32.49, python:32.49}\n",
      "adjUddsKwhPerMile : {excel : 0, python:0}\n",
      "adjHwyKwhPerMile : {excel : 0, python:0}\n",
      "adjCombKwhPerMile : {excel : 0, python:0}\n"
     ]
    }
   ],
   "source": [
    "vehstr = \"2016 AUDI A3 4cyl 2WD\"\n",
    "for key in res_excel[vehstr].keys():\n",
    "    print(key + ' : {', end='')\n",
    "    print('excel : {:.4g}, '.format(res_excel[vehstr][key]), end='')\n",
    "    print('python:{:.4g}'.format(res_python[vehstr][key]) + '}')"
   ]
  },
  {
   "cell_type": "code",
   "execution_count": 25,
   "metadata": {},
   "outputs": [
    {
     "name": "stdout",
     "output_type": "stream",
     "text": [
      "labUddsMpgge : {excel : 125.7, python:126.8}\n",
      "labHwyMpgge : {excel : 97.49, python:100}\n",
      "labCombMpgge : {excel : 111.2, python:113.2}\n",
      "labUddsKwhPerMile : {excel : 0.1916, Not a scalar}\n",
      "labHwyKwhPerMile : {excel : 0.1972, Not a scalar}\n",
      "labCombKwhPerMile : {excel : 0.1941, python:666}\n",
      "adjUddsMpgge : {excel : 71.71, python:666}\n",
      "adjHwyMpgge : {excel : 58.18, python:666}\n",
      "adjCombMpgge : {excel : 64.92, python:666}\n",
      "adjUddsKwhPerMile : {excel : 0.3187, python:666}\n",
      "adjHwyKwhPerMile : {excel : 0.3121, python:666}\n",
      "adjCombKwhPerMile : {excel : 0.3158, python:666}\n"
     ]
    }
   ],
   "source": [
    "vehstr = '2016 FORD C-MAX (PHEV)'\n",
    "for key in res_excel[vehstr].keys():\n",
    "    print(key + ' : {', end='')\n",
    "    try:\n",
    "        print('excel : {:.4g}, '.format(res_excel[vehstr][key]), end='')\n",
    "        print('python:{:.4g}'.format(res_python[vehstr][key]) + '}')\n",
    "    except:\n",
    "        print('Not a scalar}')"
   ]
  }
 ],
 "metadata": {
  "kernelspec": {
   "display_name": "Python 3",
   "language": "python",
   "name": "python3"
  },
  "language_info": {
   "codemirror_mode": {
    "name": "ipython",
    "version": 3
   },
   "file_extension": ".py",
   "mimetype": "text/x-python",
   "name": "python",
   "nbconvert_exporter": "python",
   "pygments_lexer": "ipython3",
   "version": "3.8.5"
  }
 },
 "nbformat": 4,
 "nbformat_minor": 4
}
