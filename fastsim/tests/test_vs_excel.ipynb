{
 "cells": [
  {
   "cell_type": "code",
   "execution_count": 1,
   "metadata": {},
   "outputs": [],
   "source": [
    "\"\"\"Test script that runs all the vehicles in both Excel and Python FASTSim for both UDDS and HWFET cycles.\"\"\"\n",
    "\n",
    "import xlwings as xw\n",
    "import pandas as pd\n",
    "import time\n",
    "import numpy as np\n",
    "import os\n",
    "import sys\n",
    "import importlib\n",
    "import xlwings as xw\n",
    "from math import isclose\n",
    "import importlib\n",
    "import pickle\n",
    "\n",
    "# local modules\n",
    "from fastsim.tests import test_vs_excel"
   ]
  },
  {
   "cell_type": "code",
   "execution_count": 2,
   "metadata": {},
   "outputs": [
    {
     "name": "stdout",
     "output_type": "stream",
     "text": [
      "Instantiating classes.\n",
      "\n",
      "running PHEV SOC iteration\n",
      "running PHEV SOC iteration\n",
      "running PHEV SOC iteration\n",
      "running PHEV SOC iteration\n",
      "running PHEV SOC iteration\n",
      "running PHEV SOC iteration\n",
      "running PHEV SOC iteration\n",
      "running PHEV SOC iteration\n",
      "running PHEV SOC iteration\n",
      "running PHEV SOC iteration\n",
      "\n",
      "Elapsed time:  21.61 s\n"
     ]
    }
   ],
   "source": [
    "res_python = test_vs_excel.run_python(verbose=False, use_jit=False)"
   ]
  },
  {
   "cell_type": "code",
   "execution_count": 3,
   "metadata": {},
   "outputs": [],
   "source": [
    "res_excel = test_vs_excel.run_excel('res_excel.p')"
   ]
  },
  {
   "cell_type": "code",
   "execution_count": 4,
   "metadata": {},
   "outputs": [
    {
     "name": "stdout",
     "output_type": "stream",
     "text": [
      "\n",
      "\n",
      "2016 MITSUBISHI i-MiEV\n",
      "*********************\n",
      "All values within error tolerance of 0.001\n",
      "\n",
      "\n",
      "2016 TOYOTA Corolla 4cyl 2WD\n",
      "*********************\n",
      "All values within error tolerance of 0.001\n",
      "\n",
      "\n",
      "2016 KIA Optima Hybrid\n",
      "*********************\n",
      "All values within error tolerance of 0.001\n",
      "\n",
      "\n",
      "2016 CHEVROLET Malibu 4cyl 2WD\n",
      "*********************\n",
      "All values within error tolerance of 0.001\n",
      "\n",
      "\n",
      "2016 HYUNDAI Elantra 4cyl 2WD\n",
      "*********************\n",
      "All values within error tolerance of 0.001\n",
      "\n",
      "\n",
      "2016 Hyundai Tucson Fuel Cell\n",
      "*********************\n",
      "All values within error tolerance of 0.001\n",
      "\n",
      "\n",
      "2016 BMW i3 REx PHEV\n",
      "*********************\n",
      "You ran a PHEV, which is not working yet in python\n",
      "\n",
      "\n",
      "2016 CHEVROLET Spark EV\n",
      "*********************\n",
      "All values within error tolerance of 0.001\n",
      "\n",
      "\n",
      "2016 AUDI A3 4cyl 2WD\n",
      "*********************\n",
      "All values within error tolerance of 0.001\n",
      "\n",
      "\n",
      "2016 FORD C-MAX (PHEV)\n",
      "*********************\n",
      "You ran a PHEV, which is not working yet in python\n",
      "\n",
      "\n",
      "2016 CHEVROLET Volt\n",
      "*********************\n",
      "You ran a PHEV, which is not working yet in python\n",
      "\n",
      "\n",
      "2016 Leaf 24 kWh\n",
      "*********************\n",
      "All values within error tolerance of 0.001\n",
      "\n",
      "\n",
      "2016 FORD Explorer 4cyl 2WD\n",
      "*********************\n",
      "All values within error tolerance of 0.001\n",
      "\n",
      "\n",
      "2017 CHEVROLET Bolt\n",
      "*********************\n",
      "All values within error tolerance of 0.001\n",
      "\n",
      "\n",
      "2017 Prius Prime\n",
      "*********************\n",
      "You ran a PHEV, which is not working yet in python\n",
      "\n",
      "\n",
      "2016 Nissan Leaf 30 kWh\n",
      "*********************\n",
      "All values within error tolerance of 0.001\n",
      "\n",
      "\n",
      "Toyota Mirai\n",
      "*********************\n",
      "adjUddsMpgge error = -3.65%\n",
      "adjHwyMpgge error = -6.75%\n",
      "adjCombMpgge error = -5.1%\n",
      "\n",
      "\n",
      "2016 FORD C-MAX HEV\n",
      "*********************\n",
      "All values within error tolerance of 0.001\n",
      "\n",
      "\n",
      "2016 FORD Escape 4cyl 2WD\n",
      "*********************\n",
      "All values within error tolerance of 0.001\n",
      "\n",
      "\n",
      "Regional Delivery Class 8 Truck\n",
      "*********************\n",
      "adjUddsMpgge error = 1.41%\n",
      "adjHwyMpgge error = 3.26%\n",
      "adjCombMpgge error = 2.23%\n",
      "\n",
      "\n",
      "2016 BMW 328d 4cyl 2WD\n",
      "*********************\n",
      "All values within error tolerance of 0.001\n",
      "\n",
      "\n",
      "2016 TOYOTA Highlander Hybrid\n",
      "*********************\n",
      "All values within error tolerance of 0.001\n",
      "\n",
      "\n",
      "2016 TESLA Model S60 2WD\n",
      "*********************\n",
      "All values within error tolerance of 0.001\n",
      "\n",
      "\n",
      "2016 HYUNDAI Sonata PHEV\n",
      "*********************\n",
      "You ran a PHEV, which is not working yet in python\n",
      "\n",
      "\n",
      "2016 TOYOTA Camry 4cyl 2WD\n",
      "*********************\n",
      "All values within error tolerance of 0.001\n"
     ]
    }
   ],
   "source": [
    "res_comps = test_vs_excel.compare(res_python, res_excel)"
   ]
  },
  {
   "cell_type": "code",
   "execution_count": 23,
   "metadata": {},
   "outputs": [
    {
     "name": "stdout",
     "output_type": "stream",
     "text": [
      "labUddsMpgge : {excel : 39.98, python:39.98}\n",
      "labHwyMpgge : {excel : 49.96, python:49.96}\n",
      "labCombMpgge : {excel : 43.93, python:43.93}\n",
      "labUddsKwhPerMile : {excel : 0, python:0}\n",
      "labHwyKwhPerMile : {excel : 0, python:0}\n",
      "labCombKwhPerMile : {excel : 0, python:0}\n",
      "adjUddsMpgge : {excel : 30.5, python:30.5}\n",
      "adjHwyMpgge : {excel : 35.3, python:35.3}\n",
      "adjCombMpgge : {excel : 32.49, python:32.49}\n",
      "adjUddsKwhPerMile : {excel : 0, python:0}\n",
      "adjHwyKwhPerMile : {excel : 0, python:0}\n",
      "adjCombKwhPerMile : {excel : 0, python:0}\n"
     ]
    }
   ],
   "source": [
    "vehstr = \"2016 AUDI A3 4cyl 2WD\"\n",
    "for key in res_excel[vehstr].keys():\n",
    "    print(key + ' : {', end='')\n",
    "    print('excel : {:.4g}, '.format(res_excel[vehstr][key]), end='')\n",
    "    print('python:{:.4g}'.format(res_python[vehstr][key]) + '}')"
   ]
  },
  {
   "cell_type": "code",
   "execution_count": 25,
   "metadata": {},
   "outputs": [
    {
     "name": "stdout",
     "output_type": "stream",
     "text": [
      "labUddsMpgge : {excel : 57.8, python:57.8}\n",
      "labHwyMpgge : {excel : 54.68, python:54.68}\n",
      "labCombMpgge : {excel : 56.35, python:56.35}\n",
      "labUddsKwhPerMile : {excel : 0, python:0}\n",
      "labHwyKwhPerMile : {excel : 0, python:0}\n",
      "labCombKwhPerMile : {excel : 0, python:0}\n",
      "adjUddsMpgge : {excel : 42.22, python:42.22}\n",
      "adjHwyMpgge : {excel : 38.46, python:38.46}\n",
      "adjCombMpgge : {excel : 40.44, python:40.44}\n",
      "adjUddsKwhPerMile : {excel : 0, python:0}\n",
      "adjHwyKwhPerMile : {excel : 0, python:0}\n",
      "adjCombKwhPerMile : {excel : 0, python:0}\n"
     ]
    }
   ],
   "source": [
    "vehstr = '2016 FORD C-MAX HEV'\n",
    "for key in res_excel[vehstr].keys():\n",
    "    print(key + ' : {', end='')\n",
    "    print('excel : {:.4g}, '.format(res_excel[vehstr][key]), end='')\n",
    "    print('python:{:.4g}'.format(res_python[vehstr][key]) + '}')"
   ]
  },
  {
   "cell_type": "code",
   "execution_count": null,
   "metadata": {},
   "outputs": [],
   "source": []
  }
 ],
 "metadata": {
  "kernelspec": {
   "display_name": "Python 3",
   "language": "python",
   "name": "python3"
  },
  "language_info": {
   "codemirror_mode": {
    "name": "ipython",
    "version": 3
   },
   "file_extension": ".py",
   "mimetype": "text/x-python",
   "name": "python",
   "nbconvert_exporter": "python",
   "pygments_lexer": "ipython3",
   "version": "3.8.5"
  }
 },
 "nbformat": 4,
 "nbformat_minor": 4
}
